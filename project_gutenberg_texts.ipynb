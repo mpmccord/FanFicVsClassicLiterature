{
 "cells": [
  {
   "cell_type": "markdown",
   "id": "2a32130c",
   "metadata": {},
   "source": [
    "## Imports"
   ]
  },
  {
   "cell_type": "code",
   "execution_count": 4,
   "id": "208c68a7",
   "metadata": {},
   "outputs": [],
   "source": [
    "import os\n",
    "import requests\n",
    "import json"
   ]
  },
  {
   "cell_type": "markdown",
   "id": "405dcc83",
   "metadata": {},
   "source": [
    "## Download text"
   ]
  },
  {
   "cell_type": "markdown",
   "id": "0af40411",
   "metadata": {},
   "source": [
    "Downloads texts from Project Gutenberg via the http://corpus-db.org/docs API and saves them as txt files"
   ]
  },
  {
   "cell_type": "code",
   "execution_count": 2,
   "id": "3393501e",
   "metadata": {},
   "outputs": [],
   "source": [
    "# Project Gutenberg bookIds (update this list as need be)\n",
    "bookIds = [514, 1342, 1260, 768, 45, 1905, 145, 113] "
   ]
  },
  {
   "cell_type": "markdown",
   "id": "df1c9bdc",
   "metadata": {},
   "source": [
    "Given a bookId downloads and saves the corresponding text in a file named bookId.txt"
   ]
  },
  {
   "cell_type": "code",
   "execution_count": 3,
   "id": "1e923b1b",
   "metadata": {},
   "outputs": [
    {
     "name": "stdout",
     "output_type": "stream",
     "text": [
      "BookId: 514.0\n",
      "Status Code: 200\n",
      "\n",
      "BookId: 1342.0\n",
      "Status Code: 200\n",
      "\n",
      "BookId: 1260.0\n",
      "Status Code: 200\n",
      "\n",
      "BookId: 768.0\n",
      "Status Code: 200\n",
      "\n",
      "BookId: 45.0\n",
      "Status Code: 200\n",
      "\n",
      "BookId: 1905.0\n",
      "Status Code: 200\n",
      "\n",
      "BookId: 145.0\n",
      "Status Code: 200\n",
      "\n",
      "BookId: 113.0\n",
      "Status Code: 200\n",
      "\n"
     ]
    }
   ],
   "source": [
    "for bookId in bookIds: \n",
    "    \n",
    "    # Project Gutenberg requires bookIDs to be in float format\n",
    "    bookId = float(bookId)\n",
    "    print('BookId:', bookId)\n",
    "    \n",
    "    # API paths\n",
    "    fullTextURL = f'''http://corpus-db.org/api/id/{bookId}/fulltext'''\n",
    "\n",
    "    # Get the full text of the book via the url \n",
    "    request = requests.get(fullTextURL)\n",
    "    print('Status Code:', request.status_code) # success code = 200\n",
    "\n",
    "    # Extract the text from the novel\n",
    "    text = json.loads(request.text)[0]['text']\n",
    "\n",
    "    # Write the text to a txt file\n",
    "    with open (f'./data/classic_literature/{int(bookId)}.txt', 'w') as outFile: \n",
    "        outFile.write(text)\n",
    "\n",
    "    print()"
   ]
  },
  {
   "cell_type": "code",
   "execution_count": null,
   "id": "3a94a992",
   "metadata": {},
   "outputs": [],
   "source": []
  }
 ],
 "metadata": {
  "kernelspec": {
   "display_name": "Python 3 (ipykernel)",
   "language": "python",
   "name": "python3"
  },
  "language_info": {
   "codemirror_mode": {
    "name": "ipython",
    "version": 3
   },
   "file_extension": ".py",
   "mimetype": "text/x-python",
   "name": "python",
   "nbconvert_exporter": "python",
   "pygments_lexer": "ipython3",
   "version": "3.9.7"
  }
 },
 "nbformat": 4,
 "nbformat_minor": 5
}
