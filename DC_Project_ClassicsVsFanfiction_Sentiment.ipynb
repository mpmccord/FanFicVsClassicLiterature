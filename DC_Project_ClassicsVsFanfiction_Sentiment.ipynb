{
 "cells": [
  {
   "cell_type": "markdown",
   "metadata": {
    "id": "Bjz-4n_vDMl9"
   },
   "source": [
    "# Distributed Computing - Project 1\n",
    "\n",
    "\n",
    "\n"
   ]
  },
  {
   "cell_type": "markdown",
   "metadata": {
    "id": "br3PXqMvDfy-"
   },
   "source": [
    "## 1.Prepare Environment"
   ]
  },
  {
   "cell_type": "markdown",
   "metadata": {
    "id": "Q7mjzu90Ybqw"
   },
   "source": [
    "### 1.1 Install Java, Pyspark and Spark NLP"
   ]
  },
  {
   "cell_type": "code",
   "execution_count": 1,
   "metadata": {
    "id": "HjX4VDVVg1ZC"
   },
   "outputs": [],
   "source": [
    "#!apt-get update -qq\n",
    "#!apt-get install -y openjdk-8-jdk-headless -qq"
   ]
  },
  {
   "cell_type": "code",
   "execution_count": 2,
   "metadata": {
    "id": "Qo4KMeGCg1ZE",
    "outputId": "b0277d61-e7e0-4842-c25a-288248e3efe9"
   },
   "outputs": [
    {
     "name": "stdout",
     "output_type": "stream",
     "text": [
      "openjdk version \"1.8.0_312\"\n",
      "OpenJDK Runtime Environment (build 1.8.0_312-8u312-b07-0ubuntu1~20.04-b07)\n",
      "OpenJDK 64-Bit Server VM (build 25.312-b07, mixed mode)\n"
     ]
    }
   ],
   "source": [
    "import os\n",
    "#Install Java\n",
    "os.environ[\"JAVA_HOME\"] = \"/usr/lib/jvm/java-8-openjdk-amd64\"\n",
    "os.environ[\"PATH\"] = os.environ[\"JAVA_HOME\"] + \"/bin:\" + os.environ[\"PATH\"]\n",
    "! java -version"
   ]
  },
  {
   "cell_type": "code",
   "execution_count": 3,
   "metadata": {
    "id": "TcGxv3YuDnx4"
   },
   "outputs": [],
   "source": [
    "#Install Pyspark\n",
    "#! pip install --ignore-installed pyspark==2.4.4\n",
    "\n",
    "#Install Spark NLP\n",
    "#! pip install --ignore-installed spark-nlp==2.6.2"
   ]
  },
  {
   "cell_type": "markdown",
   "metadata": {
    "id": "mp2beC4FYesx"
   },
   "source": [
    "### 1.2 Start  Spark Session"
   ]
  },
  {
   "cell_type": "code",
   "execution_count": 4,
   "metadata": {
    "id": "TGDRKTctUzRF",
    "outputId": "aab2c2a3-41a0-45f6-d4b0-18eb6b19df39"
   },
   "outputs": [
    {
     "name": "stderr",
     "output_type": "stream",
     "text": [
      "22/04/13 18:54:35 WARN Utils: Your hostname, DSGPU05 resolves to a loopback address: 127.0.1.1; using 10.10.11.64 instead (on interface eno1)\n",
      "22/04/13 18:54:35 WARN Utils: Set SPARK_LOCAL_IP if you need to bind to another address\n"
     ]
    },
    {
     "name": "stdout",
     "output_type": "stream",
     "text": [
      ":: loading settings :: url = jar:file:/opt/spark-3.2.1-bin-hadoop3.2/jars/ivy-2.5.0.jar!/org/apache/ivy/core/settings/ivysettings.xml\n"
     ]
    },
    {
     "name": "stderr",
     "output_type": "stream",
     "text": [
      "Ivy Default Cache set to: /home/mmillan/.ivy2/cache\n",
      "The jars for the packages stored in: /home/mmillan/.ivy2/jars\n",
      "com.johnsnowlabs.nlp#spark-nlp-spark32_2.12 added as a dependency\n",
      ":: resolving dependencies :: org.apache.spark#spark-submit-parent-bf0250bb-d1bd-494c-9afa-a93d1e2ff3f9;1.0\n",
      "\tconfs: [default]\n",
      "\tfound com.johnsnowlabs.nlp#spark-nlp-spark32_2.12;3.4.2 in central\n",
      "\tfound com.typesafe#config;1.4.1 in central\n",
      "\tfound org.rocksdb#rocksdbjni;6.5.3 in central\n",
      "\tfound com.amazonaws#aws-java-sdk-bundle;1.11.603 in central\n",
      "\tfound com.github.universal-automata#liblevenshtein;3.0.0 in central\n",
      "\tfound com.google.code.findbugs#annotations;3.0.1 in central\n",
      "\tfound net.jcip#jcip-annotations;1.0 in central\n",
      "\tfound com.google.code.findbugs#jsr305;3.0.1 in central\n",
      "\tfound com.google.protobuf#protobuf-java-util;3.0.0-beta-3 in central\n",
      "\tfound com.google.protobuf#protobuf-java;3.0.0-beta-3 in central\n",
      "\tfound com.google.code.gson#gson;2.3 in central\n",
      "\tfound it.unimi.dsi#fastutil;7.0.12 in central\n",
      "\tfound org.projectlombok#lombok;1.16.8 in central\n",
      "\tfound org.slf4j#slf4j-api;1.7.21 in central\n",
      "\tfound com.navigamez#greex;1.0 in central\n",
      "\tfound dk.brics.automaton#automaton;1.11-8 in central\n",
      "\tfound org.json4s#json4s-ext_2.12;3.7.0-M11 in central\n",
      "\tfound joda-time#joda-time;2.10.10 in central\n",
      "\tfound org.joda#joda-convert;2.2.1 in central\n",
      "\tfound com.johnsnowlabs.nlp#tensorflow-cpu_2.12;0.3.3 in central\n",
      "\tfound net.sf.trove4j#trove4j;3.0.3 in central\n",
      ":: resolution report :: resolve 461ms :: artifacts dl 22ms\n",
      "\t:: modules in use:\n",
      "\tcom.amazonaws#aws-java-sdk-bundle;1.11.603 from central in [default]\n",
      "\tcom.github.universal-automata#liblevenshtein;3.0.0 from central in [default]\n",
      "\tcom.google.code.findbugs#annotations;3.0.1 from central in [default]\n",
      "\tcom.google.code.findbugs#jsr305;3.0.1 from central in [default]\n",
      "\tcom.google.code.gson#gson;2.3 from central in [default]\n",
      "\tcom.google.protobuf#protobuf-java;3.0.0-beta-3 from central in [default]\n",
      "\tcom.google.protobuf#protobuf-java-util;3.0.0-beta-3 from central in [default]\n",
      "\tcom.johnsnowlabs.nlp#spark-nlp-spark32_2.12;3.4.2 from central in [default]\n",
      "\tcom.johnsnowlabs.nlp#tensorflow-cpu_2.12;0.3.3 from central in [default]\n",
      "\tcom.navigamez#greex;1.0 from central in [default]\n",
      "\tcom.typesafe#config;1.4.1 from central in [default]\n",
      "\tdk.brics.automaton#automaton;1.11-8 from central in [default]\n",
      "\tit.unimi.dsi#fastutil;7.0.12 from central in [default]\n",
      "\tjoda-time#joda-time;2.10.10 from central in [default]\n",
      "\tnet.jcip#jcip-annotations;1.0 from central in [default]\n",
      "\tnet.sf.trove4j#trove4j;3.0.3 from central in [default]\n",
      "\torg.joda#joda-convert;2.2.1 from central in [default]\n",
      "\torg.json4s#json4s-ext_2.12;3.7.0-M11 from central in [default]\n",
      "\torg.projectlombok#lombok;1.16.8 from central in [default]\n",
      "\torg.rocksdb#rocksdbjni;6.5.3 from central in [default]\n",
      "\torg.slf4j#slf4j-api;1.7.21 from central in [default]\n",
      "\t---------------------------------------------------------------------\n",
      "\t|                  |            modules            ||   artifacts   |\n",
      "\t|       conf       | number| search|dwnlded|evicted|| number|dwnlded|\n",
      "\t---------------------------------------------------------------------\n",
      "\t|      default     |   21  |   0   |   0   |   0   ||   21  |   0   |\n",
      "\t---------------------------------------------------------------------\n",
      ":: retrieving :: org.apache.spark#spark-submit-parent-bf0250bb-d1bd-494c-9afa-a93d1e2ff3f9\n",
      "\tconfs: [default]\n",
      "\t0 artifacts copied, 21 already retrieved (0kB/12ms)\n",
      "22/04/13 18:54:36 WARN NativeCodeLoader: Unable to load native-hadoop library for your platform... using builtin-java classes where applicable\n",
      "Using Spark's default log4j profile: org/apache/spark/log4j-defaults.properties\n",
      "Setting default log level to \"WARN\".\n",
      "To adjust logging level use sc.setLogLevel(newLevel). For SparkR, use setLogLevel(newLevel).\n",
      "22/04/13 18:54:37 WARN Utils: Service 'SparkUI' could not bind on port 4040. Attempting port 4041.\n",
      "22/04/13 18:54:37 WARN Utils: Service 'SparkUI' could not bind on port 4041. Attempting port 4042.\n",
      "22/04/13 18:54:37 WARN Utils: Service 'SparkUI' could not bind on port 4042. Attempting port 4043.\n",
      "/opt/spark/python/lib/pyspark.zip/pyspark/sql/context.py:77: FutureWarning: Deprecated in 3.0.0. Use SparkSession.builder.getOrCreate() instead.\n"
     ]
    }
   ],
   "source": [
    "import sparknlp\n",
    "from sparknlp.pretrained import PretrainedPipeline\n",
    "from sparknlp.annotator import *\n",
    "from sparknlp.common import *\n",
    "from sparknlp.base import *\n",
    "\n",
    "from pyspark.sql import SparkSession\n",
    "from pyspark.ml import Pipeline\n",
    "from pyspark import SparkContext\n",
    "from pyspark import SparkConf\n",
    "from pyspark.sql import SQLContext\n",
    "\n",
    "import re\n",
    "\n",
    "#spark = sparknlp.start()\n",
    "spark = sparknlp.start(spark32=True)\n",
    "\n",
    "sqlContext = SQLContext(spark)"
   ]
  },
  {
   "cell_type": "markdown",
   "metadata": {
    "id": "qTvaEXcQU2pP"
   },
   "source": [
    "## 2.Get Classics Corpus"
   ]
  },
  {
   "cell_type": "markdown",
   "metadata": {
    "id": "XB-99X0IVCsH"
   },
   "source": [
    "### 2.1 Convert txt files into Python Dataframe"
   ]
  },
  {
   "cell_type": "code",
   "execution_count": 5,
   "metadata": {
    "id": "1jCVlB2AVt1c"
   },
   "outputs": [],
   "source": [
    "import pandas as pd\n",
    "import os\n",
    "import re"
   ]
  },
  {
   "cell_type": "code",
   "execution_count": 6,
   "metadata": {
    "id": "6ybHiAU2Vwz0"
   },
   "outputs": [],
   "source": [
    "#directory =\"/content/drive/MyDrive/Distributed-Computing/data/classic_literature/\" #Change according to path\n",
    "directory =\"data/classic_literature/\" #Change according to path\n",
    "text_type = 'C'\n",
    "\n",
    "classics_df = pd.DataFrame(columns=['id', 'type', 'text'])\n",
    "\n",
    "for filename in os.listdir(directory):\n",
    "#filename = \"data/classic_literature/45.txt\"\n",
    "    file_ext = os.path.basename(filename).rsplit('.',1)[1] #Get file extension\n",
    "    if file_ext == \"txt\":\n",
    "        with open(directory + '/' + filename, 'r') as file:\n",
    "            text_id = os.path.basename(filename).rsplit('.',1)[0]\n",
    "            corpus = file.read()\n",
    "            corpus = re.sub(';', ' ', corpus)\n",
    "            corpus = corpus.replace('Chapter', '')\n",
    "            classics_df.loc[len(classics_df.index)] = [text_id, text_type, corpus]"
   ]
  },
  {
   "cell_type": "code",
   "execution_count": 7,
   "metadata": {
    "colab": {
     "base_uri": "https://localhost:8080/",
     "height": 300
    },
    "id": "hMUL6ZGUV3U5",
    "outputId": "164d8c67-900f-47fd-cdbd-6a6d01fbe87b"
   },
   "outputs": [
    {
     "data": {
      "text/html": [
       "<div>\n",
       "<style scoped>\n",
       "    .dataframe tbody tr th:only-of-type {\n",
       "        vertical-align: middle;\n",
       "    }\n",
       "\n",
       "    .dataframe tbody tr th {\n",
       "        vertical-align: top;\n",
       "    }\n",
       "\n",
       "    .dataframe thead th {\n",
       "        text-align: right;\n",
       "    }\n",
       "</style>\n",
       "<table border=\"1\" class=\"dataframe\">\n",
       "  <thead>\n",
       "    <tr style=\"text-align: right;\">\n",
       "      <th></th>\n",
       "      <th>id</th>\n",
       "      <th>type</th>\n",
       "      <th>text</th>\n",
       "    </tr>\n",
       "  </thead>\n",
       "  <tbody>\n",
       "    <tr>\n",
       "      <th>0</th>\n",
       "      <td>1905</td>\n",
       "      <td>C</td>\n",
       "      <td>\\n\\n\\n\\n\\nTHE GOVERNESS \\n\\nOR, THE LITTLE FEM...</td>\n",
       "    </tr>\n",
       "    <tr>\n",
       "      <th>1</th>\n",
       "      <td>768</td>\n",
       "      <td>C</td>\n",
       "      <td>\\n\\n\\n\\nTranscribed from the 1910 John Murray ...</td>\n",
       "    </tr>\n",
       "    <tr>\n",
       "      <th>2</th>\n",
       "      <td>1342</td>\n",
       "      <td>C</td>\n",
       "      <td>\\n\\n\\n\\n\\nPRIDE AND PREJUDICE\\n\\nBy Jane Auste...</td>\n",
       "    </tr>\n",
       "    <tr>\n",
       "      <th>3</th>\n",
       "      <td>1260</td>\n",
       "      <td>C</td>\n",
       "      <td>\\n\\n\\n\\n\\nTranscribed from the 1897 Service &amp; ...</td>\n",
       "    </tr>\n",
       "    <tr>\n",
       "      <th>4</th>\n",
       "      <td>514</td>\n",
       "      <td>C</td>\n",
       "      <td>\\n\\n\\n\\nLITTLE WOMEN\\n\\n\\nby\\n\\nLouisa May Alc...</td>\n",
       "    </tr>\n",
       "    <tr>\n",
       "      <th>5</th>\n",
       "      <td>113</td>\n",
       "      <td>C</td>\n",
       "      <td>\\n\\n\\n\\n\\n\\n\\n\\n\\n\\n\\nIn Honor of Lisa Hart's ...</td>\n",
       "    </tr>\n",
       "    <tr>\n",
       "      <th>6</th>\n",
       "      <td>145</td>\n",
       "      <td>C</td>\n",
       "      <td>\\n\\n\\n\\n\\n\\n\\n\\n\\n\\n\\n\\n\\n\\n\\nMiddlemarch\\n\\n\\...</td>\n",
       "    </tr>\n",
       "    <tr>\n",
       "      <th>7</th>\n",
       "      <td>45</td>\n",
       "      <td>C</td>\n",
       "      <td>\\n\\n\\n\\n\\n                  ANNE OF GREEN GABL...</td>\n",
       "    </tr>\n",
       "  </tbody>\n",
       "</table>\n",
       "</div>"
      ],
      "text/plain": [
       "     id type                                               text\n",
       "0  1905    C  \\n\\n\\n\\n\\nTHE GOVERNESS \\n\\nOR, THE LITTLE FEM...\n",
       "1   768    C  \\n\\n\\n\\nTranscribed from the 1910 John Murray ...\n",
       "2  1342    C  \\n\\n\\n\\n\\nPRIDE AND PREJUDICE\\n\\nBy Jane Auste...\n",
       "3  1260    C  \\n\\n\\n\\n\\nTranscribed from the 1897 Service & ...\n",
       "4   514    C  \\n\\n\\n\\nLITTLE WOMEN\\n\\n\\nby\\n\\nLouisa May Alc...\n",
       "5   113    C  \\n\\n\\n\\n\\n\\n\\n\\n\\n\\n\\nIn Honor of Lisa Hart's ...\n",
       "6   145    C  \\n\\n\\n\\n\\n\\n\\n\\n\\n\\n\\n\\n\\n\\n\\nMiddlemarch\\n\\n\\...\n",
       "7    45    C  \\n\\n\\n\\n\\n                  ANNE OF GREEN GABL..."
      ]
     },
     "execution_count": 7,
     "metadata": {},
     "output_type": "execute_result"
    }
   ],
   "source": [
    "classics_df"
   ]
  },
  {
   "cell_type": "markdown",
   "metadata": {
    "id": "d4O7Ft9_VVGZ"
   },
   "source": [
    "### 2.2 Convert Python Dataframe into Spark Dataframe"
   ]
  },
  {
   "cell_type": "code",
   "execution_count": 8,
   "metadata": {
    "id": "puETLHbXWG-J"
   },
   "outputs": [],
   "source": [
    "df_Spark_classics = sqlContext.createDataFrame(classics_df) #Pyspark SQL dataframe"
   ]
  },
  {
   "cell_type": "code",
   "execution_count": 9,
   "metadata": {
    "id": "ATRk8V1dXcjR"
   },
   "outputs": [],
   "source": [
    "#df_Spark_classics.show()"
   ]
  },
  {
   "cell_type": "markdown",
   "metadata": {
    "id": "7tnqsgNLVqcr"
   },
   "source": [
    "## 3.Get Fanfictions Corpus"
   ]
  },
  {
   "cell_type": "markdown",
   "metadata": {
    "id": "O9AwiLtTX9Gf"
   },
   "source": [
    "### 3.1 Convert txt files into Python Dataframe"
   ]
  },
  {
   "cell_type": "code",
   "execution_count": 10,
   "metadata": {
    "id": "q_061UaIX8Wl"
   },
   "outputs": [],
   "source": [
    "#directory =\"/content/drive/MyDrive/Distributed-Computing/data/fanfiction/\" #Change according to path\n",
    "directory =\"data/fanfiction/\" #Change according to path\n",
    "text_type = 'F'\n",
    "\n",
    "fanfictions_df = pd.DataFrame(columns=['id', 'type', 'text'])\n",
    "\n",
    "for filename in os.listdir(directory):\n",
    "    file_ext = os.path.basename(filename).rsplit('.',1)[1] #Get file extension\n",
    "    if file_ext == \"txt\":\n",
    "        with open(directory + '/' + filename, 'r') as file:\n",
    "            text_id = os.path.basename(filename).rsplit('.',1)[0]\n",
    "            corpus = file.read()\n",
    "            corpus = corpus.replace('Chapter', '')\n",
    "            corpus = re.sub(';', ' ', corpus)\n",
    "            fanfictions_df.loc[len(fanfictions_df.index)] = [text_id, text_type, corpus]"
   ]
  },
  {
   "cell_type": "code",
   "execution_count": 11,
   "metadata": {
    "colab": {
     "base_uri": "https://localhost:8080/",
     "height": 331
    },
    "id": "iZ2UUw7D7QKt",
    "outputId": "819eb55a-1b3d-41b9-a469-decf732962e8"
   },
   "outputs": [
    {
     "data": {
      "text/html": [
       "<div>\n",
       "<style scoped>\n",
       "    .dataframe tbody tr th:only-of-type {\n",
       "        vertical-align: middle;\n",
       "    }\n",
       "\n",
       "    .dataframe tbody tr th {\n",
       "        vertical-align: top;\n",
       "    }\n",
       "\n",
       "    .dataframe thead th {\n",
       "        text-align: right;\n",
       "    }\n",
       "</style>\n",
       "<table border=\"1\" class=\"dataframe\">\n",
       "  <thead>\n",
       "    <tr style=\"text-align: right;\">\n",
       "      <th></th>\n",
       "      <th>id</th>\n",
       "      <th>type</th>\n",
       "      <th>text</th>\n",
       "    </tr>\n",
       "  </thead>\n",
       "  <tbody>\n",
       "    <tr>\n",
       "      <th>0</th>\n",
       "      <td>fanfic_1536152</td>\n",
       "      <td>F</td>\n",
       "      <td>1\\nGoing back was the worst.I had hoped that,...</td>\n",
       "    </tr>\n",
       "    <tr>\n",
       "      <th>1</th>\n",
       "      <td>fanfic_7441657</td>\n",
       "      <td>F</td>\n",
       "      <td>1\\nPrologue\\nOctober 31, 1981\\nThe view out t...</td>\n",
       "    </tr>\n",
       "    <tr>\n",
       "      <th>2</th>\n",
       "      <td>fanfic_25042705</td>\n",
       "      <td>F</td>\n",
       "      <td>1\\n“But, really,” said Mrs. Bennet rather lou...</td>\n",
       "    </tr>\n",
       "    <tr>\n",
       "      <th>3</th>\n",
       "      <td>fanfic_35367502</td>\n",
       "      <td>F</td>\n",
       "      <td>1\\n“Lily there’s a boy at the door!”\\nThe gin...</td>\n",
       "    </tr>\n",
       "    <tr>\n",
       "      <th>4</th>\n",
       "      <td>fanfic_36819574</td>\n",
       "      <td>F</td>\n",
       "      <td>1\\nI was born in sunlight, and dragged into d...</td>\n",
       "    </tr>\n",
       "    <tr>\n",
       "      <th>5</th>\n",
       "      <td>fanfic_24025603</td>\n",
       "      <td>F</td>\n",
       "      <td>1\\nDisclaimer: I, by no means, claim to own a...</td>\n",
       "    </tr>\n",
       "    <tr>\n",
       "      <th>6</th>\n",
       "      <td>fanfic_33183868</td>\n",
       "      <td>F</td>\n",
       "      <td>1\\n \\n\\n \\n\\nThere was something luminescent ...</td>\n",
       "    </tr>\n",
       "    <tr>\n",
       "      <th>7</th>\n",
       "      <td>fanfic_8523001</td>\n",
       "      <td>F</td>\n",
       "      <td>1\\nThere was such a cultural veil of secrecy ...</td>\n",
       "    </tr>\n",
       "    <tr>\n",
       "      <th>8</th>\n",
       "      <td>fanfic_23824330</td>\n",
       "      <td>F</td>\n",
       "      <td>1\\nAmy sits facing the window of her room. He...</td>\n",
       "    </tr>\n",
       "  </tbody>\n",
       "</table>\n",
       "</div>"
      ],
      "text/plain": [
       "                id type                                               text\n",
       "0   fanfic_1536152    F   1\\nGoing back was the worst.I had hoped that,...\n",
       "1   fanfic_7441657    F   1\\nPrologue\\nOctober 31, 1981\\nThe view out t...\n",
       "2  fanfic_25042705    F   1\\n“But, really,” said Mrs. Bennet rather lou...\n",
       "3  fanfic_35367502    F   1\\n“Lily there’s a boy at the door!”\\nThe gin...\n",
       "4  fanfic_36819574    F   1\\nI was born in sunlight, and dragged into d...\n",
       "5  fanfic_24025603    F   1\\nDisclaimer: I, by no means, claim to own a...\n",
       "6  fanfic_33183868    F   1\\n \\n\\n \\n\\nThere was something luminescent ...\n",
       "7   fanfic_8523001    F   1\\nThere was such a cultural veil of secrecy ...\n",
       "8  fanfic_23824330    F   1\\nAmy sits facing the window of her room. He..."
      ]
     },
     "execution_count": 11,
     "metadata": {},
     "output_type": "execute_result"
    }
   ],
   "source": [
    "fanfictions_df"
   ]
  },
  {
   "cell_type": "markdown",
   "metadata": {
    "id": "P_xfXM-JYCVe"
   },
   "source": [
    "### 3.2 Convert Python Dataframe into Spark Dataframe"
   ]
  },
  {
   "cell_type": "code",
   "execution_count": 12,
   "metadata": {
    "id": "D2nGH71mX71g"
   },
   "outputs": [],
   "source": [
    "df_Spark_fanfictions = sqlContext.createDataFrame(fanfictions_df) #Pyspark SQL dataframe"
   ]
  },
  {
   "cell_type": "markdown",
   "metadata": {
    "id": "s6AFS8-N8c1v"
   },
   "source": [
    "------------------------------------------------------------------------------------------------------------"
   ]
  },
  {
   "cell_type": "markdown",
   "metadata": {
    "id": "WWYC9fxrg1ZL"
   },
   "source": [
    "## 5 Sentiment Analysis"
   ]
  },
  {
   "cell_type": "markdown",
   "metadata": {
    "id": "ARlJ6uoIg1ZL"
   },
   "source": [
    "In this section we are retrieving the overall sentiment of each boook.\n",
    "\n",
    "For so, five different pipelines are being used, where each of them uses a different pre-trained model to identify sentiment.\n",
    "The combination of the three results will be used as final output to determine whether positive/negative sentiments predominates in classics or fanfictions."
   ]
  },
  {
   "cell_type": "markdown",
   "metadata": {
    "id": "sVwEQEE8g1ZL"
   },
   "source": [
    "### 5.1 Define Sentiment Analysis Spark NLP pipelines"
   ]
  },
  {
   "cell_type": "code",
   "execution_count": 13,
   "metadata": {
    "id": "klbIodwJg1ZL",
    "outputId": "fa324b63-293e-4e17-95a0-e6598f8285b2"
   },
   "outputs": [
    {
     "name": "stdout",
     "output_type": "stream",
     "text": [
      "tfhub_use download started this may take some time.\n",
      "Approximate size to download 923.7 MB\n",
      "[ | ]tfhub_use download started this may take some time.\n",
      "Approximate size to download 923.7 MB\n",
      "Download done! Loading the resource.\n",
      "[ | ]"
     ]
    },
    {
     "name": "stderr",
     "output_type": "stream",
     "text": [
      "2022-04-13 18:55:02.104383: I external/org_tensorflow/tensorflow/core/platform/cpu_feature_guard.cc:142] This TensorFlow binary is optimized with oneAPI Deep Neural Network Library (oneDNN) to use the following CPU instructions in performance-critical operations:  AVX2 AVX512F FMA\n",
      "To enable them in other operations, rebuild TensorFlow with the appropriate compiler flags.\n",
      "2022-04-13 18:55:02.433774: I external/org_tensorflow/tensorflow/core/platform/profile_utils/cpu_utils.cc:112] CPU Frequency: 2200000000 Hz\n"
     ]
    },
    {
     "name": "stdout",
     "output_type": "stream",
     "text": [
      "[OK!]\n",
      "classifierdl_use_emotion download started this may take some time.\n",
      "Approximate size to download 21.3 MB\n",
      "[ | ]classifierdl_use_emotion download started this may take some time.\n",
      "Approximate size to download 21.3 MB\n",
      "Download done! Loading the resource.\n",
      "[OK!]\n",
      "sentimentdl_use_twitter download started this may take some time.\n",
      "Approximate size to download 11.4 MB\n",
      "[ | ]sentimentdl_use_twitter download started this may take some time.\n",
      "Approximate size to download 11.4 MB\n",
      "Download done! Loading the resource.\n",
      "[OK!]\n",
      "sentimentdl_use_imdb download started this may take some time.\n",
      "Approximate size to download 12 MB\n",
      "[ | ]sentimentdl_use_imdb download started this may take some time.\n",
      "Approximate size to download 12 MB\n",
      "Download done! Loading the resource.\n",
      "[OK!]\n",
      "bert_sequence_classifier_emotion download started this may take some time.\n",
      "Approximate size to download 391.1 MB\n",
      "[ | ]bert_sequence_classifier_emotion download started this may take some time.\n",
      "Approximate size to download 391.1 MB\n",
      "Download done! Loading the resource.\n",
      "[OK!]\n"
     ]
    }
   ],
   "source": [
    "document = DocumentAssembler()\\\n",
    "    .setInputCol(\"text\")\\\n",
    "    .setOutputCol(\"document\") \\\n",
    "    .setCleanupMode(\"shrink_full\") #remove new lines and tabs, plus shrinking spaces and blank lines.\n",
    "\n",
    "token = Tokenizer()\\\n",
    "    .setInputCols(['document'])\\\n",
    "    .setOutputCol('token')\n",
    "\n",
    "normalizer = Normalizer() \\\n",
    "    .setInputCols([\"token\"]) \\\n",
    "    .setOutputCol(\"normalized\") \\\n",
    "    .setLowercase(True) \\\n",
    "    .setCleanupPatterns([\"\"\"[^A-Za-z]\"\"\"]) # remove punctuations and alphanumeric chars\n",
    "\n",
    "use = UniversalSentenceEncoder.pretrained(name=\"tfhub_use\", lang=\"en\")\\\n",
    " .setInputCols([\"document\"])\\\n",
    " .setOutputCol(\"sentence_embeddings\")\n",
    "\n",
    "document_classifier = ClassifierDLModel.pretrained('classifierdl_use_emotion') \\\n",
    "  .setInputCols([\"document\", \"sentence_embeddings\"]) \\\n",
    " .setOutputCol(\"sentiment\")\n",
    "\n",
    "sentiment1 = SentimentDLModel.pretrained(\"sentimentdl_use_twitter\")\\\n",
    " .setInputCols([\"sentence_embeddings\"])\\\n",
    " .setOutputCol(\"sentiment\")\n",
    "\n",
    "sentiment2 = SentimentDLModel.pretrained(\"sentimentdl_use_imdb\")\\\n",
    " .setInputCols([\"sentence_embeddings\"])\\\n",
    " .setOutputCol(\"sentiment\")\n",
    "\n",
    "sequenceClassifier1 = BertForSequenceClassification \\\n",
    "      .pretrained('bert_sequence_classifier_emotion', 'en') \\\n",
    "      .setInputCols(['normalized', 'document']) \\\n",
    "      .setOutputCol('sentiment')\n",
    "\n",
    "#sequenceClassifier2 = DistilBertForSequenceClassification \\\n",
    "#      .pretrained('distilbert_sequence_classifier_emotion', 'en') \\\n",
    "#      .setInputCols(['normalized', 'document']) \\\n",
    "#      .setOutputCol('sentiment')\n",
    "\n",
    "finisher = Finisher() \\\n",
    "    .setInputCols([\"sentiment\"]) \\\n",
    "    .setOutputCols(\"final_sentiment\")\\\n",
    "    .setOutputAsArray(True) \\\n",
    "    .setCleanAnnotations(False)"
   ]
  },
  {
   "cell_type": "markdown",
   "metadata": {
    "id": "n6nttHmgg1ZM"
   },
   "source": [
    "<b>Pipeline 1</b>"
   ]
  },
  {
   "cell_type": "markdown",
   "metadata": {
    "id": "lplpKZ6Ug1ZM"
   },
   "source": [
    "Pre-trained model: classifierdl_use_emotion from John Snow Labs (https://nlp.johnsnowlabs.com/2021/01/09/classifierdl_use_emotion_en.html)"
   ]
  },
  {
   "cell_type": "code",
   "execution_count": 14,
   "metadata": {
    "id": "T3an-uvHg1ZM"
   },
   "outputs": [],
   "source": [
    "nlpPipeline_sentiment1 = Pipeline(\n",
    "      stages = [document,\n",
    "                use,\n",
    "                document_classifier,\n",
    "                finisher])"
   ]
  },
  {
   "cell_type": "markdown",
   "metadata": {
    "id": "HG_-7F8ag1ZN"
   },
   "source": [
    "<b>Pipeline 2</b>"
   ]
  },
  {
   "cell_type": "markdown",
   "metadata": {
    "id": "Q5n-LQJ9g1ZN"
   },
   "source": [
    "Pre-trained model: sentimentdl_use_twitter from John Snow Labs (https://nlp.johnsnowlabs.com/2021/01/18/analyze_sentimentdl_use_twitter_en.html)"
   ]
  },
  {
   "cell_type": "code",
   "execution_count": 15,
   "metadata": {
    "id": "KSbO1NH2g1ZN"
   },
   "outputs": [],
   "source": [
    "nlpPipeline_sentiment2 = Pipeline(\n",
    "      stages = [document,\n",
    "                use,\n",
    "                sentiment1,\n",
    "                finisher])"
   ]
  },
  {
   "cell_type": "markdown",
   "metadata": {
    "id": "qrhT7jxtg1ZN"
   },
   "source": [
    "<b>Pipeline 3</b>"
   ]
  },
  {
   "cell_type": "markdown",
   "metadata": {
    "id": "QDFTepNwg1ZN"
   },
   "source": [
    "Pre-trained model: sentimentdl_use_imdb from John Snow Labs (https://nlp.johnsnowlabs.com/2021/01/15/analyze_sentimentdl_use_imdb_en.html)"
   ]
  },
  {
   "cell_type": "code",
   "execution_count": 16,
   "metadata": {
    "id": "SYjS4zB3g1ZN"
   },
   "outputs": [],
   "source": [
    "nlpPipeline_sentiment3 = Pipeline(\n",
    "      stages = [document,\n",
    "                use,\n",
    "                sentiment2,\n",
    "                finisher])"
   ]
  },
  {
   "cell_type": "markdown",
   "metadata": {
    "id": "juLBLFI7g1ZN"
   },
   "source": [
    "<b>Pipeline 4</b>"
   ]
  },
  {
   "cell_type": "markdown",
   "metadata": {
    "id": "cN8UuU9xg1ZO"
   },
   "source": [
    "Pre-trained model: bert_sequence_classifier_emotion from John Snow Labs (https://nlp.johnsnowlabs.com/2022/01/14/bert_sequence_classifier_emotion_en.html)"
   ]
  },
  {
   "cell_type": "code",
   "execution_count": 17,
   "metadata": {
    "id": "_oYUFWnKg1ZO"
   },
   "outputs": [],
   "source": [
    "nlpPipeline_sentiment4 = Pipeline(\n",
    "      stages = [document,  \n",
    "                token,\n",
    "                normalizer,\n",
    "                sequenceClassifier1, \n",
    "                finisher])"
   ]
  },
  {
   "cell_type": "markdown",
   "metadata": {
    "id": "USrCkmXSg1ZO"
   },
   "source": [
    " ### 5.2 Run the pipelines on Classics"
   ]
  },
  {
   "cell_type": "markdown",
   "metadata": {
    "id": "d8qk5vnEg1ZO"
   },
   "source": [
    "#### Sentiment Pipeline 1"
   ]
  },
  {
   "cell_type": "code",
   "execution_count": 18,
   "metadata": {
    "id": "2uAn0Yo6g1ZO",
    "outputId": "8c111a40-91fa-4559-bbf0-48ef9bda275b"
   },
   "outputs": [
    {
     "name": "stderr",
     "output_type": "stream",
     "text": [
      "22/04/13 18:55:39 WARN TaskSetManager: Stage 16 contains a task of very large size (1015 KiB). The maximum recommended task size is 1000 KiB.\n",
      "22/04/13 18:55:40 WARN TaskSetManager: Stage 17 contains a task of very large size (1765 KiB). The maximum recommended task size is 1000 KiB.\n",
      "                                                                                \r"
     ]
    },
    {
     "name": "stdout",
     "output_type": "stream",
     "text": [
      "+----------------------------------------------------------------------------------------------------+---------+\n",
      "|                                                                                              corpus|sentiment|\n",
      "+----------------------------------------------------------------------------------------------------+---------+\n",
      "|THE GOVERNESS OR, THE LITTLE FEMALE ACADEMY (1749) by Sarah Fielding There lived in the northern ...|      joy|\n",
      "|Transcribed from the 1910 John Murray edition by David Price, email ccx074@pglaf.org WUTHERING HE...|      joy|\n",
      "|PRIDE AND PREJUDICE By Jane Austen 1 It is a truth universally acknowledged, that a single man in...|      joy|\n",
      "|Transcribed from the 1897 Service & Paton edition by David Price, email ccx074@pglaf.org JANE EYR...|      joy|\n",
      "|LITTLE WOMEN by Louisa May Alcott CONTENTS PART 1 ONE PLAYING PILGRIMS TWO A MERRY CHRISTMAS THRE...|      joy|\n",
      "|In Honor of Lisa Hart's 9th Birthday THE SECRET GARDEN BY FRANCES HODGSON BURNETT Author of \"The ...|      joy|\n",
      "|Middlemarch By George Eliot New York and Boston H. M. Caldwell Company Publishers To my dear Husb...|      joy|\n",
      "|ANNE OF GREEN GABLES By Lucy Maud Montgomery Table of Contents CHAPTER I Mrs. Rachel Lynde Is Sur...|      joy|\n",
      "+----------------------------------------------------------------------------------------------------+---------+\n",
      "\n"
     ]
    }
   ],
   "source": [
    "sentiment_classics1 = nlpPipeline_sentiment1.fit(df_Spark_classics).transform(df_Spark_classics)\n",
    "sentiment_classics1_df = sentiment_classics1.selectExpr(\"explode(arrays_zip(document, sentiment)) as out\") \\\n",
    "                            .selectExpr(\"out.document.result as corpus\", \"out.sentiment.result as sentiment\")\n",
    "sentiment_classics1_df.show(20, truncate=100)"
   ]
  },
  {
   "cell_type": "markdown",
   "metadata": {
    "id": "qUX5Cvylg1ZO"
   },
   "source": [
    "#### Sentiment Pipeline 2"
   ]
  },
  {
   "cell_type": "code",
   "execution_count": 19,
   "metadata": {
    "id": "Z1X0KvR5g1ZP",
    "outputId": "82cd6659-26f0-466c-ff93-dab238a8cd10"
   },
   "outputs": [
    {
     "name": "stderr",
     "output_type": "stream",
     "text": [
      "22/04/13 18:55:42 WARN TaskSetManager: Stage 20 contains a task of very large size (1015 KiB). The maximum recommended task size is 1000 KiB.\n",
      "22/04/13 18:55:43 WARN TaskSetManager: Stage 21 contains a task of very large size (1765 KiB). The maximum recommended task size is 1000 KiB.\n",
      "                                                                                \r"
     ]
    },
    {
     "name": "stdout",
     "output_type": "stream",
     "text": [
      "+----------------------------------------------------------------------------------------------------+---------+\n",
      "|                                                                                              corpus|sentiment|\n",
      "+----------------------------------------------------------------------------------------------------+---------+\n",
      "|THE GOVERNESS OR, THE LITTLE FEMALE ACADEMY (1749) by Sarah Fielding There lived in the northern ...| positive|\n",
      "|Transcribed from the 1910 John Murray edition by David Price, email ccx074@pglaf.org WUTHERING HE...|  neutral|\n",
      "|PRIDE AND PREJUDICE By Jane Austen 1 It is a truth universally acknowledged, that a single man in...| positive|\n",
      "|Transcribed from the 1897 Service & Paton edition by David Price, email ccx074@pglaf.org JANE EYR...|  neutral|\n",
      "|LITTLE WOMEN by Louisa May Alcott CONTENTS PART 1 ONE PLAYING PILGRIMS TWO A MERRY CHRISTMAS THRE...| negative|\n",
      "|In Honor of Lisa Hart's 9th Birthday THE SECRET GARDEN BY FRANCES HODGSON BURNETT Author of \"The ...| positive|\n",
      "|Middlemarch By George Eliot New York and Boston H. M. Caldwell Company Publishers To my dear Husb...| positive|\n",
      "|ANNE OF GREEN GABLES By Lucy Maud Montgomery Table of Contents CHAPTER I Mrs. Rachel Lynde Is Sur...| negative|\n",
      "+----------------------------------------------------------------------------------------------------+---------+\n",
      "\n"
     ]
    }
   ],
   "source": [
    "sentiment_classics2 = nlpPipeline_sentiment2.fit(df_Spark_classics).transform(df_Spark_classics)\n",
    "sentiment_classics2_df = sentiment_classics2.selectExpr(\"explode(arrays_zip(document, sentiment)) as out\") \\\n",
    "                            .selectExpr(\"out.document.result as corpus\", \"out.sentiment.result as sentiment\")\n",
    "sentiment_classics2_df.show(20, truncate=100)"
   ]
  },
  {
   "cell_type": "markdown",
   "metadata": {
    "id": "Rvgn7Dn-g1ZP"
   },
   "source": [
    "#### Sentiment Pipeline 3"
   ]
  },
  {
   "cell_type": "code",
   "execution_count": 20,
   "metadata": {
    "id": "fXOodNiUg1ZP",
    "outputId": "6065c72c-a9d6-4699-83f2-faf00d7a429a"
   },
   "outputs": [
    {
     "name": "stderr",
     "output_type": "stream",
     "text": [
      "22/04/13 18:55:45 WARN TaskSetManager: Stage 24 contains a task of very large size (1015 KiB). The maximum recommended task size is 1000 KiB.\n",
      "22/04/13 18:55:46 WARN TaskSetManager: Stage 25 contains a task of very large size (1765 KiB). The maximum recommended task size is 1000 KiB.\n",
      "                                                                                \r"
     ]
    },
    {
     "name": "stdout",
     "output_type": "stream",
     "text": [
      "+----------------------------------------------------------------------------------------------------+---------+\n",
      "|                                                                                              corpus|sentiment|\n",
      "+----------------------------------------------------------------------------------------------------+---------+\n",
      "|THE GOVERNESS OR, THE LITTLE FEMALE ACADEMY (1749) by Sarah Fielding There lived in the northern ...|      pos|\n",
      "|Transcribed from the 1910 John Murray edition by David Price, email ccx074@pglaf.org WUTHERING HE...|      pos|\n",
      "|PRIDE AND PREJUDICE By Jane Austen 1 It is a truth universally acknowledged, that a single man in...|      pos|\n",
      "|Transcribed from the 1897 Service & Paton edition by David Price, email ccx074@pglaf.org JANE EYR...|      pos|\n",
      "|LITTLE WOMEN by Louisa May Alcott CONTENTS PART 1 ONE PLAYING PILGRIMS TWO A MERRY CHRISTMAS THRE...|      pos|\n",
      "|In Honor of Lisa Hart's 9th Birthday THE SECRET GARDEN BY FRANCES HODGSON BURNETT Author of \"The ...|      pos|\n",
      "|Middlemarch By George Eliot New York and Boston H. M. Caldwell Company Publishers To my dear Husb...|      pos|\n",
      "|ANNE OF GREEN GABLES By Lucy Maud Montgomery Table of Contents CHAPTER I Mrs. Rachel Lynde Is Sur...|      pos|\n",
      "+----------------------------------------------------------------------------------------------------+---------+\n",
      "\n"
     ]
    }
   ],
   "source": [
    "sentiment_classics3 = nlpPipeline_sentiment3.fit(df_Spark_classics).transform(df_Spark_classics)\n",
    "sentiment_classics3_df = sentiment_classics3.selectExpr(\"explode(arrays_zip(document, sentiment)) as out\") \\\n",
    "                            .selectExpr(\"out.document.result as corpus\", \"out.sentiment.result as sentiment\")\n",
    "sentiment_classics3_df.show(20, truncate=100)"
   ]
  },
  {
   "cell_type": "markdown",
   "metadata": {
    "id": "2d8dgHFTg1ZP"
   },
   "source": [
    "#### Sentiment Pipeline 4"
   ]
  },
  {
   "cell_type": "code",
   "execution_count": 21,
   "metadata": {
    "id": "TAR62EHBg1ZP",
    "outputId": "5a1f6a63-bd07-4f8c-9a78-d5874025d276"
   },
   "outputs": [
    {
     "name": "stderr",
     "output_type": "stream",
     "text": [
      "22/04/13 18:55:53 WARN TaskSetManager: Stage 28 contains a task of very large size (1015 KiB). The maximum recommended task size is 1000 KiB.\n",
      "22/04/13 18:56:00 WARN TaskSetManager: Stage 29 contains a task of very large size (1765 KiB). The maximum recommended task size is 1000 KiB.\n",
      "                                                                                \r"
     ]
    },
    {
     "name": "stdout",
     "output_type": "stream",
     "text": [
      "+----------------------------------------------------------------------------------------------------+---------+\n",
      "|                                                                                              corpus|sentiment|\n",
      "+----------------------------------------------------------------------------------------------------+---------+\n",
      "|THE GOVERNESS OR, THE LITTLE FEMALE ACADEMY (1749) by Sarah Fielding There lived in the northern ...|     love|\n",
      "|Transcribed from the 1910 John Murray edition by David Price, email ccx074@pglaf.org WUTHERING HE...|  sadness|\n",
      "|PRIDE AND PREJUDICE By Jane Austen 1 It is a truth universally acknowledged, that a single man in...|      joy|\n",
      "|Transcribed from the 1897 Service & Paton edition by David Price, email ccx074@pglaf.org JANE EYR...|      joy|\n",
      "|LITTLE WOMEN by Louisa May Alcott CONTENTS PART 1 ONE PLAYING PILGRIMS TWO A MERRY CHRISTMAS THRE...|      joy|\n",
      "|In Honor of Lisa Hart's 9th Birthday THE SECRET GARDEN BY FRANCES HODGSON BURNETT Author of \"The ...|     fear|\n",
      "|Middlemarch By George Eliot New York and Boston H. M. Caldwell Company Publishers To my dear Husb...|      joy|\n",
      "|ANNE OF GREEN GABLES By Lucy Maud Montgomery Table of Contents CHAPTER I Mrs. Rachel Lynde Is Sur...|    anger|\n",
      "+----------------------------------------------------------------------------------------------------+---------+\n",
      "\n"
     ]
    }
   ],
   "source": [
    "sentiment_classics4 = nlpPipeline_sentiment4.fit(df_Spark_classics).transform(df_Spark_classics)\n",
    "sentiment_classics4_df = sentiment_classics4.selectExpr(\"explode(arrays_zip(document, sentiment)) as out\") \\\n",
    "                            .selectExpr(\"out.document.result as corpus\", \"out.sentiment.result as sentiment\")\n",
    "sentiment_classics4_df.show(20, truncate=100)"
   ]
  },
  {
   "cell_type": "markdown",
   "metadata": {
    "id": "dVM7bCO9g1ZQ"
   },
   "source": [
    "#### Classics Sentiment Evaluation"
   ]
  },
  {
   "cell_type": "code",
   "execution_count": 22,
   "metadata": {
    "id": "G-ltzvpcg1ZQ"
   },
   "outputs": [],
   "source": [
    "#sentiment_classics5_df = sentiment_classics5.selectExpr(\"explode(arrays_zip(document, sentiment)) as out\") \\\n",
    "#    .selectExpr(\"out.document.result as corpus\", \"out.sentiment.result as sentiment\")"
   ]
  },
  {
   "cell_type": "code",
   "execution_count": 23,
   "metadata": {
    "id": "DMJpPhJYg1ZQ"
   },
   "outputs": [],
   "source": [
    "#sentiment_classics5_df.show(20, truncate=100)"
   ]
  },
  {
   "cell_type": "code",
   "execution_count": 24,
   "metadata": {
    "id": "GxH2MNqNg1ZQ"
   },
   "outputs": [],
   "source": [
    "#Get distinct sentiments\n",
    "#sentiment_classics5_df.select(\"sentiment\").distinct().count()"
   ]
  },
  {
   "cell_type": "code",
   "execution_count": 25,
   "metadata": {
    "id": "Cj1cFBxYg1ZQ"
   },
   "outputs": [],
   "source": [
    "#Sentiment counts\n",
    "#sentiment_classics5_df.groupBy(\"sentiment\").count().show()"
   ]
  },
  {
   "cell_type": "code",
   "execution_count": 26,
   "metadata": {
    "id": "AlccuNyfg1ZQ"
   },
   "outputs": [],
   "source": [
    "#type(sentiment_classics5_df)"
   ]
  },
  {
   "cell_type": "code",
   "execution_count": 27,
   "metadata": {
    "id": "kS-_wXSdg1ZQ",
    "outputId": "ce0a1a8a-6365-4da9-8122-46e2c2f7e089"
   },
   "outputs": [
    {
     "name": "stderr",
     "output_type": "stream",
     "text": [
      "22/04/13 18:56:11 WARN TaskSetManager: Stage 30 contains a task of very large size (1015 KiB). The maximum recommended task size is 1000 KiB.\n",
      "22/04/13 18:56:13 WARN TaskSetManager: Stage 31 contains a task of very large size (1015 KiB). The maximum recommended task size is 1000 KiB.\n",
      "22/04/13 18:56:14 WARN TaskSetManager: Stage 32 contains a task of very large size (1015 KiB). The maximum recommended task size is 1000 KiB.\n",
      "22/04/13 18:56:15 WARN TaskSetManager: Stage 33 contains a task of very large size (1015 KiB). The maximum recommended task size is 1000 KiB.\n",
      "                                                                                \r"
     ]
    }
   ],
   "source": [
    "sentiment_classics1_pd_df = sentiment_classics1_df.toPandas()\n",
    "sentiment_classics2_pd_df = sentiment_classics2_df.toPandas()\n",
    "sentiment_classics3_pd_df = sentiment_classics3_df.toPandas()\n",
    "sentiment_classics4_pd_df = sentiment_classics4_df.toPandas()"
   ]
  },
  {
   "cell_type": "code",
   "execution_count": 28,
   "metadata": {
    "id": "xX3IYMQ9g1ZR"
   },
   "outputs": [],
   "source": [
    "classics_sentiment_pd_df = pd.concat([sentiment_classics1_pd_df, sentiment_classics2_pd_df, \n",
    "                                      sentiment_classics3_pd_df, sentiment_classics4_pd_df])"
   ]
  },
  {
   "cell_type": "code",
   "execution_count": 29,
   "metadata": {
    "id": "vU6Kge3ug1ZR"
   },
   "outputs": [],
   "source": [
    "#Group positive-pos and negative-neg into positive and negative categories\n",
    "classics_sentiment_pd_df = classics_sentiment_pd_df.replace(['pos'],'positive')\n",
    "classics_sentiment_pd_df = classics_sentiment_pd_df.replace(['neg'],'negative')"
   ]
  },
  {
   "cell_type": "code",
   "execution_count": 30,
   "metadata": {
    "id": "lPq5BQj8g1ZR"
   },
   "outputs": [],
   "source": [
    "#Add type column with Classic tag\n",
    "classics_sentiment_pd_df[\"type\"] = \"classic\""
   ]
  },
  {
   "cell_type": "code",
   "execution_count": 31,
   "metadata": {
    "id": "ypcgrHw1g1ZR",
    "outputId": "f0d6eee9-9a9d-448b-d192-3ba759702d57"
   },
   "outputs": [
    {
     "data": {
      "text/html": [
       "<div>\n",
       "<style scoped>\n",
       "    .dataframe tbody tr th:only-of-type {\n",
       "        vertical-align: middle;\n",
       "    }\n",
       "\n",
       "    .dataframe tbody tr th {\n",
       "        vertical-align: top;\n",
       "    }\n",
       "\n",
       "    .dataframe thead th {\n",
       "        text-align: right;\n",
       "    }\n",
       "</style>\n",
       "<table border=\"1\" class=\"dataframe\">\n",
       "  <thead>\n",
       "    <tr style=\"text-align: right;\">\n",
       "      <th></th>\n",
       "      <th>corpus</th>\n",
       "      <th>sentiment</th>\n",
       "      <th>type</th>\n",
       "    </tr>\n",
       "  </thead>\n",
       "  <tbody>\n",
       "    <tr>\n",
       "      <th>0</th>\n",
       "      <td>THE GOVERNESS OR, THE LITTLE FEMALE ACADEMY (1...</td>\n",
       "      <td>joy</td>\n",
       "      <td>classic</td>\n",
       "    </tr>\n",
       "    <tr>\n",
       "      <th>1</th>\n",
       "      <td>Transcribed from the 1910 John Murray edition ...</td>\n",
       "      <td>joy</td>\n",
       "      <td>classic</td>\n",
       "    </tr>\n",
       "    <tr>\n",
       "      <th>2</th>\n",
       "      <td>PRIDE AND PREJUDICE By Jane Austen 1 It is a t...</td>\n",
       "      <td>joy</td>\n",
       "      <td>classic</td>\n",
       "    </tr>\n",
       "    <tr>\n",
       "      <th>3</th>\n",
       "      <td>Transcribed from the 1897 Service &amp; Paton edit...</td>\n",
       "      <td>joy</td>\n",
       "      <td>classic</td>\n",
       "    </tr>\n",
       "    <tr>\n",
       "      <th>4</th>\n",
       "      <td>LITTLE WOMEN by Louisa May Alcott CONTENTS PAR...</td>\n",
       "      <td>joy</td>\n",
       "      <td>classic</td>\n",
       "    </tr>\n",
       "  </tbody>\n",
       "</table>\n",
       "</div>"
      ],
      "text/plain": [
       "                                              corpus sentiment     type\n",
       "0  THE GOVERNESS OR, THE LITTLE FEMALE ACADEMY (1...       joy  classic\n",
       "1  Transcribed from the 1910 John Murray edition ...       joy  classic\n",
       "2  PRIDE AND PREJUDICE By Jane Austen 1 It is a t...       joy  classic\n",
       "3  Transcribed from the 1897 Service & Paton edit...       joy  classic\n",
       "4  LITTLE WOMEN by Louisa May Alcott CONTENTS PAR...       joy  classic"
      ]
     },
     "execution_count": 31,
     "metadata": {},
     "output_type": "execute_result"
    }
   ],
   "source": [
    "classics_sentiment_pd_df.head()"
   ]
  },
  {
   "cell_type": "code",
   "execution_count": 32,
   "metadata": {
    "id": "l_BI4Y9Gg1ZR",
    "outputId": "f379a685-621a-4c36-e0fa-a339d2abcd59"
   },
   "outputs": [
    {
     "data": {
      "text/plain": [
       "<AxesSubplot:>"
      ]
     },
     "execution_count": 32,
     "metadata": {},
     "output_type": "execute_result"
    },
    {
     "data": {
      "image/png": "[encoded data removed]",
      "text/plain": [
       "<Figure size 432x288 with 1 Axes>"
      ]
     },
     "metadata": {
      "needs_background": "light"
     },
     "output_type": "display_data"
    }
   ],
   "source": [
    "classics_sentiment_pd_df['sentiment'].value_counts().plot.bar()"
   ]
  },
  {
   "cell_type": "markdown",
   "metadata": {
    "id": "96VfAhLig1ZR"
   },
   "source": [
    " ### 5.3 Run the pipelines on Fanfictions"
   ]
  },
  {
   "cell_type": "markdown",
   "metadata": {
    "id": "-sEh-dFMg1ZR"
   },
   "source": [
    "#### Sentiment Pipeline 1"
   ]
  },
  {
   "cell_type": "code",
   "execution_count": 33,
   "metadata": {
    "id": "odYKVpHBg1ZS",
    "outputId": "9c135fdc-3ba8-4c82-a0ee-48de0ad2e97c"
   },
   "outputs": [
    {
     "name": "stderr",
     "output_type": "stream",
     "text": [
      "22/04/13 18:56:31 WARN TaskSetManager: Stage 36 contains a task of very large size (1495 KiB). The maximum recommended task size is 1000 KiB.\n",
      "22/04/13 18:56:32 WARN TaskSetManager: Stage 37 contains a task of very large size (1290 KiB). The maximum recommended task size is 1000 KiB.\n",
      "                                                                                \r"
     ]
    },
    {
     "name": "stdout",
     "output_type": "stream",
     "text": [
      "+----------------------------------------------------------------------------------------------------+---------+\n",
      "|                                                                                              corpus|sentiment|\n",
      "+----------------------------------------------------------------------------------------------------+---------+\n",
      "|1 Going back was the worst.I had hoped that, after a case like mine, I’d be moved to another scho...|     fear|\n",
      "|1 Prologue October 31, 1981 The view out the window was dark. The new moon had come a few days be...| surprise|\n",
      "|1 “But, really,” said Mrs. Bennet rather loudly, placing her teacup back into the saucer with a l...|      joy|\n",
      "|1 “Lily there’s a boy at the door!” The ginger haired girl quickly looks over her shoulder at her...| surprise|\n",
      "|1 I was born in sunlight, and dragged into darkness. A child, pure before becoming cursed.I watch...|     fear|\n",
      "|1 Disclaimer: I, by no means, claim to own anything remotely related to the Glee or Pitch Perfect...|      joy|\n",
      "|1     There was something luminescent about Susie. Something about her that just drew Noelle’s ey...| surprise|\n",
      "|1 There was such a cultural veil of secrecy drawn about one’s soulmark, that it was not until Mis...|      joy|\n",
      "|1 Amy sits facing the window of her room. Her phone is propped up on her desk, which is littered ...|      joy|\n",
      "+----------------------------------------------------------------------------------------------------+---------+\n",
      "\n"
     ]
    }
   ],
   "source": [
    "sentiment_fanfictions1 = nlpPipeline_sentiment1.fit(df_Spark_fanfictions).transform(df_Spark_fanfictions)\n",
    "sentiment_fanfictions1_df = sentiment_fanfictions1.selectExpr(\"explode(arrays_zip(document, sentiment)) as out\") \\\n",
    "                        .selectExpr(\"out.document.result as corpus\", \"out.sentiment.result as sentiment\")\n",
    "sentiment_fanfictions1_df.show(20, truncate=100)"
   ]
  },
  {
   "cell_type": "markdown",
   "metadata": {
    "id": "3MWcx43cg1ZS"
   },
   "source": [
    "#### Sentiment Pipeline 2"
   ]
  },
  {
   "cell_type": "code",
   "execution_count": 34,
   "metadata": {
    "id": "6UX1dWrPg1ZS",
    "outputId": "bdfed247-b2a3-4db1-9264-cc6ac91c59a3"
   },
   "outputs": [
    {
     "name": "stderr",
     "output_type": "stream",
     "text": [
      "22/04/13 18:56:34 WARN TaskSetManager: Stage 40 contains a task of very large size (1495 KiB). The maximum recommended task size is 1000 KiB.\n",
      "22/04/13 18:56:35 WARN TaskSetManager: Stage 41 contains a task of very large size (1290 KiB). The maximum recommended task size is 1000 KiB.\n",
      "                                                                                \r"
     ]
    },
    {
     "name": "stdout",
     "output_type": "stream",
     "text": [
      "+----------------------------------------------------------------------------------------------------+---------+\n",
      "|                                                                                              corpus|sentiment|\n",
      "+----------------------------------------------------------------------------------------------------+---------+\n",
      "|1 Going back was the worst.I had hoped that, after a case like mine, I’d be moved to another scho...| positive|\n",
      "|1 Prologue October 31, 1981 The view out the window was dark. The new moon had come a few days be...| positive|\n",
      "|1 “But, really,” said Mrs. Bennet rather loudly, placing her teacup back into the saucer with a l...| negative|\n",
      "|1 “Lily there’s a boy at the door!” The ginger haired girl quickly looks over her shoulder at her...| positive|\n",
      "|1 I was born in sunlight, and dragged into darkness. A child, pure before becoming cursed.I watch...|  neutral|\n",
      "|1 Disclaimer: I, by no means, claim to own anything remotely related to the Glee or Pitch Perfect...| negative|\n",
      "|1     There was something luminescent about Susie. Something about her that just drew Noelle’s ey...|  neutral|\n",
      "|1 There was such a cultural veil of secrecy drawn about one’s soulmark, that it was not until Mis...| positive|\n",
      "|1 Amy sits facing the window of her room. Her phone is propped up on her desk, which is littered ...| negative|\n",
      "+----------------------------------------------------------------------------------------------------+---------+\n",
      "\n"
     ]
    }
   ],
   "source": [
    "sentiment_fanfictions2 = nlpPipeline_sentiment2.fit(df_Spark_fanfictions).transform(df_Spark_fanfictions)\n",
    "sentiment_fanfictions2_df = sentiment_fanfictions2.selectExpr(\"explode(arrays_zip(document, sentiment)) as out\") \\\n",
    "                        .selectExpr(\"out.document.result as corpus\", \"out.sentiment.result as sentiment\")\n",
    "sentiment_fanfictions2_df.show(20, truncate=100)"
   ]
  },
  {
   "cell_type": "markdown",
   "metadata": {
    "id": "cZmUesQkg1ZS"
   },
   "source": [
    "#### Sentiment Pipeline 3"
   ]
  },
  {
   "cell_type": "code",
   "execution_count": 35,
   "metadata": {
    "id": "ZYU0dCS_g1ZS",
    "outputId": "2a3a8cd4-b1ba-4dfb-e09b-f04e00b41317"
   },
   "outputs": [
    {
     "name": "stderr",
     "output_type": "stream",
     "text": [
      "22/04/13 18:56:37 WARN TaskSetManager: Stage 44 contains a task of very large size (1495 KiB). The maximum recommended task size is 1000 KiB.\n",
      "22/04/13 18:56:39 WARN TaskSetManager: Stage 45 contains a task of very large size (1290 KiB). The maximum recommended task size is 1000 KiB.\n",
      "                                                                                \r"
     ]
    },
    {
     "name": "stdout",
     "output_type": "stream",
     "text": [
      "+----------------------------------------------------------------------------------------------------+---------+\n",
      "|                                                                                              corpus|sentiment|\n",
      "+----------------------------------------------------------------------------------------------------+---------+\n",
      "|1 Going back was the worst.I had hoped that, after a case like mine, I’d be moved to another scho...|      neg|\n",
      "|1 Prologue October 31, 1981 The view out the window was dark. The new moon had come a few days be...|      neg|\n",
      "|1 “But, really,” said Mrs. Bennet rather loudly, placing her teacup back into the saucer with a l...|      pos|\n",
      "|1 “Lily there’s a boy at the door!” The ginger haired girl quickly looks over her shoulder at her...|      neg|\n",
      "|1 I was born in sunlight, and dragged into darkness. A child, pure before becoming cursed.I watch...|      neg|\n",
      "|1 Disclaimer: I, by no means, claim to own anything remotely related to the Glee or Pitch Perfect...|      neg|\n",
      "|1     There was something luminescent about Susie. Something about her that just drew Noelle’s ey...|      pos|\n",
      "|1 There was such a cultural veil of secrecy drawn about one’s soulmark, that it was not until Mis...|      pos|\n",
      "|1 Amy sits facing the window of her room. Her phone is propped up on her desk, which is littered ...|      pos|\n",
      "+----------------------------------------------------------------------------------------------------+---------+\n",
      "\n"
     ]
    }
   ],
   "source": [
    "sentiment_fanfictions3 = nlpPipeline_sentiment3.fit(df_Spark_fanfictions).transform(df_Spark_fanfictions)\n",
    "sentiment_fanfictions3_df = sentiment_fanfictions3.selectExpr(\"explode(arrays_zip(document, sentiment)) as out\") \\\n",
    "                        .selectExpr(\"out.document.result as corpus\", \"out.sentiment.result as sentiment\")\n",
    "sentiment_fanfictions3_df.show(20, truncate=100)"
   ]
  },
  {
   "cell_type": "markdown",
   "metadata": {
    "id": "Gklbx6QMg1ZS"
   },
   "source": [
    "#### Sentiment Pipeline 4"
   ]
  },
  {
   "cell_type": "code",
   "execution_count": 36,
   "metadata": {
    "id": "EugDR4mcg1ZT",
    "outputId": "0784dda4-e162-426a-ce37-382dc67f402f"
   },
   "outputs": [
    {
     "name": "stderr",
     "output_type": "stream",
     "text": [
      "22/04/13 18:56:45 WARN TaskSetManager: Stage 48 contains a task of very large size (1495 KiB). The maximum recommended task size is 1000 KiB.\n",
      "22/04/13 18:56:56 WARN TaskSetManager: Stage 49 contains a task of very large size (1290 KiB). The maximum recommended task size is 1000 KiB.\n",
      "                                                                                \r"
     ]
    },
    {
     "name": "stdout",
     "output_type": "stream",
     "text": [
      "+----------------------------------------------------------------------------------------------------+---------+\n",
      "|                                                                                              corpus|sentiment|\n",
      "+----------------------------------------------------------------------------------------------------+---------+\n",
      "|1 Going back was the worst.I had hoped that, after a case like mine, I’d be moved to another scho...|    anger|\n",
      "|1 Prologue October 31, 1981 The view out the window was dark. The new moon had come a few days be...|      joy|\n",
      "|1 “But, really,” said Mrs. Bennet rather loudly, placing her teacup back into the saucer with a l...|      joy|\n",
      "|1 “Lily there’s a boy at the door!” The ginger haired girl quickly looks over her shoulder at her...|  sadness|\n",
      "|1 I was born in sunlight, and dragged into darkness. A child, pure before becoming cursed.I watch...|     love|\n",
      "|1 Disclaimer: I, by no means, claim to own anything remotely related to the Glee or Pitch Perfect...|  sadness|\n",
      "|1     There was something luminescent about Susie. Something about her that just drew Noelle’s ey...|     fear|\n",
      "|1 There was such a cultural veil of secrecy drawn about one’s soulmark, that it was not until Mis...|     love|\n",
      "|1 Amy sits facing the window of her room. Her phone is propped up on her desk, which is littered ...|    anger|\n",
      "+----------------------------------------------------------------------------------------------------+---------+\n",
      "\n"
     ]
    }
   ],
   "source": [
    "sentiment_fanfictions4 = nlpPipeline_sentiment4.fit(df_Spark_fanfictions).transform(df_Spark_fanfictions)\n",
    "sentiment_fanfictions4_df = sentiment_fanfictions4.selectExpr(\"explode(arrays_zip(document, sentiment)) as out\") \\\n",
    "                        .selectExpr(\"out.document.result as corpus\", \"out.sentiment.result as sentiment\")\n",
    "sentiment_fanfictions4_df.show(20, truncate=100)"
   ]
  },
  {
   "cell_type": "markdown",
   "metadata": {
    "id": "Q7Ei9kx0g1ZT"
   },
   "source": [
    "#### Fanfictions Sentiment Evaluation"
   ]
  },
  {
   "cell_type": "code",
   "execution_count": 37,
   "metadata": {
    "id": "Psb_5vf1g1ZT",
    "outputId": "85b6112a-8c97-4b86-d94b-34c115aa8eeb"
   },
   "outputs": [
    {
     "name": "stderr",
     "output_type": "stream",
     "text": [
      "22/04/13 18:57:04 WARN TaskSetManager: Stage 50 contains a task of very large size (1495 KiB). The maximum recommended task size is 1000 KiB.\n",
      "22/04/13 18:57:06 WARN TaskSetManager: Stage 51 contains a task of very large size (1495 KiB). The maximum recommended task size is 1000 KiB.\n",
      "22/04/13 18:57:07 WARN TaskSetManager: Stage 52 contains a task of very large size (1495 KiB). The maximum recommended task size is 1000 KiB.\n",
      "22/04/13 18:57:09 WARN TaskSetManager: Stage 53 contains a task of very large size (1495 KiB). The maximum recommended task size is 1000 KiB.\n",
      "                                                                                \r"
     ]
    }
   ],
   "source": [
    "sentiment_fanfictions1_pd_df = sentiment_fanfictions1_df.toPandas()\n",
    "sentiment_fanfictions2_pd_df = sentiment_fanfictions2_df.toPandas()\n",
    "sentiment_fanfictions3_pd_df = sentiment_fanfictions3_df.toPandas()\n",
    "sentiment_fanfictions4_pd_df = sentiment_fanfictions4_df.toPandas()"
   ]
  },
  {
   "cell_type": "code",
   "execution_count": 38,
   "metadata": {
    "id": "56vvEzpzg1ZT"
   },
   "outputs": [],
   "source": [
    "fanfictions_sentiment_pd_df = pd.concat([sentiment_fanfictions1_pd_df, sentiment_fanfictions2_pd_df, \n",
    "                                         sentiment_fanfictions3_pd_df, sentiment_fanfictions4_pd_df])"
   ]
  },
  {
   "cell_type": "code",
   "execution_count": 39,
   "metadata": {
    "id": "MNUXhcUrg1ZT"
   },
   "outputs": [],
   "source": [
    "#Group positive-pos and negative-neg into positive and negative categories\n",
    "fanfictions_sentiment_pd_df = fanfictions_sentiment_pd_df.replace(['pos'],'positive')\n",
    "fanfictions_sentiment_pd_df = fanfictions_sentiment_pd_df.replace(['neg'],'negative')"
   ]
  },
  {
   "cell_type": "code",
   "execution_count": 40,
   "metadata": {
    "id": "2unPnCZtg1ZT"
   },
   "outputs": [],
   "source": [
    "#fanfictions_sentiment_pd_df.loc[fanfictions_sentiment_pd_df['sentiment'] == 'neg'] #Check that replace was performed"
   ]
  },
  {
   "cell_type": "code",
   "execution_count": 41,
   "metadata": {
    "id": "_ZU4AjL5g1ZT"
   },
   "outputs": [],
   "source": [
    "#Add type column with Classic tag\n",
    "fanfictions_sentiment_pd_df[\"type\"] = \"fanfiction\""
   ]
  },
  {
   "cell_type": "code",
   "execution_count": 42,
   "metadata": {
    "id": "oAEsyj7dg1ZU",
    "outputId": "811d0c31-d5dc-4d84-e470-10762274f47b"
   },
   "outputs": [
    {
     "data": {
      "text/html": [
       "<div>\n",
       "<style scoped>\n",
       "    .dataframe tbody tr th:only-of-type {\n",
       "        vertical-align: middle;\n",
       "    }\n",
       "\n",
       "    .dataframe tbody tr th {\n",
       "        vertical-align: top;\n",
       "    }\n",
       "\n",
       "    .dataframe thead th {\n",
       "        text-align: right;\n",
       "    }\n",
       "</style>\n",
       "<table border=\"1\" class=\"dataframe\">\n",
       "  <thead>\n",
       "    <tr style=\"text-align: right;\">\n",
       "      <th></th>\n",
       "      <th>corpus</th>\n",
       "      <th>sentiment</th>\n",
       "      <th>type</th>\n",
       "    </tr>\n",
       "  </thead>\n",
       "  <tbody>\n",
       "    <tr>\n",
       "      <th>0</th>\n",
       "      <td>1 Going back was the worst.I had hoped that, a...</td>\n",
       "      <td>fear</td>\n",
       "      <td>fanfiction</td>\n",
       "    </tr>\n",
       "    <tr>\n",
       "      <th>1</th>\n",
       "      <td>1 Prologue October 31, 1981 The view out the w...</td>\n",
       "      <td>surprise</td>\n",
       "      <td>fanfiction</td>\n",
       "    </tr>\n",
       "    <tr>\n",
       "      <th>2</th>\n",
       "      <td>1 “But, really,” said Mrs. Bennet rather loudl...</td>\n",
       "      <td>joy</td>\n",
       "      <td>fanfiction</td>\n",
       "    </tr>\n",
       "    <tr>\n",
       "      <th>3</th>\n",
       "      <td>1 “Lily there’s a boy at the door!” The ginger...</td>\n",
       "      <td>surprise</td>\n",
       "      <td>fanfiction</td>\n",
       "    </tr>\n",
       "    <tr>\n",
       "      <th>4</th>\n",
       "      <td>1 I was born in sunlight, and dragged into dar...</td>\n",
       "      <td>fear</td>\n",
       "      <td>fanfiction</td>\n",
       "    </tr>\n",
       "  </tbody>\n",
       "</table>\n",
       "</div>"
      ],
      "text/plain": [
       "                                              corpus sentiment        type\n",
       "0  1 Going back was the worst.I had hoped that, a...      fear  fanfiction\n",
       "1  1 Prologue October 31, 1981 The view out the w...  surprise  fanfiction\n",
       "2  1 “But, really,” said Mrs. Bennet rather loudl...       joy  fanfiction\n",
       "3  1 “Lily there’s a boy at the door!” The ginger...  surprise  fanfiction\n",
       "4  1 I was born in sunlight, and dragged into dar...      fear  fanfiction"
      ]
     },
     "execution_count": 42,
     "metadata": {},
     "output_type": "execute_result"
    }
   ],
   "source": [
    "fanfictions_sentiment_pd_df.head()"
   ]
  },
  {
   "cell_type": "code",
   "execution_count": 43,
   "metadata": {
    "id": "UbUqb2eNg1ZU",
    "outputId": "7d11db88-58c3-4322-932d-673305ec83a9"
   },
   "outputs": [
    {
     "data": {
      "text/plain": [
       "<AxesSubplot:>"
      ]
     },
     "execution_count": 43,
     "metadata": {},
     "output_type": "execute_result"
    },
    {
     "data": {
      "image/png": "[encoded data removed]",
      "text/plain": [
       "<Figure size 432x288 with 1 Axes>"
      ]
     },
     "metadata": {
      "needs_background": "light"
     },
     "output_type": "display_data"
    }
   ],
   "source": [
    "fanfictions_sentiment_pd_df['sentiment'].value_counts().plot.bar()"
   ]
  },
  {
   "cell_type": "markdown",
   "metadata": {
    "id": "NDjMB6jMg1ZU"
   },
   "source": [
    "### 5.4 Sentiment Visualization"
   ]
  },
  {
   "cell_type": "code",
   "execution_count": 67,
   "metadata": {},
   "outputs": [],
   "source": [
    "import seaborn as sns\n",
    "import matplotlib.pylab as plt"
   ]
  },
  {
   "cell_type": "code",
   "execution_count": 52,
   "metadata": {
    "id": "VPKNM9tCg1ZU"
   },
   "outputs": [],
   "source": [
    "#join classic and fanfic sentiment dataframes\n",
    "sentiment_df = pd.concat([classics_sentiment_pd_df, fanfictions_sentiment_pd_df]).reset_index(drop=True)"
   ]
  },
  {
   "cell_type": "code",
   "execution_count": 53,
   "metadata": {
    "id": "z2QP1todg1ZU",
    "outputId": "78e30628-5012-4aa9-a6cb-e29587448c4a"
   },
   "outputs": [
    {
     "data": {
      "text/html": [
       "<div>\n",
       "<style scoped>\n",
       "    .dataframe tbody tr th:only-of-type {\n",
       "        vertical-align: middle;\n",
       "    }\n",
       "\n",
       "    .dataframe tbody tr th {\n",
       "        vertical-align: top;\n",
       "    }\n",
       "\n",
       "    .dataframe thead th {\n",
       "        text-align: right;\n",
       "    }\n",
       "</style>\n",
       "<table border=\"1\" class=\"dataframe\">\n",
       "  <thead>\n",
       "    <tr style=\"text-align: right;\">\n",
       "      <th></th>\n",
       "      <th>corpus</th>\n",
       "      <th>sentiment</th>\n",
       "      <th>type</th>\n",
       "    </tr>\n",
       "  </thead>\n",
       "  <tbody>\n",
       "    <tr>\n",
       "      <th>0</th>\n",
       "      <td>THE GOVERNESS OR, THE LITTLE FEMALE ACADEMY (1...</td>\n",
       "      <td>joy</td>\n",
       "      <td>classic</td>\n",
       "    </tr>\n",
       "    <tr>\n",
       "      <th>1</th>\n",
       "      <td>Transcribed from the 1910 John Murray edition ...</td>\n",
       "      <td>joy</td>\n",
       "      <td>classic</td>\n",
       "    </tr>\n",
       "    <tr>\n",
       "      <th>2</th>\n",
       "      <td>PRIDE AND PREJUDICE By Jane Austen 1 It is a t...</td>\n",
       "      <td>joy</td>\n",
       "      <td>classic</td>\n",
       "    </tr>\n",
       "    <tr>\n",
       "      <th>3</th>\n",
       "      <td>Transcribed from the 1897 Service &amp; Paton edit...</td>\n",
       "      <td>joy</td>\n",
       "      <td>classic</td>\n",
       "    </tr>\n",
       "    <tr>\n",
       "      <th>4</th>\n",
       "      <td>LITTLE WOMEN by Louisa May Alcott CONTENTS PAR...</td>\n",
       "      <td>joy</td>\n",
       "      <td>classic</td>\n",
       "    </tr>\n",
       "    <tr>\n",
       "      <th>...</th>\n",
       "      <td>...</td>\n",
       "      <td>...</td>\n",
       "      <td>...</td>\n",
       "    </tr>\n",
       "    <tr>\n",
       "      <th>63</th>\n",
       "      <td>1 I was born in sunlight, and dragged into dar...</td>\n",
       "      <td>love</td>\n",
       "      <td>fanfiction</td>\n",
       "    </tr>\n",
       "    <tr>\n",
       "      <th>64</th>\n",
       "      <td>1 Disclaimer: I, by no means, claim to own any...</td>\n",
       "      <td>sadness</td>\n",
       "      <td>fanfiction</td>\n",
       "    </tr>\n",
       "    <tr>\n",
       "      <th>65</th>\n",
       "      <td>1     There was something luminescent about Su...</td>\n",
       "      <td>fear</td>\n",
       "      <td>fanfiction</td>\n",
       "    </tr>\n",
       "    <tr>\n",
       "      <th>66</th>\n",
       "      <td>1 There was such a cultural veil of secrecy dr...</td>\n",
       "      <td>love</td>\n",
       "      <td>fanfiction</td>\n",
       "    </tr>\n",
       "    <tr>\n",
       "      <th>67</th>\n",
       "      <td>1 Amy sits facing the window of her room. Her ...</td>\n",
       "      <td>anger</td>\n",
       "      <td>fanfiction</td>\n",
       "    </tr>\n",
       "  </tbody>\n",
       "</table>\n",
       "<p>68 rows × 3 columns</p>\n",
       "</div>"
      ],
      "text/plain": [
       "                                               corpus sentiment        type\n",
       "0   THE GOVERNESS OR, THE LITTLE FEMALE ACADEMY (1...       joy     classic\n",
       "1   Transcribed from the 1910 John Murray edition ...       joy     classic\n",
       "2   PRIDE AND PREJUDICE By Jane Austen 1 It is a t...       joy     classic\n",
       "3   Transcribed from the 1897 Service & Paton edit...       joy     classic\n",
       "4   LITTLE WOMEN by Louisa May Alcott CONTENTS PAR...       joy     classic\n",
       "..                                                ...       ...         ...\n",
       "63  1 I was born in sunlight, and dragged into dar...      love  fanfiction\n",
       "64  1 Disclaimer: I, by no means, claim to own any...   sadness  fanfiction\n",
       "65  1     There was something luminescent about Su...      fear  fanfiction\n",
       "66  1 There was such a cultural veil of secrecy dr...      love  fanfiction\n",
       "67  1 Amy sits facing the window of her room. Her ...     anger  fanfiction\n",
       "\n",
       "[68 rows x 3 columns]"
      ]
     },
     "execution_count": 53,
     "metadata": {},
     "output_type": "execute_result"
    }
   ],
   "source": [
    "sentiment_df"
   ]
  },
  {
   "cell_type": "code",
   "execution_count": 74,
   "metadata": {},
   "outputs": [
    {
     "data": {
      "text/plain": [
       "(array([0, 1, 2, 3, 4, 5, 6, 7, 8]),\n",
       " [Text(0, 0, 'joy'),\n",
       "  Text(1, 0, 'positive'),\n",
       "  Text(2, 0, 'negative'),\n",
       "  Text(3, 0, 'neutral'),\n",
       "  Text(4, 0, 'anger'),\n",
       "  Text(5, 0, 'fear'),\n",
       "  Text(6, 0, 'love'),\n",
       "  Text(7, 0, 'sadness'),\n",
       "  Text(8, 0, 'surprise')])"
      ]
     },
     "execution_count": 74,
     "metadata": {},
     "output_type": "execute_result"
    },
    {
     "data": {
      "image/png": "[encoded data removed]",
      "text/plain": [
       "<Figure size 432x288 with 1 Axes>"
      ]
     },
     "metadata": {
      "needs_background": "light"
     },
     "output_type": "display_data"
    }
   ],
   "source": [
    "x, y, hue = \"sentiment\", \"proportion\", \"type\"\n",
    "hue_order = [\"classic\", \"fanfiction\"]\n",
    "\n",
    "(sentiment_df[x]\n",
    " .groupby(sentiment_df[hue])\n",
    " .value_counts(normalize=True)\n",
    " .rename(y)\n",
    " .reset_index()\n",
    " .pipe((sns.barplot, \"data\"), x=x, y=y, hue=hue))\n",
    "plt.xticks(rotation=45)\n"
   ]
  }
 ],
 "metadata": {
  "colab": {
   "collapsed_sections": [
    "br3PXqMvDfy-",
    "Q7mjzu90Ybqw",
    "mp2beC4FYesx"
   ],
   "name": "Cp_DC_Project_ClassicsVsFanfiction_Jupyter.ipynb",
   "provenance": []
  },
  "kernelspec": {
   "display_name": "Python 3 (ipykernel)",
   "language": "python",
   "name": "python3"
  },
  "language_info": {
   "codemirror_mode": {
    "name": "ipython",
    "version": 3
   },
   "file_extension": ".py",
   "mimetype": "text/x-python",
   "name": "python",
   "nbconvert_exporter": "python",
   "pygments_lexer": "ipython3",
   "version": "3.8.10"
  },
  "toc-autonumbering": false
 },
 "nbformat": 4,
 "nbformat_minor": 4
}
