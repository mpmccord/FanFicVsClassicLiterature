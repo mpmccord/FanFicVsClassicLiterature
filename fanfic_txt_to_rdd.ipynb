{
 "cells": [
  {
   "cell_type": "markdown",
   "id": "788ff9ae-fefc-41a9-a7d2-6be19dba9927",
   "metadata": {},
   "source": [
    "# Read Fanfictions into a dataframe"
   ]
  },
  {
   "cell_type": "markdown",
   "id": "ff258112-46aa-4d42-b490-8731911fc610",
   "metadata": {},
   "source": [
    "Reads all fanfiction files within '\\data\\fanfiction' and generates a dataframe where each row is one book. Each row is composed of 3 values (columns): text_id: id from Archieve of Our Own text_type: 'F' - for Fanfiction text: pre-cleaned text\n",
    "\n"
   ]
  },
  {
   "cell_type": "code",
   "execution_count": null,
   "id": "d67e6c8f-a4e7-42f5-a22b-daadaf997fb0",
   "metadata": {},
   "outputs": [],
   "source": [
    "# I needed to change the name of fanfiction txt files from \"fanfic_1536152.txt\" to \"1536152.txt\" to run the code."
   ]
  },
  {
   "cell_type": "code",
   "execution_count": 3,
   "id": "1890891b-bbf2-463e-96a5-4849c57713c3",
   "metadata": {},
   "outputs": [],
   "source": [
    "import pandas as pd\n",
    "import os\n",
    "import re\n",
    "\n",
    "#fileName = \"data/fanfiction/1536152.txt\"\n",
    "directory =\"data/fanfiction/\"\n",
    "text_type = 'F'\n",
    "\n",
    "fanfic_df = pd.DataFrame(columns=['id', 'type', 'text'])\n",
    "\n",
    "for filename in os.listdir(directory):\n",
    "#filename = \"data/fanfiction/1536152.txt\"\n",
    "    file_ext = os.path.basename(filename).rsplit('.',1)[1] #Get file extension\n",
    "    if file_ext == \"txt\":\n",
    "        with open(directory + '/' + filename, 'r') as file:\n",
    "            text_id = os.path.basename(filename).rsplit('.',1)[0]\n",
    "            corpus = file.read().lower().replace('chapter', '').replace('\\n', '')\n",
    "            corpus = re.sub('\\W+',' ', corpus ) #Remove special characters and punctuation\n",
    "            #corpus = re.sub('[!,*)@#%(&$_?^]·.-;', ' ', corpus)\n",
    "            fanfic_df.loc[len(fanfic_df.index)] = [text_id, text_type, corpus]"
   ]
  },
  {
   "cell_type": "code",
   "execution_count": 4,
   "id": "bb8b84c1-dd6a-4ce5-9759-ec3840d1a76c",
   "metadata": {},
   "outputs": [
    {
     "data": {
      "text/html": [
       "<div>\n",
       "<style scoped>\n",
       "    .dataframe tbody tr th:only-of-type {\n",
       "        vertical-align: middle;\n",
       "    }\n",
       "\n",
       "    .dataframe tbody tr th {\n",
       "        vertical-align: top;\n",
       "    }\n",
       "\n",
       "    .dataframe thead th {\n",
       "        text-align: right;\n",
       "    }\n",
       "</style>\n",
       "<table border=\"1\" class=\"dataframe\">\n",
       "  <thead>\n",
       "    <tr style=\"text-align: right;\">\n",
       "      <th></th>\n",
       "      <th>id</th>\n",
       "      <th>type</th>\n",
       "      <th>text</th>\n",
       "    </tr>\n",
       "  </thead>\n",
       "  <tbody>\n",
       "    <tr>\n",
       "      <th>0</th>\n",
       "      <td>7441657</td>\n",
       "      <td>F</td>\n",
       "      <td>1prologueoctober 31 1981the view out the wind...</td>\n",
       "    </tr>\n",
       "    <tr>\n",
       "      <th>1</th>\n",
       "      <td>1536152</td>\n",
       "      <td>F</td>\n",
       "      <td>1going back was the worst i had hoped that af...</td>\n",
       "    </tr>\n",
       "    <tr>\n",
       "      <th>2</th>\n",
       "      <td>24025603</td>\n",
       "      <td>F</td>\n",
       "      <td>1disclaimer i by no means claim to own anythi...</td>\n",
       "    </tr>\n",
       "    <tr>\n",
       "      <th>3</th>\n",
       "      <td>25042705</td>\n",
       "      <td>F</td>\n",
       "      <td>1 but really said mrs bennet rather loudly pl...</td>\n",
       "    </tr>\n",
       "    <tr>\n",
       "      <th>4</th>\n",
       "      <td>33183868</td>\n",
       "      <td>F</td>\n",
       "      <td>1 there was something luminescent about susie...</td>\n",
       "    </tr>\n",
       "    <tr>\n",
       "      <th>5</th>\n",
       "      <td>8523001</td>\n",
       "      <td>F</td>\n",
       "      <td>1there was such a cultural veil of secrecy dr...</td>\n",
       "    </tr>\n",
       "    <tr>\n",
       "      <th>6</th>\n",
       "      <td>35367502</td>\n",
       "      <td>F</td>\n",
       "      <td>1 lily there s a boy at the door the ginger h...</td>\n",
       "    </tr>\n",
       "    <tr>\n",
       "      <th>7</th>\n",
       "      <td>23824330</td>\n",
       "      <td>F</td>\n",
       "      <td>1amy sits facing the window of her room her p...</td>\n",
       "    </tr>\n",
       "    <tr>\n",
       "      <th>8</th>\n",
       "      <td>36819574</td>\n",
       "      <td>F</td>\n",
       "      <td>1i was born in sunlight and dragged into dark...</td>\n",
       "    </tr>\n",
       "  </tbody>\n",
       "</table>\n",
       "</div>"
      ],
      "text/plain": [
       "         id type                                               text\n",
       "0   7441657    F   1prologueoctober 31 1981the view out the wind...\n",
       "1   1536152    F   1going back was the worst i had hoped that af...\n",
       "2  24025603    F   1disclaimer i by no means claim to own anythi...\n",
       "3  25042705    F   1 but really said mrs bennet rather loudly pl...\n",
       "4  33183868    F   1 there was something luminescent about susie...\n",
       "5   8523001    F   1there was such a cultural veil of secrecy dr...\n",
       "6  35367502    F   1 lily there s a boy at the door the ginger h...\n",
       "7  23824330    F   1amy sits facing the window of her room her p...\n",
       "8  36819574    F   1i was born in sunlight and dragged into dark..."
      ]
     },
     "execution_count": 4,
     "metadata": {},
     "output_type": "execute_result"
    }
   ],
   "source": [
    "fanfic_df"
   ]
  },
  {
   "cell_type": "code",
   "execution_count": null,
   "id": "8d6de545-d43e-418a-955a-efa0dc57506b",
   "metadata": {},
   "outputs": [],
   "source": [
    "#Convert to RDD"
   ]
  },
  {
   "cell_type": "code",
   "execution_count": 5,
   "id": "78843eb2-1684-465d-bf2a-74bc1d2fcd66",
   "metadata": {},
   "outputs": [
    {
     "data": {
      "text/plain": [
       "'/Users/Teacher/Desktop/Distributed_Computing/project_1'"
      ]
     },
     "execution_count": 5,
     "metadata": {},
     "output_type": "execute_result"
    }
   ],
   "source": [
    "pwd"
   ]
  },
  {
   "cell_type": "code",
   "execution_count": null,
   "id": "590d4211-3038-4262-94ec-3057d5c78bda",
   "metadata": {},
   "outputs": [],
   "source": []
  }
 ],
 "metadata": {
  "kernelspec": {
   "display_name": "Python 3",
   "language": "python",
   "name": "python3"
  },
  "language_info": {
   "codemirror_mode": {
    "name": "ipython",
    "version": 3
   },
   "file_extension": ".py",
   "mimetype": "text/x-python",
   "name": "python",
   "nbconvert_exporter": "python",
   "pygments_lexer": "ipython3",
   "version": "3.8.8"
  }
 },
 "nbformat": 4,
 "nbformat_minor": 5
}
