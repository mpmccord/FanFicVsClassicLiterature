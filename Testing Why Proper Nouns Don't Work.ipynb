{
 "cells": [
  {
   "cell_type": "code",
   "execution_count": 1,
   "id": "1c52d609",
   "metadata": {},
   "outputs": [],
   "source": [
    "import nltk\n",
    "import pandas as pd"
   ]
  },
  {
   "cell_type": "code",
   "execution_count": 2,
   "id": "d93fa362",
   "metadata": {},
   "outputs": [],
   "source": [
    "classics = pd.read_csv(\"classics_raw.csv\")"
   ]
  },
  {
   "cell_type": "code",
   "execution_count": 3,
   "id": "150290d4",
   "metadata": {},
   "outputs": [
    {
     "data": {
      "text/html": [
       "<div>\n",
       "<style scoped>\n",
       "    .dataframe tbody tr th:only-of-type {\n",
       "        vertical-align: middle;\n",
       "    }\n",
       "\n",
       "    .dataframe tbody tr th {\n",
       "        vertical-align: top;\n",
       "    }\n",
       "\n",
       "    .dataframe thead th {\n",
       "        text-align: right;\n",
       "    }\n",
       "</style>\n",
       "<table border=\"1\" class=\"dataframe\">\n",
       "  <thead>\n",
       "    <tr style=\"text-align: right;\">\n",
       "      <th></th>\n",
       "      <th>id</th>\n",
       "      <th>type</th>\n",
       "      <th>text</th>\n",
       "    </tr>\n",
       "  </thead>\n",
       "  <tbody>\n",
       "    <tr>\n",
       "      <th>0</th>\n",
       "      <td>1905</td>\n",
       "      <td>C</td>\n",
       "      <td>\\n\\n\\n\\n\\nTHE GOVERNESS \\n\\nOR, THE LITTLE FEM...</td>\n",
       "    </tr>\n",
       "    <tr>\n",
       "      <th>1</th>\n",
       "      <td>768</td>\n",
       "      <td>C</td>\n",
       "      <td>\\n\\n\\n\\nTranscribed from the 1910 John Murray ...</td>\n",
       "    </tr>\n",
       "    <tr>\n",
       "      <th>2</th>\n",
       "      <td>1342</td>\n",
       "      <td>C</td>\n",
       "      <td>\\n\\n\\n\\n\\nPRIDE AND PREJUDICE\\n\\nBy Jane Auste...</td>\n",
       "    </tr>\n",
       "    <tr>\n",
       "      <th>3</th>\n",
       "      <td>1260</td>\n",
       "      <td>C</td>\n",
       "      <td>\\n\\n\\n\\n\\nTranscribed from the 1897 Service &amp; ...</td>\n",
       "    </tr>\n",
       "    <tr>\n",
       "      <th>4</th>\n",
       "      <td>514</td>\n",
       "      <td>C</td>\n",
       "      <td>\\n\\n\\n\\nLITTLE WOMEN\\n\\n\\nby\\n\\nLouisa May Alc...</td>\n",
       "    </tr>\n",
       "  </tbody>\n",
       "</table>\n",
       "</div>"
      ],
      "text/plain": [
       "     id type                                               text\n",
       "0  1905    C  \\n\\n\\n\\n\\nTHE GOVERNESS \\n\\nOR, THE LITTLE FEM...\n",
       "1   768    C  \\n\\n\\n\\nTranscribed from the 1910 John Murray ...\n",
       "2  1342    C  \\n\\n\\n\\n\\nPRIDE AND PREJUDICE\\n\\nBy Jane Auste...\n",
       "3  1260    C  \\n\\n\\n\\n\\nTranscribed from the 1897 Service & ...\n",
       "4   514    C  \\n\\n\\n\\nLITTLE WOMEN\\n\\n\\nby\\n\\nLouisa May Alc..."
      ]
     },
     "execution_count": 3,
     "metadata": {},
     "output_type": "execute_result"
    }
   ],
   "source": [
    "classics.head()"
   ]
  },
  {
   "cell_type": "code",
   "execution_count": null,
   "id": "46a418d5",
   "metadata": {},
   "outputs": [],
   "source": []
  },
  {
   "cell_type": "code",
   "execution_count": null,
   "id": "2bb457ef",
   "metadata": {},
   "outputs": [],
   "source": [
    "classics = classics.assign(lines=classics.text.str.split(\"\\n\")).explode('lines').dropna()"
   ]
  },
  {
   "cell_type": "code",
   "execution_count": null,
   "id": "09bf646d",
   "metadata": {},
   "outputs": [],
   "source": [
    "import nltk\n",
    "classics.lines[0]"
   ]
  },
  {
   "cell_type": "code",
   "execution_count": null,
   "id": "71ac849e",
   "metadata": {},
   "outputs": [],
   "source": []
  }
 ],
 "metadata": {
  "kernelspec": {
   "display_name": "Python 3 (ipykernel)",
   "language": "python",
   "name": "python3"
  },
  "language_info": {
   "codemirror_mode": {
    "name": "ipython",
    "version": 3
   },
   "file_extension": ".py",
   "mimetype": "text/x-python",
   "name": "python",
   "nbconvert_exporter": "python",
   "pygments_lexer": "ipython3",
   "version": "3.8.6"
  }
 },
 "nbformat": 4,
 "nbformat_minor": 5
}
