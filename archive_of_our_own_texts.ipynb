{
 "cells": [
  {
   "cell_type": "code",
   "execution_count": 60,
   "metadata": {},
   "outputs": [
    {
     "data": {
      "text/plain": [
       "'/Users/melaniemccord/Desktop/Github/DC_Practice/FanFicVsClassicLiterature/data/fanfiction'"
      ]
     },
     "execution_count": 60,
     "metadata": {},
     "output_type": "execute_result"
    }
   ],
   "source": [
    "import AO3\n",
    "import os\n",
    "data_dir = os.path.join(os.getcwd(), \"data/fanfiction\")\n",
    "data_dir"
   ]
  },
  {
   "cell_type": "code",
   "execution_count": 61,
   "metadata": {},
   "outputs": [
    {
     "name": "stdout",
     "output_type": "stream",
     "text": [
      "Work ID: 25042705\n",
      "Chapters: 57\n"
     ]
    }
   ],
   "source": [
    "url = \"https://archiveofourown.org/works/25042705/\"\n",
    "workid = AO3.utils.workid_from_url(url)\n",
    "print(f\"Work ID: {workid}\")\n",
    "work = AO3.Work(workid)\n",
    "print(f\"Chapters: {work.nchapters}\")"
   ]
  },
  {
   "cell_type": "code",
   "execution_count": 62,
   "metadata": {},
   "outputs": [],
   "source": [
    "urls = [\"https://archiveofourown.org/works/8523001/\", \"https://archiveofourown.org/works/23824330/\", \"https://archiveofourown.org/works/25042705/\", \"https://archiveofourown.org/works/24025603/\", \"https://archiveofourown.org/works/33183868/\", \"https://archiveofourown.org/works/7441657\", \"https://archiveofourown.org/works/1536152\"]"
   ]
  },
  {
   "cell_type": "code",
   "execution_count": 63,
   "metadata": {},
   "outputs": [],
   "source": [
    "def downloadData(url):\n",
    "    \"\"\"\n",
    "    Downloads data from an Archive of Our Own url.\n",
    "    @param url: a url in the form of \"https://archiveofourown.org/works/{id}/\"\n",
    "    \"\"\"\n",
    "    workid = AO3.utils.workid_from_url(url)\n",
    "    print(f\"Work ID: {workid}\")\n",
    "    work = AO3.Work(workid)\n",
    "    print(f\"Chapters: {work.nchapters}\")\n",
    "    with open(os.path.join(data_dir, \"fanfic_\" + str(workid) + \".txt\"), \"w\") as my_file:\n",
    "        chapters = \"\\n\".join([\"Chapter \" + str(i) + \"\\n\" + chapter.text for i, chapter in enumerate(work.chapters, 1)])\n",
    "        my_file.write(chapters)"
   ]
  },
  {
   "cell_type": "code",
   "execution_count": 64,
   "metadata": {},
   "outputs": [
    {
     "name": "stdout",
     "output_type": "stream",
     "text": [
      "Work ID: 8523001\n",
      "Chapters: 19\n",
      "Work ID: 23824330\n",
      "Chapters: 28\n",
      "Work ID: 25042705\n",
      "Chapters: 57\n",
      "Work ID: 24025603\n",
      "Chapters: 24\n",
      "Work ID: 33183868\n",
      "Chapters: 25\n",
      "Work ID: 7441657\n",
      "Chapters: 25\n",
      "Work ID: 1536152\n",
      "Chapters: 85\n"
     ]
    }
   ],
   "source": [
    "for url in urls:\n",
    "    downloadData(url)"
   ]
  },
  {
   "cell_type": "code",
   "execution_count": null,
   "metadata": {},
   "outputs": [],
   "source": []
  }
 ],
 "metadata": {
  "interpreter": {
   "hash": "0bf5fe0d1f844045793f62d6f3a411c3ed4e386ea3232ea9c9a67781e22d6d31"
  },
  "kernelspec": {
   "display_name": "Python 3.9.5 64-bit",
   "language": "python",
   "name": "python3"
  },
  "language_info": {
   "codemirror_mode": {
    "name": "ipython",
    "version": 3
   },
   "file_extension": ".py",
   "mimetype": "text/x-python",
   "name": "python",
   "nbconvert_exporter": "python",
   "pygments_lexer": "ipython3",
   "version": "3.9.7"
  }
 },
 "nbformat": 4,
 "nbformat_minor": 4
}
