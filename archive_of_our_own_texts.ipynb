{
 "cells": [
  {
   "cell_type": "code",
   "execution_count": 1,
   "metadata": {},
   "outputs": [
    {
     "data": {
      "text/plain": [
       "'/home/mmccord/Distributed_Computing/FanFicVsClassicLiterature/data/fanfiction'"
      ]
     },
     "execution_count": 1,
     "metadata": {},
     "output_type": "execute_result"
    }
   ],
   "source": [
    "import AO3\n",
    "import os\n",
    "data_dir = os.path.join(os.getcwd(), \"data/fanfiction\")\n",
    "data_dir"
   ]
  },
  {
   "cell_type": "code",
   "execution_count": 2,
   "metadata": {},
   "outputs": [
    {
     "name": "stdout",
     "output_type": "stream",
     "text": [
      "Work ID: 25042705\n"
     ]
    },
    {
     "name": "stderr",
     "output_type": "stream",
     "text": [
      "/opt/conda/lib/python3.8/site-packages/AO3/works.py:903: UserWarning: This work is very big and might take a very long time to load\n",
      "  warnings.warn(\"This work is very big and might take a very long time to load\")\n"
     ]
    },
    {
     "name": "stdout",
     "output_type": "stream",
     "text": [
      "Chapters: 57\n"
     ]
    }
   ],
   "source": [
    "url = \"https://archiveofourown.org/works/25042705/\"\n",
    "workid = AO3.utils.workid_from_url(url)\n",
    "print(f\"Work ID: {workid}\")\n",
    "work = AO3.Work(workid)\n",
    "print(f\"Chapters: {work.nchapters}\")"
   ]
  },
  {
   "cell_type": "code",
   "execution_count": 3,
   "metadata": {},
   "outputs": [],
   "source": [
    "urls = [\"https://archiveofourown.org/works/8523001/\", \"https://archiveofourown.org/works/23824330/\", \"https://archiveofourown.org/works/25042705/\", \"https://archiveofourown.org/works/24025603/\", \"https://archiveofourown.org/works/33183868/\", \"https://archiveofourown.org/works/7441657\", \"https://archiveofourown.org/works/1536152\", \"https://archiveofourown.org/works/35367502/\", \"https://archiveofourown.org/works/36819574/\"]"
   ]
  },
  {
   "cell_type": "code",
   "execution_count": 4,
   "metadata": {},
   "outputs": [],
   "source": [
    "def downloadData(url):\n",
    "    \"\"\"\n",
    "    Downloads data from an Archive of Our Own url.\n",
    "    @param url: a url in the form of \"https://archiveofourown.org/works/{id}/\"\n",
    "    \"\"\"\n",
    "    workid = AO3.utils.workid_from_url(url)\n",
    "    print(f\"Work ID: {workid}\")\n",
    "    work = AO3.Work(workid)\n",
    "    print(f\"Chapters: {work.nchapters}\")\n",
    "    with open(os.path.join(data_dir, \"fanfic_\" + str(workid) + \".txt\"), \"w\") as my_file:\n",
    "        chapters = \"\\n\".join([\"Chapter \" + str(i) + \"\\n\" + chapter.text for i, chapter in enumerate(work.chapters, 1)])\n",
    "        my_file.write(chapters)"
   ]
  },
  {
   "cell_type": "code",
   "execution_count": 5,
   "metadata": {},
   "outputs": [
    {
     "name": "stdout",
     "output_type": "stream",
     "text": [
      "Work ID: 8523001\n",
      "Chapters: 19\n",
      "Work ID: 23824330\n",
      "Chapters: 28\n",
      "Work ID: 25042705\n",
      "Chapters: 57\n",
      "Work ID: 24025603\n",
      "Chapters: 25\n",
      "Work ID: 33183868\n",
      "Chapters: 25\n",
      "Work ID: 7441657\n",
      "Chapters: 25\n",
      "Work ID: 1536152\n",
      "Chapters: 85\n",
      "Work ID: 35367502\n",
      "Chapters: 92\n",
      "Work ID: 36819574\n",
      "Chapters: 108\n"
     ]
    }
   ],
   "source": [
    "for url in urls:\n",
    "    downloadData(url)"
   ]
  },
  {
   "cell_type": "code",
   "execution_count": 6,
   "metadata": {},
   "outputs": [],
   "source": [
    "import os\n",
    "import shutil"
   ]
  },
  {
   "cell_type": "code",
   "execution_count": 7,
   "metadata": {},
   "outputs": [],
   "source": [
    "data_dir = \"data/fanfiction\""
   ]
  },
  {
   "cell_type": "code",
   "execution_count": 8,
   "metadata": {},
   "outputs": [],
   "source": [
    "data_dir = os.path.join(os.getcwd(), data_dir)"
   ]
  },
  {
   "cell_type": "code",
   "execution_count": 9,
   "metadata": {},
   "outputs": [],
   "source": [
    "file_list = []\n",
    "for (dirpath, dirnames, filenames) in os.walk(data_dir):\n",
    "    file_list.extend(filenames)\n",
    "    break"
   ]
  },
  {
   "cell_type": "code",
   "execution_count": 10,
   "metadata": {},
   "outputs": [],
   "source": [
    "file_list = [file_ for file_ in file_list if \"README.md\" not in file_]"
   ]
  },
  {
   "cell_type": "code",
   "execution_count": 11,
   "metadata": {},
   "outputs": [],
   "source": [
    "test = \"fanfic_1536152.txt\"\n",
    "def getIDFromString(text):\n",
    "    id = \"\".join(char for char in text if char.isdigit())\n",
    "    if id == \"\":\n",
    "        return None\n",
    "    print(\"Id as string\", id, \"no\")\n",
    "    id = int(id)\n",
    "    print(\"Id successfully converted to int\")\n",
    "    return id"
   ]
  },
  {
   "cell_type": "code",
   "execution_count": 12,
   "metadata": {},
   "outputs": [
    {
     "name": "stdout",
     "output_type": "stream",
     "text": [
      "Id as string 1536152 no\n",
      "Id successfully converted to int\n",
      "fanfic_1536152.txt 1536152\n",
      "Id as string 7441657 no\n",
      "Id successfully converted to int\n",
      "fanfic_7441657.txt 7441657\n",
      "Id as string 25042705 no\n",
      "Id successfully converted to int\n",
      "fanfic_25042705.txt 25042705\n",
      "Id as string 35367502 no\n",
      "Id successfully converted to int\n",
      "fanfic_35367502.txt 35367502\n",
      "Id as string 36819574 no\n",
      "Id successfully converted to int\n",
      "fanfic_36819574.txt 36819574\n",
      "Id as string 24025603 no\n",
      "Id successfully converted to int\n",
      "fanfic_24025603.txt 24025603\n",
      "Id as string 33183868 no\n",
      "Id successfully converted to int\n",
      "fanfic_33183868.txt 33183868\n",
      "Id as string 8523001 no\n",
      "Id successfully converted to int\n",
      "fanfic_8523001.txt 8523001\n",
      "Id as string 23824330 no\n",
      "Id successfully converted to int\n",
      "fanfic_23824330.txt 23824330\n"
     ]
    }
   ],
   "source": [
    "for file_ in file_list:\n",
    "    print(file_, getIDFromString(file_))"
   ]
  },
  {
   "cell_type": "code",
   "execution_count": 13,
   "metadata": {},
   "outputs": [
    {
     "name": "stdout",
     "output_type": "stream",
     "text": [
      "Id as string 1536152 no\n",
      "Id successfully converted to int\n",
      "Id as string 7441657 no\n",
      "Id successfully converted to int\n",
      "Id as string 25042705 no\n",
      "Id successfully converted to int\n",
      "Id as string 35367502 no\n",
      "Id successfully converted to int\n",
      "Id as string 36819574 no\n",
      "Id successfully converted to int\n",
      "Id as string 24025603 no\n",
      "Id successfully converted to int\n",
      "Id as string 33183868 no\n",
      "Id successfully converted to int\n",
      "Id as string 8523001 no\n",
      "Id successfully converted to int\n",
      "Id as string 23824330 no\n",
      "Id successfully converted to int\n"
     ]
    }
   ],
   "source": [
    "texts = []\n",
    "ids = []\n",
    "texts.extend([(open(os.path.join(data_dir, file_), \"r\").read()) for file_ in file_list])\n",
    "ids.extend(getIDFromString(file_) for file_ in file_list)"
   ]
  },
  {
   "cell_type": "code",
   "execution_count": 14,
   "metadata": {},
   "outputs": [],
   "source": [
    "my_dict = {\"text\": texts, \"id\": ids, \"type\": \"F\"}"
   ]
  },
  {
   "cell_type": "code",
   "execution_count": 17,
   "metadata": {},
   "outputs": [],
   "source": [
    "import pandas as pd\n",
    "texts = pd.DataFrame(my_dict).set_index(\"id\")\n",
    "texts.to_csv(\"data/fanfics_raw.csv\")"
   ]
  },
  {
   "cell_type": "code",
   "execution_count": null,
   "metadata": {},
   "outputs": [],
   "source": []
  },
  {
   "cell_type": "code",
   "execution_count": null,
   "metadata": {},
   "outputs": [],
   "source": []
  }
 ],
 "metadata": {
  "interpreter": {
   "hash": "0bf5fe0d1f844045793f62d6f3a411c3ed4e386ea3232ea9c9a67781e22d6d31"
  },
  "kernelspec": {
   "display_name": "Python 3 (ipykernel)",
   "language": "python",
   "name": "python3"
  },
  "language_info": {
   "codemirror_mode": {
    "name": "ipython",
    "version": 3
   },
   "file_extension": ".py",
   "mimetype": "text/x-python",
   "name": "python",
   "nbconvert_exporter": "python",
   "pygments_lexer": "ipython3",
   "version": "3.8.6"
  }
 },
 "nbformat": 4,
 "nbformat_minor": 4
}
