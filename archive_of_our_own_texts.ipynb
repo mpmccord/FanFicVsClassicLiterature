{
 "cells": [
  {
   "cell_type": "code",
   "execution_count": 8,
   "metadata": {},
   "outputs": [
    {
     "data": {
      "text/plain": [
       "'/Users/melaniemccord/Desktop/Github/DC_Practice/FanFicVsClassicLiterature/data/fanfiction'"
      ]
     },
     "execution_count": 8,
     "metadata": {},
     "output_type": "execute_result"
    }
   ],
   "source": [
    "import AO3\n",
    "import os\n",
    "data_dir = os.path.join(os.getcwd(), \"data/fanfiction\")\n",
    "data_dir"
   ]
  },
  {
   "cell_type": "code",
   "execution_count": 9,
   "metadata": {},
   "outputs": [
    {
     "name": "stdout",
     "output_type": "stream",
     "text": [
      "Work ID: 8523001\n"
     ]
    },
    {
     "name": "stderr",
     "output_type": "stream",
     "text": [
      "/Users/melaniemccord/opt/anaconda3/envs/fanfic_classiclit/lib/python3.9/site-packages/AO3/works.py:903: UserWarning: This work is very big and might take a very long time to load\n",
      "  warnings.warn(\"This work is very big and might take a very long time to load\")\n"
     ]
    },
    {
     "name": "stdout",
     "output_type": "stream",
     "text": [
      "Chapters: 19\n"
     ]
    }
   ],
   "source": [
    "url = \"https://archiveofourown.org/works/8523001/chapters/19536781\"\n",
    "workid = AO3.utils.workid_from_url(url)\n",
    "print(f\"Work ID: {workid}\")\n",
    "work = AO3.Work(workid)\n",
    "print(f\"Chapters: {work.nchapters}\")"
   ]
  },
  {
   "cell_type": "code",
   "execution_count": 10,
   "metadata": {},
   "outputs": [
    {
     "name": "stdout",
     "output_type": "stream",
     "text": [
      "In which Mrs. Collins and Miss Bennet see each others' soulmarks\n",
      "There was such a cultural veil of secrecy drawn about one’s soulmark, that it was not until Miss Elizabeth Bennett\n"
     ]
    }
   ],
   "source": [
    "print(work.chapters[0].title)  # First chapter name\n",
    "text = work.chapters[0].text  # First chapter text\n",
    "print(' '.join(text.split(\" \")[:20]))"
   ]
  },
  {
   "cell_type": "code",
   "execution_count": 12,
   "metadata": {},
   "outputs": [],
   "source": [
    "with open(os.path.join(data_dir, \"fanfic\" + str(workid) + \".txt\"), \"w\") as my_file:\n",
    "    count = 1\n",
    "    for chapter in work.chapters:\n",
    "        my_file.write(\"\\n Chapter \" + str(count) + \"\\n\")\n",
    "        my_file.write(chapter.text)\n",
    "        count += 1"
   ]
  }
 ],
 "metadata": {
  "interpreter": {
   "hash": "0bf5fe0d1f844045793f62d6f3a411c3ed4e386ea3232ea9c9a67781e22d6d31"
  },
  "kernelspec": {
   "display_name": "Python 3.9.5 64-bit",
   "language": "python",
   "name": "python3"
  },
  "language_info": {
   "codemirror_mode": {
    "name": "ipython",
    "version": 3
   },
   "file_extension": ".py",
   "mimetype": "text/x-python",
   "name": "python",
   "nbconvert_exporter": "python",
   "pygments_lexer": "ipython3",
   "version": "3.9.7"
  }
 },
 "nbformat": 4,
 "nbformat_minor": 4
}
