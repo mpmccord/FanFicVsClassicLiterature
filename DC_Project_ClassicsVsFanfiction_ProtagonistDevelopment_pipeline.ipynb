{
  "cells": [
    {
      "cell_type": "markdown",
      "metadata": {
        "id": "Bjz-4n_vDMl9"
      },
      "source": [
        "# Distributed Computing - Project 1\n",
        "\n",
        "\n"
      ]
    },
    {
      "cell_type": "markdown",
      "metadata": {
        "id": "7ZkCYzQG4Cz3"
      },
      "source": [
        "Question: Do we see the protagonist developing and maturing from a young girl to a women in both classics and fanfiction? In classic coming of age literature we expect to see the protagonist evolve throughout the book.  Do we observe this same development in fanfiction?"
      ]
    },
    {
      "cell_type": "code",
      "execution_count": 1,
      "metadata": {
        "colab": {
          "base_uri": "https://localhost:8080/"
        },
        "id": "z7x4ybOpxqJR",
        "outputId": "b7881729-c182-4dae-ef50-6455f86c8a82"
      },
      "outputs": [
        {
          "name": "stdout",
          "output_type": "stream",
          "text": [
            "Mounted at /content/drive\n"
          ]
        }
      ],
      "source": [
        "from google.colab import drive\n",
        "drive.mount('/content/drive')"
      ]
    },
    {
      "cell_type": "markdown",
      "metadata": {
        "id": "br3PXqMvDfy-"
      },
      "source": [
        "## 1.Prepare Environment"
      ]
    },
    {
      "cell_type": "markdown",
      "metadata": {
        "id": "Q7mjzu90Ybqw"
      },
      "source": [
        "### 1.1 Install Java, Pyspark and Spark NLP"
      ]
    },
    {
      "cell_type": "code",
      "execution_count": 2,
      "metadata": {
        "id": "teXvoXAvDZY0"
      },
      "outputs": [],
      "source": [
        "import os"
      ]
    },
    {
      "cell_type": "code",
      "execution_count": 3,
      "metadata": {
        "colab": {
          "base_uri": "https://localhost:8080/"
        },
        "id": "e6Bcn-ORdo1y",
        "outputId": "f4ad68ed-b1da-4650-d5da-6bfddd50e3d2"
      },
      "outputs": [
        {
          "name": "stdout",
          "output_type": "stream",
          "text": [
            "Selecting previously unselected package openjdk-8-jre-headless:amd64.\n",
            "(Reading database ... 155455 files and directories currently installed.)\n",
            "Preparing to unpack .../openjdk-8-jre-headless_8u312-b07-0ubuntu1~18.04_amd64.deb ...\n",
            "Unpacking openjdk-8-jre-headless:amd64 (8u312-b07-0ubuntu1~18.04) ...\n",
            "Selecting previously unselected package openjdk-8-jdk-headless:amd64.\n",
            "Preparing to unpack .../openjdk-8-jdk-headless_8u312-b07-0ubuntu1~18.04_amd64.deb ...\n",
            "Unpacking openjdk-8-jdk-headless:amd64 (8u312-b07-0ubuntu1~18.04) ...\n",
            "Setting up openjdk-8-jre-headless:amd64 (8u312-b07-0ubuntu1~18.04) ...\n",
            "update-alternatives: using /usr/lib/jvm/java-8-openjdk-amd64/jre/bin/orbd to provide /usr/bin/orbd (orbd) in auto mode\n",
            "update-alternatives: using /usr/lib/jvm/java-8-openjdk-amd64/jre/bin/servertool to provide /usr/bin/servertool (servertool) in auto mode\n",
            "update-alternatives: using /usr/lib/jvm/java-8-openjdk-amd64/jre/bin/tnameserv to provide /usr/bin/tnameserv (tnameserv) in auto mode\n",
            "Setting up openjdk-8-jdk-headless:amd64 (8u312-b07-0ubuntu1~18.04) ...\n",
            "update-alternatives: using /usr/lib/jvm/java-8-openjdk-amd64/bin/idlj to provide /usr/bin/idlj (idlj) in auto mode\n",
            "update-alternatives: using /usr/lib/jvm/java-8-openjdk-amd64/bin/wsimport to provide /usr/bin/wsimport (wsimport) in auto mode\n",
            "update-alternatives: using /usr/lib/jvm/java-8-openjdk-amd64/bin/jsadebugd to provide /usr/bin/jsadebugd (jsadebugd) in auto mode\n",
            "update-alternatives: using /usr/lib/jvm/java-8-openjdk-amd64/bin/native2ascii to provide /usr/bin/native2ascii (native2ascii) in auto mode\n",
            "update-alternatives: using /usr/lib/jvm/java-8-openjdk-amd64/bin/javah to provide /usr/bin/javah (javah) in auto mode\n",
            "update-alternatives: using /usr/lib/jvm/java-8-openjdk-amd64/bin/hsdb to provide /usr/bin/hsdb (hsdb) in auto mode\n",
            "update-alternatives: using /usr/lib/jvm/java-8-openjdk-amd64/bin/clhsdb to provide /usr/bin/clhsdb (clhsdb) in auto mode\n",
            "update-alternatives: using /usr/lib/jvm/java-8-openjdk-amd64/bin/xjc to provide /usr/bin/xjc (xjc) in auto mode\n",
            "update-alternatives: using /usr/lib/jvm/java-8-openjdk-amd64/bin/schemagen to provide /usr/bin/schemagen (schemagen) in auto mode\n",
            "update-alternatives: using /usr/lib/jvm/java-8-openjdk-amd64/bin/extcheck to provide /usr/bin/extcheck (extcheck) in auto mode\n",
            "update-alternatives: using /usr/lib/jvm/java-8-openjdk-amd64/bin/jhat to provide /usr/bin/jhat (jhat) in auto mode\n",
            "update-alternatives: using /usr/lib/jvm/java-8-openjdk-amd64/bin/wsgen to provide /usr/bin/wsgen (wsgen) in auto mode\n"
          ]
        }
      ],
      "source": [
        "!apt-get update -qq\n",
        "!apt-get install -y openjdk-8-jdk-headless -qq"
      ]
    },
    {
      "cell_type": "code",
      "execution_count": 4,
      "metadata": {
        "colab": {
          "base_uri": "https://localhost:8080/"
        },
        "id": "__OWHYtkdo1y",
        "outputId": "cfea2cac-c3b7-43fc-812e-26c47156da96"
      },
      "outputs": [
        {
          "name": "stdout",
          "output_type": "stream",
          "text": [
            "openjdk version \"1.8.0_312\"\n",
            "OpenJDK Runtime Environment (build 1.8.0_312-8u312-b07-0ubuntu1~18.04-b07)\n",
            "OpenJDK 64-Bit Server VM (build 25.312-b07, mixed mode)\n"
          ]
        }
      ],
      "source": [
        "#Install Java\n",
        "os.environ[\"JAVA_HOME\"] = \"/usr/lib/jvm/java-8-openjdk-amd64\"\n",
        "os.environ[\"PATH\"] = os.environ[\"JAVA_HOME\"] + \"/bin:\" + os.environ[\"PATH\"]\n",
        "! java -version"
      ]
    },
    {
      "cell_type": "code",
      "execution_count": 5,
      "metadata": {
        "colab": {
          "base_uri": "https://localhost:8080/"
        },
        "id": "TcGxv3YuDnx4",
        "outputId": "05964289-0deb-4413-e5fb-c6c1ce05330d"
      },
      "outputs": [
        {
          "name": "stdout",
          "output_type": "stream",
          "text": [
            "Collecting pyspark==2.4.4\n",
            "  Downloading pyspark-2.4.4.tar.gz (215.7 MB)\n",
            "\u001b[K     |████████████████████████████████| 215.7 MB 54 kB/s \n",
            "\u001b[?25hCollecting py4j==0.10.7\n",
            "  Downloading py4j-0.10.7-py2.py3-none-any.whl (197 kB)\n",
            "\u001b[K     |████████████████████████████████| 197 kB 14.7 MB/s \n",
            "\u001b[?25hBuilding wheels for collected packages: pyspark\n",
            "  Building wheel for pyspark (setup.py) ... \u001b[?25l\u001b[?25hdone\n",
            "  Created wheel for pyspark: filename=pyspark-2.4.4-py2.py3-none-any.whl size=216130392 sha256=c5f1850db4389d58ae91db6d9a466bfaa5b44b18a0a8546b67812fd9a5138017\n",
            "  Stored in directory: /root/.cache/pip/wheels/11/48/19/c3b6b66e4575c164407a83bc065179904ddc33c9d6500846f0\n",
            "Successfully built pyspark\n",
            "Installing collected packages: py4j, pyspark\n",
            "Successfully installed py4j-0.10.7 pyspark-2.4.4\n",
            "Collecting spark-nlp==2.6.2\n",
            "  Downloading spark_nlp-2.6.2-py2.py3-none-any.whl (128 kB)\n",
            "\u001b[K     |████████████████████████████████| 128 kB 9.8 MB/s \n",
            "\u001b[?25hInstalling collected packages: spark-nlp\n",
            "Successfully installed spark-nlp-2.6.2\n"
          ]
        }
      ],
      "source": [
        "# Install Pyspark\n",
        "! pip install --ignore-installed pyspark==2.4.4\n",
        "\n",
        "# Install Spark NLP\n",
        "! pip install --ignore-installed spark-nlp==2.6.2"
      ]
    },
    {
      "cell_type": "markdown",
      "metadata": {
        "id": "mp2beC4FYesx"
      },
      "source": [
        "### 1.2 Start  Spark Session"
      ]
    },
    {
      "cell_type": "code",
      "execution_count": 6,
      "metadata": {
        "id": "TGDRKTctUzRF"
      },
      "outputs": [],
      "source": [
        "import sparknlp\n",
        "spark = sparknlp.start()\n",
        "\n",
        "from pyspark.ml import Pipeline\n",
        "from sparknlp.annotator import *\n",
        "from sparknlp.common import *\n",
        "from sparknlp.base import *"
      ]
    },
    {
      "cell_type": "markdown",
      "metadata": {
        "id": "qTvaEXcQU2pP"
      },
      "source": [
        "## 2.Get Classics Corpus"
      ]
    },
    {
      "cell_type": "markdown",
      "metadata": {
        "id": "XB-99X0IVCsH"
      },
      "source": [
        "### 2.1 Convert txt files into Python Dataframe"
      ]
    },
    {
      "cell_type": "code",
      "execution_count": 7,
      "metadata": {
        "id": "1jCVlB2AVt1c"
      },
      "outputs": [],
      "source": [
        "import pandas as pd\n",
        "import os\n",
        "import re"
      ]
    },
    {
      "cell_type": "code",
      "execution_count": 8,
      "metadata": {
        "id": "6ybHiAU2Vwz0"
      },
      "outputs": [],
      "source": [
        "directory =\"/content/drive/MyDrive/Distributed-Computing/data/classic_literature/\" #Change according to path\n",
        "# directory =\"data/classic_literature/\" #Change according to path\n",
        "text_type = 'C'\n",
        "\n",
        "classics_df = pd.DataFrame(columns=['id', 'type', 'text'])\n",
        "\n",
        "for filename in os.listdir(directory):\n",
        "#filename = \"data/classic_literature/45.txt\"\n",
        "    file_ext = os.path.basename(filename).rsplit('.',1)[1] #Get file extension\n",
        "    if file_ext == \"txt\":\n",
        "        with open(directory + '/' + filename, 'r') as file:\n",
        "            text_id = os.path.basename(filename).rsplit('.',1)[0]\n",
        "            corpus = file.read()\n",
        "            corpus = re.sub(';', ' ', corpus)\n",
        "            corpus = corpus.replace('Chapter', '')\n",
        "            classics_df.loc[len(classics_df.index)] = [text_id, text_type, corpus]"
      ]
    },
    {
      "cell_type": "code",
      "execution_count": 9,
      "metadata": {
        "colab": {
          "base_uri": "https://localhost:8080/",
          "height": 300
        },
        "id": "hMUL6ZGUV3U5",
        "outputId": "a92ef36a-6b40-45fb-e297-d1c17a8486e4"
      },
      "outputs": [
        {
          "data": {
            "text/html": [
              "\n",
              "  <div id=\"df-2381e3eb-27d8-40cd-90fd-33618f193386\">\n",
              "    <div class=\"colab-df-container\">\n",
              "      <div>\n",
              "<style scoped>\n",
              "    .dataframe tbody tr th:only-of-type {\n",
              "        vertical-align: middle;\n",
              "    }\n",
              "\n",
              "    .dataframe tbody tr th {\n",
              "        vertical-align: top;\n",
              "    }\n",
              "\n",
              "    .dataframe thead th {\n",
              "        text-align: right;\n",
              "    }\n",
              "</style>\n",
              "<table border=\"1\" class=\"dataframe\">\n",
              "  <thead>\n",
              "    <tr style=\"text-align: right;\">\n",
              "      <th></th>\n",
              "      <th>id</th>\n",
              "      <th>type</th>\n",
              "      <th>text</th>\n",
              "    </tr>\n",
              "  </thead>\n",
              "  <tbody>\n",
              "    <tr>\n",
              "      <th>0</th>\n",
              "      <td>1342</td>\n",
              "      <td>C</td>\n",
              "      <td>\\n\\n\\n\\n\\nPRIDE AND PREJUDICE\\n\\nBy Jane Auste...</td>\n",
              "    </tr>\n",
              "    <tr>\n",
              "      <th>1</th>\n",
              "      <td>768</td>\n",
              "      <td>C</td>\n",
              "      <td>\\n\\n\\n\\nTranscribed from the 1910 John Murray ...</td>\n",
              "    </tr>\n",
              "    <tr>\n",
              "      <th>2</th>\n",
              "      <td>1260</td>\n",
              "      <td>C</td>\n",
              "      <td>\\n\\n\\n\\n\\nTranscribed from the 1897 Service &amp; ...</td>\n",
              "    </tr>\n",
              "    <tr>\n",
              "      <th>3</th>\n",
              "      <td>514</td>\n",
              "      <td>C</td>\n",
              "      <td>\\n\\n\\n\\nLITTLE WOMEN\\n\\n\\nby\\n\\nLouisa May Alc...</td>\n",
              "    </tr>\n",
              "    <tr>\n",
              "      <th>4</th>\n",
              "      <td>1905</td>\n",
              "      <td>C</td>\n",
              "      <td>\\n\\n\\n\\n\\nTHE GOVERNESS \\n\\nOR, THE LITTLE FEM...</td>\n",
              "    </tr>\n",
              "    <tr>\n",
              "      <th>5</th>\n",
              "      <td>113</td>\n",
              "      <td>C</td>\n",
              "      <td>\\n\\n\\n\\n\\n\\n\\n\\n\\n\\n\\nIn Honor of Lisa Hart's ...</td>\n",
              "    </tr>\n",
              "    <tr>\n",
              "      <th>6</th>\n",
              "      <td>145</td>\n",
              "      <td>C</td>\n",
              "      <td>\\n\\n\\n\\n\\n\\n\\n\\n\\n\\n\\n\\n\\n\\n\\nMiddlemarch\\n\\n\\...</td>\n",
              "    </tr>\n",
              "    <tr>\n",
              "      <th>7</th>\n",
              "      <td>45</td>\n",
              "      <td>C</td>\n",
              "      <td>\\n\\n\\n\\n\\n                  ANNE OF GREEN GABL...</td>\n",
              "    </tr>\n",
              "  </tbody>\n",
              "</table>\n",
              "</div>\n",
              "      <button class=\"colab-df-convert\" onclick=\"convertToInteractive('df-2381e3eb-27d8-40cd-90fd-33618f193386')\"\n",
              "              title=\"Convert this dataframe to an interactive table.\"\n",
              "              style=\"display:none;\">\n",
              "        \n",
              "  <svg xmlns=\"http://www.w3.org/2000/svg\" height=\"24px\"viewBox=\"0 0 24 24\"\n",
              "       width=\"24px\">\n",
              "    <path d=\"M0 0h24v24H0V0z\" fill=\"none\"/>\n",
              "    <path d=\"M18.56 5.44l.94 2.06.94-2.06 2.06-.94-2.06-.94-.94-2.06-.94 2.06-2.06.94zm-11 1L8.5 8.5l.94-2.06 2.06-.94-2.06-.94L8.5 2.5l-.94 2.06-2.06.94zm10 10l.94 2.06.94-2.06 2.06-.94-2.06-.94-.94-2.06-.94 2.06-2.06.94z\"/><path d=\"M17.41 7.96l-1.37-1.37c-.4-.4-.92-.59-1.43-.59-.52 0-1.04.2-1.43.59L10.3 9.45l-7.72 7.72c-.78.78-.78 2.05 0 2.83L4 21.41c.39.39.9.59 1.41.59.51 0 1.02-.2 1.41-.59l7.78-7.78 2.81-2.81c.8-.78.8-2.07 0-2.86zM5.41 20L4 18.59l7.72-7.72 1.47 1.35L5.41 20z\"/>\n",
              "  </svg>\n",
              "      </button>\n",
              "      \n",
              "  <style>\n",
              "    .colab-df-container {\n",
              "      display:flex;\n",
              "      flex-wrap:wrap;\n",
              "      gap: 12px;\n",
              "    }\n",
              "\n",
              "    .colab-df-convert {\n",
              "      background-color: #E8F0FE;\n",
              "      border: none;\n",
              "      border-radius: 50%;\n",
              "      cursor: pointer;\n",
              "      display: none;\n",
              "      fill: #1967D2;\n",
              "      height: 32px;\n",
              "      padding: 0 0 0 0;\n",
              "      width: 32px;\n",
              "    }\n",
              "\n",
              "    .colab-df-convert:hover {\n",
              "      background-color: #E2EBFA;\n",
              "      box-shadow: 0px 1px 2px rgba(60, 64, 67, 0.3), 0px 1px 3px 1px rgba(60, 64, 67, 0.15);\n",
              "      fill: #174EA6;\n",
              "    }\n",
              "\n",
              "    [theme=dark] .colab-df-convert {\n",
              "      background-color: #3B4455;\n",
              "      fill: #D2E3FC;\n",
              "    }\n",
              "\n",
              "    [theme=dark] .colab-df-convert:hover {\n",
              "      background-color: #434B5C;\n",
              "      box-shadow: 0px 1px 3px 1px rgba(0, 0, 0, 0.15);\n",
              "      filter: drop-shadow(0px 1px 2px rgba(0, 0, 0, 0.3));\n",
              "      fill: #FFFFFF;\n",
              "    }\n",
              "  </style>\n",
              "\n",
              "      <script>\n",
              "        const buttonEl =\n",
              "          document.querySelector('#df-2381e3eb-27d8-40cd-90fd-33618f193386 button.colab-df-convert');\n",
              "        buttonEl.style.display =\n",
              "          google.colab.kernel.accessAllowed ? 'block' : 'none';\n",
              "\n",
              "        async function convertToInteractive(key) {\n",
              "          const element = document.querySelector('#df-2381e3eb-27d8-40cd-90fd-33618f193386');\n",
              "          const dataTable =\n",
              "            await google.colab.kernel.invokeFunction('convertToInteractive',\n",
              "                                                     [key], {});\n",
              "          if (!dataTable) return;\n",
              "\n",
              "          const docLinkHtml = 'Like what you see? Visit the ' +\n",
              "            '<a target=\"_blank\" href=https://colab.research.google.com/notebooks/data_table.ipynb>data table notebook</a>'\n",
              "            + ' to learn more about interactive tables.';\n",
              "          element.innerHTML = '';\n",
              "          dataTable['output_type'] = 'display_data';\n",
              "          await google.colab.output.renderOutput(dataTable, element);\n",
              "          const docLink = document.createElement('div');\n",
              "          docLink.innerHTML = docLinkHtml;\n",
              "          element.appendChild(docLink);\n",
              "        }\n",
              "      </script>\n",
              "    </div>\n",
              "  </div>\n",
              "  "
            ],
            "text/plain": [
              "     id type                                               text\n",
              "0  1342    C  \\n\\n\\n\\n\\nPRIDE AND PREJUDICE\\n\\nBy Jane Auste...\n",
              "1   768    C  \\n\\n\\n\\nTranscribed from the 1910 John Murray ...\n",
              "2  1260    C  \\n\\n\\n\\n\\nTranscribed from the 1897 Service & ...\n",
              "3   514    C  \\n\\n\\n\\nLITTLE WOMEN\\n\\n\\nby\\n\\nLouisa May Alc...\n",
              "4  1905    C  \\n\\n\\n\\n\\nTHE GOVERNESS \\n\\nOR, THE LITTLE FEM...\n",
              "5   113    C  \\n\\n\\n\\n\\n\\n\\n\\n\\n\\n\\nIn Honor of Lisa Hart's ...\n",
              "6   145    C  \\n\\n\\n\\n\\n\\n\\n\\n\\n\\n\\n\\n\\n\\n\\nMiddlemarch\\n\\n\\...\n",
              "7    45    C  \\n\\n\\n\\n\\n                  ANNE OF GREEN GABL..."
            ]
          },
          "execution_count": 9,
          "metadata": {},
          "output_type": "execute_result"
        }
      ],
      "source": [
        "classics_df"
      ]
    },
    {
      "cell_type": "markdown",
      "metadata": {
        "id": "d4O7Ft9_VVGZ"
      },
      "source": [
        "### 2.2 Convert Python Dataframe into Spark Dataframe"
      ]
    },
    {
      "cell_type": "code",
      "execution_count": 10,
      "metadata": {
        "id": "eSBwrf4sVnOT"
      },
      "outputs": [],
      "source": [
        "import re\n",
        "import pyspark\n",
        "from pyspark import SparkContext\n",
        "from pyspark import SparkConf\n",
        "from pyspark.sql import SQLContext\n",
        "\n",
        "#sc =  pyspark.SparkContext(\"local[*]\", \"Test Context\")\n",
        "sqlContext = SQLContext(spark)"
      ]
    },
    {
      "cell_type": "code",
      "execution_count": 11,
      "metadata": {
        "id": "puETLHbXWG-J"
      },
      "outputs": [],
      "source": [
        "df_Spark_classics = sqlContext.createDataFrame(classics_df) #Pyspark SQL dataframe"
      ]
    },
    {
      "cell_type": "markdown",
      "metadata": {
        "id": "7tnqsgNLVqcr"
      },
      "source": [
        "## 3.Get Fanfictions Corpus"
      ]
    },
    {
      "cell_type": "markdown",
      "metadata": {
        "id": "O9AwiLtTX9Gf"
      },
      "source": [
        "### 3.1 Convert txt files into Python Dataframe"
      ]
    },
    {
      "cell_type": "code",
      "execution_count": 12,
      "metadata": {
        "id": "q_061UaIX8Wl"
      },
      "outputs": [],
      "source": [
        "directory =\"/content/drive/MyDrive/Distributed-Computing/data/fanfiction/\" #Change according to path\n",
        "# directory =\"data/fanfiction/\" #Change according to path\n",
        "text_type = 'F'\n",
        "\n",
        "fanfictions_df = pd.DataFrame(columns=['id', 'type', 'text'])\n",
        "\n",
        "for filename in os.listdir(directory):\n",
        "    file_ext = os.path.basename(filename).rsplit('.',1)[1] #Get file extension\n",
        "    if file_ext == \"txt\":\n",
        "        with open(directory + '/' + filename, 'r') as file:\n",
        "            text_id = os.path.basename(filename).rsplit('.',1)[0]\n",
        "            corpus = file.read()\n",
        "            corpus = corpus.replace('Chapter', '')\n",
        "            corpus = re.sub(';', ' ', corpus)\n",
        "            fanfictions_df.loc[len(fanfictions_df.index)] = [text_id, text_type, corpus]"
      ]
    },
    {
      "cell_type": "code",
      "execution_count": 13,
      "metadata": {
        "colab": {
          "base_uri": "https://localhost:8080/",
          "height": 332
        },
        "id": "iZ2UUw7D7QKt",
        "outputId": "ebf9cedf-3088-4c66-b28d-7ae62fa4ce37"
      },
      "outputs": [
        {
          "data": {
            "text/html": [
              "\n",
              "  <div id=\"df-2f013034-59be-4836-aaaf-daf9a0df50e4\">\n",
              "    <div class=\"colab-df-container\">\n",
              "      <div>\n",
              "<style scoped>\n",
              "    .dataframe tbody tr th:only-of-type {\n",
              "        vertical-align: middle;\n",
              "    }\n",
              "\n",
              "    .dataframe tbody tr th {\n",
              "        vertical-align: top;\n",
              "    }\n",
              "\n",
              "    .dataframe thead th {\n",
              "        text-align: right;\n",
              "    }\n",
              "</style>\n",
              "<table border=\"1\" class=\"dataframe\">\n",
              "  <thead>\n",
              "    <tr style=\"text-align: right;\">\n",
              "      <th></th>\n",
              "      <th>id</th>\n",
              "      <th>type</th>\n",
              "      <th>text</th>\n",
              "    </tr>\n",
              "  </thead>\n",
              "  <tbody>\n",
              "    <tr>\n",
              "      <th>0</th>\n",
              "      <td>fanfic_1536152</td>\n",
              "      <td>F</td>\n",
              "      <td>1\\nGoing back was the worst.I had hoped that,...</td>\n",
              "    </tr>\n",
              "    <tr>\n",
              "      <th>1</th>\n",
              "      <td>fanfic_35367502</td>\n",
              "      <td>F</td>\n",
              "      <td>1\\n“Lily there’s a boy at the door!”\\nThe gin...</td>\n",
              "    </tr>\n",
              "    <tr>\n",
              "      <th>2</th>\n",
              "      <td>fanfic_33183868</td>\n",
              "      <td>F</td>\n",
              "      <td>1\\n \\n\\n \\n\\nThere was something luminescent ...</td>\n",
              "    </tr>\n",
              "    <tr>\n",
              "      <th>3</th>\n",
              "      <td>fanfic_7441657</td>\n",
              "      <td>F</td>\n",
              "      <td>1\\nPrologue\\nOctober 31, 1981\\nThe view out t...</td>\n",
              "    </tr>\n",
              "    <tr>\n",
              "      <th>4</th>\n",
              "      <td>fanfic_24025603</td>\n",
              "      <td>F</td>\n",
              "      <td>1\\nDisclaimer: I, by no means, claim to own a...</td>\n",
              "    </tr>\n",
              "    <tr>\n",
              "      <th>5</th>\n",
              "      <td>fanfic_23824330</td>\n",
              "      <td>F</td>\n",
              "      <td>1\\nAmy sits facing the window of her room. He...</td>\n",
              "    </tr>\n",
              "    <tr>\n",
              "      <th>6</th>\n",
              "      <td>fanfic_25042705</td>\n",
              "      <td>F</td>\n",
              "      <td>1\\n“But, really,” said Mrs. Bennet rather lou...</td>\n",
              "    </tr>\n",
              "    <tr>\n",
              "      <th>7</th>\n",
              "      <td>fanfic_36819574</td>\n",
              "      <td>F</td>\n",
              "      <td>1\\nI was born in sunlight, and dragged into d...</td>\n",
              "    </tr>\n",
              "    <tr>\n",
              "      <th>8</th>\n",
              "      <td>fanfic_8523001</td>\n",
              "      <td>F</td>\n",
              "      <td>1\\nThere was such a cultural veil of secrecy ...</td>\n",
              "    </tr>\n",
              "  </tbody>\n",
              "</table>\n",
              "</div>\n",
              "      <button class=\"colab-df-convert\" onclick=\"convertToInteractive('df-2f013034-59be-4836-aaaf-daf9a0df50e4')\"\n",
              "              title=\"Convert this dataframe to an interactive table.\"\n",
              "              style=\"display:none;\">\n",
              "        \n",
              "  <svg xmlns=\"http://www.w3.org/2000/svg\" height=\"24px\"viewBox=\"0 0 24 24\"\n",
              "       width=\"24px\">\n",
              "    <path d=\"M0 0h24v24H0V0z\" fill=\"none\"/>\n",
              "    <path d=\"M18.56 5.44l.94 2.06.94-2.06 2.06-.94-2.06-.94-.94-2.06-.94 2.06-2.06.94zm-11 1L8.5 8.5l.94-2.06 2.06-.94-2.06-.94L8.5 2.5l-.94 2.06-2.06.94zm10 10l.94 2.06.94-2.06 2.06-.94-2.06-.94-.94-2.06-.94 2.06-2.06.94z\"/><path d=\"M17.41 7.96l-1.37-1.37c-.4-.4-.92-.59-1.43-.59-.52 0-1.04.2-1.43.59L10.3 9.45l-7.72 7.72c-.78.78-.78 2.05 0 2.83L4 21.41c.39.39.9.59 1.41.59.51 0 1.02-.2 1.41-.59l7.78-7.78 2.81-2.81c.8-.78.8-2.07 0-2.86zM5.41 20L4 18.59l7.72-7.72 1.47 1.35L5.41 20z\"/>\n",
              "  </svg>\n",
              "      </button>\n",
              "      \n",
              "  <style>\n",
              "    .colab-df-container {\n",
              "      display:flex;\n",
              "      flex-wrap:wrap;\n",
              "      gap: 12px;\n",
              "    }\n",
              "\n",
              "    .colab-df-convert {\n",
              "      background-color: #E8F0FE;\n",
              "      border: none;\n",
              "      border-radius: 50%;\n",
              "      cursor: pointer;\n",
              "      display: none;\n",
              "      fill: #1967D2;\n",
              "      height: 32px;\n",
              "      padding: 0 0 0 0;\n",
              "      width: 32px;\n",
              "    }\n",
              "\n",
              "    .colab-df-convert:hover {\n",
              "      background-color: #E2EBFA;\n",
              "      box-shadow: 0px 1px 2px rgba(60, 64, 67, 0.3), 0px 1px 3px 1px rgba(60, 64, 67, 0.15);\n",
              "      fill: #174EA6;\n",
              "    }\n",
              "\n",
              "    [theme=dark] .colab-df-convert {\n",
              "      background-color: #3B4455;\n",
              "      fill: #D2E3FC;\n",
              "    }\n",
              "\n",
              "    [theme=dark] .colab-df-convert:hover {\n",
              "      background-color: #434B5C;\n",
              "      box-shadow: 0px 1px 3px 1px rgba(0, 0, 0, 0.15);\n",
              "      filter: drop-shadow(0px 1px 2px rgba(0, 0, 0, 0.3));\n",
              "      fill: #FFFFFF;\n",
              "    }\n",
              "  </style>\n",
              "\n",
              "      <script>\n",
              "        const buttonEl =\n",
              "          document.querySelector('#df-2f013034-59be-4836-aaaf-daf9a0df50e4 button.colab-df-convert');\n",
              "        buttonEl.style.display =\n",
              "          google.colab.kernel.accessAllowed ? 'block' : 'none';\n",
              "\n",
              "        async function convertToInteractive(key) {\n",
              "          const element = document.querySelector('#df-2f013034-59be-4836-aaaf-daf9a0df50e4');\n",
              "          const dataTable =\n",
              "            await google.colab.kernel.invokeFunction('convertToInteractive',\n",
              "                                                     [key], {});\n",
              "          if (!dataTable) return;\n",
              "\n",
              "          const docLinkHtml = 'Like what you see? Visit the ' +\n",
              "            '<a target=\"_blank\" href=https://colab.research.google.com/notebooks/data_table.ipynb>data table notebook</a>'\n",
              "            + ' to learn more about interactive tables.';\n",
              "          element.innerHTML = '';\n",
              "          dataTable['output_type'] = 'display_data';\n",
              "          await google.colab.output.renderOutput(dataTable, element);\n",
              "          const docLink = document.createElement('div');\n",
              "          docLink.innerHTML = docLinkHtml;\n",
              "          element.appendChild(docLink);\n",
              "        }\n",
              "      </script>\n",
              "    </div>\n",
              "  </div>\n",
              "  "
            ],
            "text/plain": [
              "                id type                                               text\n",
              "0   fanfic_1536152    F   1\\nGoing back was the worst.I had hoped that,...\n",
              "1  fanfic_35367502    F   1\\n“Lily there’s a boy at the door!”\\nThe gin...\n",
              "2  fanfic_33183868    F   1\\n \\n\\n \\n\\nThere was something luminescent ...\n",
              "3   fanfic_7441657    F   1\\nPrologue\\nOctober 31, 1981\\nThe view out t...\n",
              "4  fanfic_24025603    F   1\\nDisclaimer: I, by no means, claim to own a...\n",
              "5  fanfic_23824330    F   1\\nAmy sits facing the window of her room. He...\n",
              "6  fanfic_25042705    F   1\\n“But, really,” said Mrs. Bennet rather lou...\n",
              "7  fanfic_36819574    F   1\\nI was born in sunlight, and dragged into d...\n",
              "8   fanfic_8523001    F   1\\nThere was such a cultural veil of secrecy ..."
            ]
          },
          "execution_count": 13,
          "metadata": {},
          "output_type": "execute_result"
        }
      ],
      "source": [
        "fanfictions_df"
      ]
    },
    {
      "cell_type": "markdown",
      "metadata": {
        "id": "P_xfXM-JYCVe"
      },
      "source": [
        "### 3.2 Convert Python Dataframe into Spark Dataframe"
      ]
    },
    {
      "cell_type": "code",
      "execution_count": 14,
      "metadata": {
        "id": "D2nGH71mX71g"
      },
      "outputs": [],
      "source": [
        "df_Spark_fanfictions = sqlContext.createDataFrame(fanfictions_df) #Pyspark SQL dataframe"
      ]
    },
    {
      "cell_type": "markdown",
      "metadata": {
        "id": "675Exsu0Y3uL"
      },
      "source": [
        "## 4 Preprocess Texts"
      ]
    },
    {
      "cell_type": "markdown",
      "metadata": {
        "id": "L9m3hBQZF8SN"
      },
      "source": [
        "### 4.1 Create Preprocessing Pipeline"
      ]
    },
    {
      "cell_type": "markdown",
      "metadata": {
        "id": "YYzZHjoXGBs3"
      },
      "source": [
        "Create pipeline to preprocess the spark dataframe texts.\n",
        "\n",
        "Each of these classes receive an input column and creates the output column.\n",
        "At the end of the pipeline, we will have a dataframe with all of the columns that are created on the fly and their results.\n",
        "\n",
        "The **last column** generated, in this case **token_features** is the one that has all the words after being preprocessed, removing stop words, etc."
      ]
    },
    {
      "cell_type": "code",
      "execution_count": 15,
      "metadata": {
        "id": "pRf9LnvgGQwi"
      },
      "outputs": [],
      "source": [
        "#https://medium.com/spark-nlp/spark-nlp-101-document-assembler-500018f5f6b5\n",
        "document = DocumentAssembler()\\\n",
        "    .setInputCol(\"text\")\\\n",
        "    .setOutputCol(\"document\") \\\n",
        "    .setCleanupMode(\"shrink_full\") #remove new lines and tabs, plus shrinking spaces and blank lines.\n",
        "\n",
        "#https://nlp.johnsnowlabs.com/api/python/reference/autosummary/sparknlp.annotator.Tokenizer.html\n",
        "token = Tokenizer()\\\n",
        "    .setInputCols(['document'])\\\n",
        "    .setOutputCol('token')\n",
        "\n",
        "#https://nlp.johnsnowlabs.com/docs/en/annotators\n",
        "normalizer = Normalizer() \\\n",
        "    .setInputCols([\"token\"]) \\\n",
        "    .setOutputCol(\"normalized\") \\\n",
        "    .setLowercase(True) \\\n",
        "    .setCleanupPatterns([\"\"\"[^A-Za-z]\"\"\"]) # remove punctuations and alphanumeric chars\n",
        "\n",
        "finisher = Finisher() \\\n",
        "    .setInputCols([\"normalized\"]) \\\n",
        "    .setOutputCols([\"token_features\"]) \\\n",
        "    .setOutputAsArray(True) \\\n",
        "    .setCleanAnnotations(False)"
      ]
    },
    {
      "cell_type": "code",
      "execution_count": 16,
      "metadata": {
        "id": "WfGrTrtZGVtN"
      },
      "outputs": [],
      "source": [
        "nlp_pipeline_lr = Pipeline(\n",
        "        stages=[document, \n",
        "                token,\n",
        "                normalizer,\n",
        "                finisher])"
      ]
    },
    {
      "cell_type": "markdown",
      "metadata": {
        "id": "qVRtMFSvGZ7b"
      },
      "source": [
        "### 4.2 Apply Pipeline to Spark Dataframes"
      ]
    },
    {
      "cell_type": "markdown",
      "metadata": {
        "id": "ltwYi1mQcgv6"
      },
      "source": [
        "#### 4.2.1 Classics"
      ]
    },
    {
      "cell_type": "code",
      "execution_count": 31,
      "metadata": {
        "id": "Hf-t11ocGZhx"
      },
      "outputs": [],
      "source": [
        "processed_classics_df = nlp_pipeline_lr.fit(df_Spark_classics).transform(df_Spark_classics)\n",
        "\n",
        "#Show Token Features column\n",
        "# processed_classics_df.select(\"token_features\").show(truncate=200) "
      ]
    },
    {
      "cell_type": "markdown",
      "metadata": {
        "id": "XqE2UdOXckMi"
      },
      "source": [
        "#### 4.2.2 Fanfictions"
      ]
    },
    {
      "cell_type": "code",
      "execution_count": 32,
      "metadata": {
        "id": "Wp76EXcM75Ug"
      },
      "outputs": [],
      "source": [
        "processed_fanfictions_df = nlp_pipeline_lr.fit(df_Spark_fanfictions).transform(df_Spark_fanfictions)\n",
        "\n",
        "#Show Token Features column\n",
        "# processed_fanfictions_df.select(\"token_features\").show(truncate=200) "
      ]
    },
    {
      "cell_type": "markdown",
      "metadata": {
        "id": "s6AFS8-N8c1v"
      },
      "source": [
        "------------------------------------------------------------------------------------------------------------"
      ]
    },
    {
      "cell_type": "markdown",
      "metadata": {
        "id": "lU_z5wJ38f5e"
      },
      "source": [
        "At this point we have two preprocessed Spark Dataframes where each row belongs two one book. The column of interest is **\"token_features\"**, which contains all the **tokens** of the corpus.\n",
        "\n",
        "1.   **processed_classics_df**: Contains the eiight classics (one per row)\n",
        "2.   **processed_fanfictions_df**: Contains the eiight fanfictions (one per row)\n",
        "\n",
        "--> From here, we can start doing additional processing like TF-IDF or other stuff to obtain the information we want.\n",
        "\n",
        "\n",
        "\n",
        "\n"
      ]
    },
    {
      "cell_type": "markdown",
      "metadata": {
        "id": "srDXfdJMAxzb"
      },
      "source": [
        "### 4.3 Final Spark DataFrame of all Texts"
      ]
    },
    {
      "cell_type": "code",
      "execution_count": 33,
      "metadata": {
        "id": "fzXUeHrnBA0m"
      },
      "outputs": [],
      "source": [
        "# Classics Spark DataFrame\n",
        "final_classics_df = processed_classics_df.select(['id', 'type', 'token_features'])\n",
        "\n",
        "# Fanfictions Spark DataFrame\n",
        "final_fanfictions_df = processed_fanfictions_df.select(['id', 'type', 'token_features'])"
      ]
    },
    {
      "cell_type": "code",
      "execution_count": 34,
      "metadata": {
        "colab": {
          "base_uri": "https://localhost:8080/"
        },
        "id": "M6Yxxa4q6wl9",
        "outputId": "c2274ec9-9d9a-4aa5-ffd4-0723cde0fa19"
      },
      "outputs": [
        {
          "data": {
            "text/plain": [
              "StructType(List(StructField(id,StringType,true),StructField(type,StringType,true),StructField(token_features,ArrayType(StringType,true),true)))"
            ]
          },
          "execution_count": 34,
          "metadata": {},
          "output_type": "execute_result"
        }
      ],
      "source": [
        "# Combine Classics and Fanfic DataFrames\n",
        "final_df = final_classics_df.union(final_fanfictions_df)\n",
        "final_df.schema"
      ]
    },
    {
      "cell_type": "code",
      "execution_count": 35,
      "metadata": {
        "id": "jQyKCyP3DQD7"
      },
      "outputs": [],
      "source": [
        "# SQL table named 'texts' from the final_df Spark dataframe\n",
        "final_df.createOrReplaceTempView('texts')"
      ]
    },
    {
      "cell_type": "markdown",
      "metadata": {
        "id": "1VJHQxSG6xzu"
      },
      "source": [
        "## 5 Analysis: Protagonist Development"
      ]
    },
    {
      "cell_type": "markdown",
      "metadata": {
        "id": "M8ZxEVOH7IUj"
      },
      "source": [
        "### 5.1 Setup pyspark.sql"
      ]
    },
    {
      "cell_type": "code",
      "execution_count": 36,
      "metadata": {
        "id": "566CEMd_7QSw"
      },
      "outputs": [],
      "source": [
        "from pyspark.sql import SparkSession\n",
        "from pyspark.sql.types import StringType\n",
        "from pyspark.sql.functions import concat_ws, split, col, concat, lit, udf, col\n",
        "\n",
        "spark = SparkSession.builder.master(\"local[*]\").appName(\"temp\").getOrCreate()"
      ]
    },
    {
      "cell_type": "markdown",
      "metadata": {
        "id": "ycdRhulV6zSh"
      },
      "source": [
        "### 5.2 Helper Functions for Analysis"
      ]
    },
    {
      "cell_type": "code",
      "execution_count": 37,
      "metadata": {
        "colab": {
          "base_uri": "https://localhost:8080/"
        },
        "id": "AXduHYEuhkxc",
        "outputId": "5b3cbd31-337d-467c-bc7b-472da6a451da"
      },
      "outputs": [
        {
          "data": {
            "text/plain": [
              "<function __main__.document_length>"
            ]
          },
          "execution_count": 37,
          "metadata": {},
          "output_type": "execute_result"
        }
      ],
      "source": [
        "# User Defined Functions\n",
        "@udf()\n",
        "def get_indices(lst, word_lst):\n",
        "  ''' Obtain location (i.e. indices) when the given word(s) appear '''\n",
        "  word_lst = word_lst.split('/')\n",
        "  indices = [i for i, x in enumerate(lst) if x in word_lst]\n",
        "  return indices\n",
        "\n",
        "@udf()\n",
        "def document_length(lst): \n",
        "  ''' Get the document length '''\n",
        "  return(len(lst))\n",
        "\n",
        "# Register UDFs to be used in SQL statements\n",
        "spark.udf.register(\"get_indices\" , get_indices)\n",
        "spark.udf.register(\"document_length\" , document_length)\n"
      ]
    },
    {
      "cell_type": "markdown",
      "metadata": {
        "id": "h7Or6_b67xgL"
      },
      "source": [
        "### 5.3 Apply the UDFs for Analysis"
      ]
    },
    {
      "cell_type": "markdown",
      "metadata": {
        "id": "JeSzSW9K8Phi"
      },
      "source": [
        "#### 5.3.1 Spark Dataframe of Results"
      ]
    },
    {
      "cell_type": "code",
      "execution_count": 38,
      "metadata": {
        "id": "4USsbaC42AG2"
      },
      "outputs": [],
      "source": [
        "# SQL query: determine where in the texts concepts of being a girl and a woman appear\n",
        "indices_df = spark.sql('''select *, \n",
        "                          document_length(token_features) as length, \n",
        "                          get_indices(token_features, \"girl/young\") as girl, \n",
        "                          get_indices(token_features, \"woman/lady/old\") as woman, \n",
        "                          get_indices(token_features, \"naive\") as naive \n",
        "                        from texts'''\n",
        "                      )"
      ]
    },
    {
      "cell_type": "code",
      "execution_count": 39,
      "metadata": {
        "colab": {
          "base_uri": "https://localhost:8080/"
        },
        "id": "wOB4k1In1Jhw",
        "outputId": "3aef5a96-0f56-4ef8-cf53-a07dac3e01c7"
      },
      "outputs": [
        {
          "name": "stdout",
          "output_type": "stream",
          "text": [
            "+---------------+----+--------------------------------------------------------------------------------------------------------------------------------------------------------------------------------------------------------+------+--------------------------------------------------------------------------------------------------------------------------------------------------------------------------------------------------------+--------------------------------------------------------------------------------------------------------------------------------------------------------------------------------------------------------+------------------------------------------+\n",
            "|             id|type|                                                                                                                                                                                          token_features|length|                                                                                                                                                                                                    girl|                                                                                                                                                                                                   woman|                                     naive|\n",
            "+---------------+----+--------------------------------------------------------------------------------------------------------------------------------------------------------------------------------------------------------+------+--------------------------------------------------------------------------------------------------------------------------------------------------------------------------------------------------------+--------------------------------------------------------------------------------------------------------------------------------------------------------------------------------------------------------+------------------------------------------+\n",
            "|           1342|   C|[pride, and, prejudice, by, jane, austen, it, is, a, truth, universally, acknowledged, that, a, single, man, in, possession, of, a, good, fortune, must, be, in, want, of, a, wife, however, little, ...|121414|[174, 734, 1295, 1732, 1847, 2102, 2606, 2706, 2846, 3376, 3408, 4358, 4378, 4585, 5093, 5258, 6941, 7185, 7793, 8271, 9125, 10228, 10945, 10960, 11002, 11358, 12677, 12782, 13039, 18670, 19032, 19...|[82, 417, 436, 491, 697, 819, 998, 1296, 1715, 1994, 2345, 2538, 3494, 4554, 4562, 4586, 5591, 5762, 6581, 6698, 7124, 7186, 7514, 7533, 11003, 11039, 11112, 11146, 11266, 11580, 12678, 12690, 1342...|                                        []|\n",
            "|            768|   C|[transcribed, from, the, john, murray, edition, by, david, price, email, ccxpglaforg, wuthering, heights, chapter, i, i, have, just, returned, from, a, visit, to, my, landlordthe, solitary, neighbo...|115871|[2268, 2445, 2825, 3142, 3728, 4723, 9471, 10454, 10555, 12030, 12548, 12957, 14359, 14435, 14699, 15892, 16434, 16643, 17170, 20749, 20890, 21440, 21747, 21821, 22034, 23069, 23292, 23591, 25741, ...|[346, 349, 773, 1975, 2942, 3143, 3338, 3350, 3365, 4141, 6381, 8341, 9472, 10455, 10599, 10602, 10850, 11016, 11115, 11951, 12093, 12904, 13544, 14617, 15386, 15970, 16283, 16284, 16435, 16853, 17...|                                        []|\n",
            "|           1260|   C|[transcribed, from, the, service, paton, edition, by, david, price, email, ccxpglaforg, jane, eyre, an, autobiography, by, charlotte, bronte, illustrated, by, f, h, townsend, london, service, paton...|185464|[2236, 2981, 2987, 3223, 4262, 8217, 8261, 8286, 9680, 10000, 10055, 10217, 11099, 11175, 11357, 11809, 12477, 12512, 12977, 14260, 14353, 15478, 15734, 15818, 16997, 17371, 18464, 18630, 19322, 19...|[1782, 2013, 3637, 4261, 6718, 7344, 7485, 7953, 9201, 10056, 10218, 10265, 11008, 11458, 12606, 13253, 14516, 15703, 15838, 15880, 16861, 16899, 17571, 17779, 18324, 18870, 18910, 18991, 20236, 22...|                           [68927, 148724]|\n",
            "|            514|   C|[little, women, by, louisa, may, alcott, contents, part, one, playing, pilgrims, two, a, merry, christmas, three, the, laurence, boy, four, burdens, five, being, neighborly, six, beth, finds, the, ...|186030|[247, 998, 1017, 1082, 1308, 1533, 1558, 1651, 3398, 3841, 6025, 7561, 10179, 10495, 11641, 12143, 12185, 13414, 13415, 14454, 15825, 17473, 17775, 17947, 18133, 18401, 19992, 20287, 20676, 20791, ...|[161, 202, 595, 596, 976, 1018, 1130, 1131, 1541, 1652, 1696, 2095, 2608, 2630, 2982, 3451, 3713, 3745, 3842, 4029, 4131, 4271, 4357, 4755, 5296, 5530, 5564, 5613, 6085, 6159, 6167, 6404, 7128, 746...|                                        []|\n",
            "|           1905|   C|[the, governess, or, the, little, female, academy, by, sarah, fielding, there, lived, in, the, northern, parts, of, england, a, gentlewoman, who, undertook, the, education, of, young, ladies, and, ...| 50669|[25, 494, 620, 703, 794, 2143, 3458, 3680, 4869, 4880, 7040, 7118, 7497, 15555, 15681, 15839, 15909, 16411, 16442, 16488, 16511, 16519, 16647, 21205, 21512, 22166, 23942, 24087, 24120, 24309, 25235...|[547, 740, 2207, 5309, 5323, 5469, 6062, 6516, 9966, 13643, 15501, 15708, 15738, 15996, 16438, 16450, 16473, 16499, 16636, 17971, 17999, 18138, 18139, 19752, 19753, 20475, 20476, 21282, 21963, 2252...|                                        []|\n",
            "|            113|   C|[in, honor, of, lisa, harts, th, birthday, the, secret, garden, by, frances, hodgson, burnett, author, of, the, shuttle, the, making, of, a, marchioness, the, methods, of, lady, walderhurst, the, l...| 80712|[121, 306, 451, 805, 820, 835, 976, 1045, 1568, 1892, 1967, 2199, 3052, 3409, 3553, 3580, 3774, 4232, 4991, 5076, 5184, 6271, 6425, 6675, 6719, 7185, 7870, 8010, 8107, 8151, 8408, 9653, 11057, 1138...|[26, 39, 437, 532, 567, 580, 1506, 1769, 2688, 3064, 3075, 3092, 3573, 3990, 4020, 4143, 4144, 4289, 4463, 5300, 6066, 7186, 8102, 8272, 8279, 9027, 9258, 9291, 9990, 10126, 10251, 10532, 10670, 10...|                                        []|\n",
            "|            145|   C|[middlemarch, by, george, eliot, new, york, and, boston, h, m, caldwell, company, publishers, to, my, dear, husband, george, henry, lewes, in, this, nineteenth, year, of, our, blessed, union, conte...|316288|[254, 343, 966, 1223, 1597, 1648, 1798, 4524, 4578, 5647, 5653, 6264, 6745, 7524, 8126, 8207, 8411, 8447, 8475, 8535, 8575, 8773, 9924, 10618, 10619, 13046, 13494, 13821, 13995, 14030, 14031, 14633...|[395, 709, 1272, 1649, 1701, 2202, 2220, 4526, 4760, 5062, 6411, 6458, 8413, 8729, 8774, 8805, 9925, 11050, 11067, 13358, 13822, 14039, 15972, 17578, 17603, 17629, 17671, 17886, 17929, 17976, 18133...|[5899, 9496, 22467, 58625, 100418, 163813]|\n",
            "|             45|   C|[anne, of, green, gables, by, lucy, maud, montgomery, table, of, contents, chapter, i, mrs, rachel, lynde, is, surprised, chapter, ii, matthew, cuthbert, is, surprised, chapter, iii, marilla, cuthb...|102508|[244, 2063, 2273, 2324, 2779, 2788, 2817, 2972, 3400, 3420, 3536, 3583, 3627, 3691, 4485, 5370, 5424, 5876, 6014, 6685, 6944, 8600, 8768, 8943, 9254, 9854, 10059, 11205, 12610, 13476, 14446, 14934,...|[322, 971, 1682, 1718, 4309, 4836, 6263, 8772, 8908, 12036, 12338, 12929, 13270, 13319, 13505, 13900, 14725, 15018, 15281, 15411, 15440, 15611, 15975, 16124, 16287, 16305, 17201, 18228, 19330, 2037...|                                        []|\n",
            "| fanfic_1536152|   F|[going, back, was, the, worsti, had, hoped, that, after, a, case, like, mine, id, be, moved, to, another, school, no, such, luck, my, trip, in, the, locker, had, no, positive, consequence, whatsoev...|171598|[204, 2449, 3087, 3740, 3757, 3826, 6077, 6091, 6136, 7851, 19093, 19401, 21396, 28858, 29102, 29103, 36034, 36595, 39167, 42404, 42846, 42988, 43058, 48058, 48091, 48407, 49393, 49470, 49508, 4974...|[766, 1703, 3000, 3485, 3542, 9752, 9829, 9971, 12380, 15945, 16059, 16584, 16979, 17408, 18414, 18473, 18654, 32361, 42848, 43181, 44113, 44121, 48092, 50472, 50510, 51037, 51078, 51111, 51238, 51...|                                        []|\n",
            "|fanfic_35367502|   F|[lily, theres, a, boy, at, the, door, the, ginger, haired, girl, quickly, looks, over, her, shoulder, at, her, sister, then, back, outside, through, the, glass, of, the, front, door, two, of, them,...|106735|[10, 1016, 4136, 4146, 4170, 4956, 5661, 9080, 9710, 11614, 13176, 16691, 18436, 22287, 24586, 25227, 25259, 25920, 25993, 26007, 29259, 29366, 30021, 33759, 34795, 34816, 34903, 35400, 35905, 3938...|[451, 2430, 3133, 3306, 3317, 3508, 4258, 11228, 17579, 25527, 25536, 25921, 27697, 33884, 36284, 37864, 39785, 42983, 45738, 45989, 46024, 53549, 54074, 59230, 61093, 61195, 61237, 61287, 61366, 6...|                                        []|\n",
            "|fanfic_33183868|   F|[there, was, something, luminescent, about, susie, something, about, her, that, just, drew, noelles, eye, as, they, walked, down, the, hallway, susie, was, several, steps, away, from, noelle, and, ...| 95127|[52, 95, 228, 2036, 2323, 3273, 3396, 3507, 3568, 5434, 5861, 7388, 7464, 7667, 7824, 12491, 12513, 12566, 12596, 12621, 12644, 12687, 12769, 12905, 13013, 13092, 13129, 13567, 13610, 14335, 14617,...|[2720, 5357, 5435, 26570, 29632, 33160, 36218, 44324, 44554, 47070, 47228, 49162, 49163, 51697, 52295, 52482, 52509, 52660, 54346, 57837, 59182, 66573, 66574, 67649, 68254, 71399, 71547, 72843, 754...|                                        []|\n",
            "| fanfic_7441657|   F|[prologue, october, the, view, out, the, window, was, dark, the, new, moon, had, come, a, few, days, before, and, only, a, sliver, of, white, showed, in, the, sky, there, were, no, electric, lights...|115869|[92, 120, 158, 190, 223, 288, 327, 2172, 2966, 3362, 3731, 3732, 3829, 4015, 4459, 4669, 5408, 5748, 7070, 7659, 8321, 10093, 10094, 10999, 11049, 11093, 11214, 11422, 11481, 11624, 11657, 11738, 1...|[122, 377, 1907, 3479, 3500, 3537, 3592, 4670, 6669, 7453, 7523, 7660, 7775, 7826, 8075, 8103, 8343, 10261, 12827, 25011, 26425, 27596, 28258, 28769, 31276, 32438, 33021, 35095, 35990, 38930, 41160...|                                   [63488]|\n",
            "|fanfic_24025603|   F|[disclaimer, i, by, no, means, claim, to, own, anything, remotely, related, to, the, glee, or, pitch, perfect, universe, no, copyright, infringement, intended, i, chloe, beale, does, not, expect, h...|233940|[4306, 4336, 4368, 4422, 5503, 6142, 6656, 6855, 6881, 8364, 8386, 10147, 13898, 14072, 14284, 15584, 16684, 16728, 16754, 16762, 16811, 16845, 16870, 16922, 16945, 18575, 20421, 22873, 23468, 2372...|[284, 443, 478, 755, 801, 847, 893, 946, 997, 1083, 1428, 1458, 1491, 1512, 1549, 1580, 1631, 1723, 1987, 2889, 3124, 3424, 4203, 4208, 4292, 4361, 4424, 4719, 5175, 6416, 6478, 8181, 9403, 10215, ...|                                        []|\n",
            "|fanfic_23824330|   F|[amy, sits, facing, the, window, of, her, room, her, phone, is, propped, up, on, her, desk, which, is, littered, with, wide, sheets, of, art, paper, and, pencils, of, every, color, amy, to, her, ph...| 22128|                                                                                                       [2459, 4246, 5199, 7046, 7057, 7751, 8782, 8805, 10356, 10363, 16658, 19390, 19977, 20461, 21766]|                                                                                                                                 [544, 2881, 6546, 8788, 9574, 10174, 13748, 15746, 15875, 16990, 21048]|                                        []|\n",
            "|fanfic_25042705|   F|[but, really, said, mrs, bennet, rather, loudly, placing, her, teacup, back, into, the, saucer, with, a, loud, clink, i, think, that, any, young, man, with, such, an, income, should, really, be, se...|267671|[22, 1109, 2954, 3106, 3554, 7871, 8271, 8385, 8812, 9810, 11150, 11777, 14123, 20325, 28550, 31797, 34081, 37758, 38694, 39469, 41381, 44197, 44465, 44762, 44879, 45270, 46959, 47928, 47956, 47970...|[2765, 4301, 5090, 5726, 6192, 6230, 7283, 9498, 9742, 25174, 26669, 28832, 30136, 31075, 33129, 38695, 41295, 45276, 47308, 47974, 48373, 51980, 51998, 52225, 54874, 60007, 63255, 63442, 67689, 69...|                                        []|\n",
            "|fanfic_36819574|   F|[i, was, born, in, sunlight, and, dragged, into, darkness, a, child, pure, before, becoming, cursedi, watched, the, first, woman, i, came, to, love, wither, away, in, front, of, me, i, closed, my, ...|245639|[1028, 1977, 1978, 2847, 4673, 7693, 9314, 10964, 13930, 14407, 14936, 15030, 15073, 15708, 16899, 17503, 17619, 24894, 24957, 28312, 30321, 31513, 31977, 35115, 39427, 41368, 42007, 47145, 48004, ...|[18, 55, 197, 869, 1039, 1498, 1676, 1825, 1907, 2008, 2657, 2900, 2986, 3502, 3606, 4417, 5076, 6825, 7655, 9141, 11011, 11026, 11084, 11155, 12259, 12336, 12414, 14647, 15723, 18627, 18805, 19286...|                                        []|\n",
            "| fanfic_8523001|   F|[there, was, such, a, cultural, veil, of, secrecy, drawn, about, ones, soulmark, that, it, was, not, until, miss, elizabeth, bennett, visited, mrs, charlotte, collins, ne, lucas, in, kent, that, sh...|190259|[2414, 4118, 4701, 7022, 7584, 7586, 8486, 10526, 15134, 15641, 15702, 15770, 15783, 16346, 18812, 19358, 19363, 21081, 24879, 25031, 26304, 29207, 29279, 29376, 29584, 29792, 30545, 33849, 34656, ...|[658, 840, 976, 1159, 1228, 2772, 2993, 3222, 3574, 3644, 3701, 3849, 4048, 4223, 4294, 4702, 4729, 4999, 5016, 5153, 5273, 5940, 6145, 7569, 8064, 8487, 8673, 8709, 9136, 9234, 9351, 9370, 9481, 9...|                                   [23520]|\n",
            "+---------------+----+--------------------------------------------------------------------------------------------------------------------------------------------------------------------------------------------------------+------+--------------------------------------------------------------------------------------------------------------------------------------------------------------------------------------------------------+--------------------------------------------------------------------------------------------------------------------------------------------------------------------------------------------------------+------------------------------------------+\n",
            "\n"
          ]
        }
      ],
      "source": [
        "indices_df.show(truncate = 200)"
      ]
    },
    {
      "cell_type": "markdown",
      "metadata": {
        "id": "J2m5Wb9q8fgd"
      },
      "source": [
        "#### 5.3.2 Pandas Dataframe of Results"
      ]
    },
    {
      "cell_type": "code",
      "execution_count": 40,
      "metadata": {
        "colab": {
          "base_uri": "https://localhost:8080/",
          "height": 1000
        },
        "id": "F23kOnb32HF7",
        "outputId": "d89d03c1-29a7-4767-adda-e39db36f984c"
      },
      "outputs": [
        {
          "data": {
            "text/html": [
              "\n",
              "  <div id=\"df-0b6fd4fa-8920-42e2-964d-f8ce34c52ada\">\n",
              "    <div class=\"colab-df-container\">\n",
              "      <div>\n",
              "<style scoped>\n",
              "    .dataframe tbody tr th:only-of-type {\n",
              "        vertical-align: middle;\n",
              "    }\n",
              "\n",
              "    .dataframe tbody tr th {\n",
              "        vertical-align: top;\n",
              "    }\n",
              "\n",
              "    .dataframe thead th {\n",
              "        text-align: right;\n",
              "    }\n",
              "</style>\n",
              "<table border=\"1\" class=\"dataframe\">\n",
              "  <thead>\n",
              "    <tr style=\"text-align: right;\">\n",
              "      <th></th>\n",
              "      <th>id</th>\n",
              "      <th>type</th>\n",
              "      <th>token_features</th>\n",
              "      <th>length</th>\n",
              "      <th>girl</th>\n",
              "      <th>woman</th>\n",
              "      <th>naive</th>\n",
              "    </tr>\n",
              "  </thead>\n",
              "  <tbody>\n",
              "    <tr>\n",
              "      <th>0</th>\n",
              "      <td>1342</td>\n",
              "      <td>C</td>\n",
              "      <td>[pride, and, prejudice, by, jane, austen, it, ...</td>\n",
              "      <td>121414</td>\n",
              "      <td>[174, 734, 1295, 1732, 1847, 2102, 2606, 2706,...</td>\n",
              "      <td>[82, 417, 436, 491, 697, 819, 998, 1296, 1715,...</td>\n",
              "      <td>[]</td>\n",
              "    </tr>\n",
              "    <tr>\n",
              "      <th>1</th>\n",
              "      <td>768</td>\n",
              "      <td>C</td>\n",
              "      <td>[transcribed, from, the, john, murray, edition...</td>\n",
              "      <td>115871</td>\n",
              "      <td>[2268, 2445, 2825, 3142, 3728, 4723, 9471, 104...</td>\n",
              "      <td>[346, 349, 773, 1975, 2942, 3143, 3338, 3350, ...</td>\n",
              "      <td>[]</td>\n",
              "    </tr>\n",
              "    <tr>\n",
              "      <th>2</th>\n",
              "      <td>1260</td>\n",
              "      <td>C</td>\n",
              "      <td>[transcribed, from, the, service, paton, editi...</td>\n",
              "      <td>185464</td>\n",
              "      <td>[2236, 2981, 2987, 3223, 4262, 8217, 8261, 828...</td>\n",
              "      <td>[1782, 2013, 3637, 4261, 6718, 7344, 7485, 795...</td>\n",
              "      <td>[68927, 148724]</td>\n",
              "    </tr>\n",
              "    <tr>\n",
              "      <th>3</th>\n",
              "      <td>514</td>\n",
              "      <td>C</td>\n",
              "      <td>[little, women, by, louisa, may, alcott, conte...</td>\n",
              "      <td>186030</td>\n",
              "      <td>[247, 998, 1017, 1082, 1308, 1533, 1558, 1651,...</td>\n",
              "      <td>[161, 202, 595, 596, 976, 1018, 1130, 1131, 15...</td>\n",
              "      <td>[]</td>\n",
              "    </tr>\n",
              "    <tr>\n",
              "      <th>4</th>\n",
              "      <td>1905</td>\n",
              "      <td>C</td>\n",
              "      <td>[the, governess, or, the, little, female, acad...</td>\n",
              "      <td>50669</td>\n",
              "      <td>[25, 494, 620, 703, 794, 2143, 3458, 3680, 486...</td>\n",
              "      <td>[547, 740, 2207, 5309, 5323, 5469, 6062, 6516,...</td>\n",
              "      <td>[]</td>\n",
              "    </tr>\n",
              "    <tr>\n",
              "      <th>5</th>\n",
              "      <td>113</td>\n",
              "      <td>C</td>\n",
              "      <td>[in, honor, of, lisa, harts, th, birthday, the...</td>\n",
              "      <td>80712</td>\n",
              "      <td>[121, 306, 451, 805, 820, 835, 976, 1045, 1568...</td>\n",
              "      <td>[26, 39, 437, 532, 567, 580, 1506, 1769, 2688,...</td>\n",
              "      <td>[]</td>\n",
              "    </tr>\n",
              "    <tr>\n",
              "      <th>6</th>\n",
              "      <td>145</td>\n",
              "      <td>C</td>\n",
              "      <td>[middlemarch, by, george, eliot, new, york, an...</td>\n",
              "      <td>316288</td>\n",
              "      <td>[254, 343, 966, 1223, 1597, 1648, 1798, 4524, ...</td>\n",
              "      <td>[395, 709, 1272, 1649, 1701, 2202, 2220, 4526,...</td>\n",
              "      <td>[5899, 9496, 22467, 58625, 100418, 163813]</td>\n",
              "    </tr>\n",
              "    <tr>\n",
              "      <th>7</th>\n",
              "      <td>45</td>\n",
              "      <td>C</td>\n",
              "      <td>[anne, of, green, gables, by, lucy, maud, mont...</td>\n",
              "      <td>102508</td>\n",
              "      <td>[244, 2063, 2273, 2324, 2779, 2788, 2817, 2972...</td>\n",
              "      <td>[322, 971, 1682, 1718, 4309, 4836, 6263, 8772,...</td>\n",
              "      <td>[]</td>\n",
              "    </tr>\n",
              "    <tr>\n",
              "      <th>8</th>\n",
              "      <td>fanfic_1536152</td>\n",
              "      <td>F</td>\n",
              "      <td>[going, back, was, the, worsti, had, hoped, th...</td>\n",
              "      <td>171598</td>\n",
              "      <td>[204, 2449, 3087, 3740, 3757, 3826, 6077, 6091...</td>\n",
              "      <td>[766, 1703, 3000, 3485, 3542, 9752, 9829, 9971...</td>\n",
              "      <td>[]</td>\n",
              "    </tr>\n",
              "    <tr>\n",
              "      <th>9</th>\n",
              "      <td>fanfic_35367502</td>\n",
              "      <td>F</td>\n",
              "      <td>[lily, theres, a, boy, at, the, door, the, gin...</td>\n",
              "      <td>106735</td>\n",
              "      <td>[10, 1016, 4136, 4146, 4170, 4956, 5661, 9080,...</td>\n",
              "      <td>[451, 2430, 3133, 3306, 3317, 3508, 4258, 1122...</td>\n",
              "      <td>[]</td>\n",
              "    </tr>\n",
              "    <tr>\n",
              "      <th>10</th>\n",
              "      <td>fanfic_33183868</td>\n",
              "      <td>F</td>\n",
              "      <td>[there, was, something, luminescent, about, su...</td>\n",
              "      <td>95127</td>\n",
              "      <td>[52, 95, 228, 2036, 2323, 3273, 3396, 3507, 35...</td>\n",
              "      <td>[2720, 5357, 5435, 26570, 29632, 33160, 36218,...</td>\n",
              "      <td>[]</td>\n",
              "    </tr>\n",
              "    <tr>\n",
              "      <th>11</th>\n",
              "      <td>fanfic_7441657</td>\n",
              "      <td>F</td>\n",
              "      <td>[prologue, october, the, view, out, the, windo...</td>\n",
              "      <td>115869</td>\n",
              "      <td>[92, 120, 158, 190, 223, 288, 327, 2172, 2966,...</td>\n",
              "      <td>[122, 377, 1907, 3479, 3500, 3537, 3592, 4670,...</td>\n",
              "      <td>[63488]</td>\n",
              "    </tr>\n",
              "    <tr>\n",
              "      <th>12</th>\n",
              "      <td>fanfic_24025603</td>\n",
              "      <td>F</td>\n",
              "      <td>[disclaimer, i, by, no, means, claim, to, own,...</td>\n",
              "      <td>233940</td>\n",
              "      <td>[4306, 4336, 4368, 4422, 5503, 6142, 6656, 685...</td>\n",
              "      <td>[284, 443, 478, 755, 801, 847, 893, 946, 997, ...</td>\n",
              "      <td>[]</td>\n",
              "    </tr>\n",
              "    <tr>\n",
              "      <th>13</th>\n",
              "      <td>fanfic_23824330</td>\n",
              "      <td>F</td>\n",
              "      <td>[amy, sits, facing, the, window, of, her, room...</td>\n",
              "      <td>22128</td>\n",
              "      <td>[2459, 4246, 5199, 7046, 7057, 7751, 8782, 880...</td>\n",
              "      <td>[544, 2881, 6546, 8788, 9574, 10174, 13748, 15...</td>\n",
              "      <td>[]</td>\n",
              "    </tr>\n",
              "    <tr>\n",
              "      <th>14</th>\n",
              "      <td>fanfic_25042705</td>\n",
              "      <td>F</td>\n",
              "      <td>[but, really, said, mrs, bennet, rather, loudl...</td>\n",
              "      <td>267671</td>\n",
              "      <td>[22, 1109, 2954, 3106, 3554, 7871, 8271, 8385,...</td>\n",
              "      <td>[2765, 4301, 5090, 5726, 6192, 6230, 7283, 949...</td>\n",
              "      <td>[]</td>\n",
              "    </tr>\n",
              "    <tr>\n",
              "      <th>15</th>\n",
              "      <td>fanfic_36819574</td>\n",
              "      <td>F</td>\n",
              "      <td>[i, was, born, in, sunlight, and, dragged, int...</td>\n",
              "      <td>245639</td>\n",
              "      <td>[1028, 1977, 1978, 2847, 4673, 7693, 9314, 109...</td>\n",
              "      <td>[18, 55, 197, 869, 1039, 1498, 1676, 1825, 190...</td>\n",
              "      <td>[]</td>\n",
              "    </tr>\n",
              "    <tr>\n",
              "      <th>16</th>\n",
              "      <td>fanfic_8523001</td>\n",
              "      <td>F</td>\n",
              "      <td>[there, was, such, a, cultural, veil, of, secr...</td>\n",
              "      <td>190259</td>\n",
              "      <td>[2414, 4118, 4701, 7022, 7584, 7586, 8486, 105...</td>\n",
              "      <td>[658, 840, 976, 1159, 1228, 2772, 2993, 3222, ...</td>\n",
              "      <td>[23520]</td>\n",
              "    </tr>\n",
              "  </tbody>\n",
              "</table>\n",
              "</div>\n",
              "      <button class=\"colab-df-convert\" onclick=\"convertToInteractive('df-0b6fd4fa-8920-42e2-964d-f8ce34c52ada')\"\n",
              "              title=\"Convert this dataframe to an interactive table.\"\n",
              "              style=\"display:none;\">\n",
              "        \n",
              "  <svg xmlns=\"http://www.w3.org/2000/svg\" height=\"24px\"viewBox=\"0 0 24 24\"\n",
              "       width=\"24px\">\n",
              "    <path d=\"M0 0h24v24H0V0z\" fill=\"none\"/>\n",
              "    <path d=\"M18.56 5.44l.94 2.06.94-2.06 2.06-.94-2.06-.94-.94-2.06-.94 2.06-2.06.94zm-11 1L8.5 8.5l.94-2.06 2.06-.94-2.06-.94L8.5 2.5l-.94 2.06-2.06.94zm10 10l.94 2.06.94-2.06 2.06-.94-2.06-.94-.94-2.06-.94 2.06-2.06.94z\"/><path d=\"M17.41 7.96l-1.37-1.37c-.4-.4-.92-.59-1.43-.59-.52 0-1.04.2-1.43.59L10.3 9.45l-7.72 7.72c-.78.78-.78 2.05 0 2.83L4 21.41c.39.39.9.59 1.41.59.51 0 1.02-.2 1.41-.59l7.78-7.78 2.81-2.81c.8-.78.8-2.07 0-2.86zM5.41 20L4 18.59l7.72-7.72 1.47 1.35L5.41 20z\"/>\n",
              "  </svg>\n",
              "      </button>\n",
              "      \n",
              "  <style>\n",
              "    .colab-df-container {\n",
              "      display:flex;\n",
              "      flex-wrap:wrap;\n",
              "      gap: 12px;\n",
              "    }\n",
              "\n",
              "    .colab-df-convert {\n",
              "      background-color: #E8F0FE;\n",
              "      border: none;\n",
              "      border-radius: 50%;\n",
              "      cursor: pointer;\n",
              "      display: none;\n",
              "      fill: #1967D2;\n",
              "      height: 32px;\n",
              "      padding: 0 0 0 0;\n",
              "      width: 32px;\n",
              "    }\n",
              "\n",
              "    .colab-df-convert:hover {\n",
              "      background-color: #E2EBFA;\n",
              "      box-shadow: 0px 1px 2px rgba(60, 64, 67, 0.3), 0px 1px 3px 1px rgba(60, 64, 67, 0.15);\n",
              "      fill: #174EA6;\n",
              "    }\n",
              "\n",
              "    [theme=dark] .colab-df-convert {\n",
              "      background-color: #3B4455;\n",
              "      fill: #D2E3FC;\n",
              "    }\n",
              "\n",
              "    [theme=dark] .colab-df-convert:hover {\n",
              "      background-color: #434B5C;\n",
              "      box-shadow: 0px 1px 3px 1px rgba(0, 0, 0, 0.15);\n",
              "      filter: drop-shadow(0px 1px 2px rgba(0, 0, 0, 0.3));\n",
              "      fill: #FFFFFF;\n",
              "    }\n",
              "  </style>\n",
              "\n",
              "      <script>\n",
              "        const buttonEl =\n",
              "          document.querySelector('#df-0b6fd4fa-8920-42e2-964d-f8ce34c52ada button.colab-df-convert');\n",
              "        buttonEl.style.display =\n",
              "          google.colab.kernel.accessAllowed ? 'block' : 'none';\n",
              "\n",
              "        async function convertToInteractive(key) {\n",
              "          const element = document.querySelector('#df-0b6fd4fa-8920-42e2-964d-f8ce34c52ada');\n",
              "          const dataTable =\n",
              "            await google.colab.kernel.invokeFunction('convertToInteractive',\n",
              "                                                     [key], {});\n",
              "          if (!dataTable) return;\n",
              "\n",
              "          const docLinkHtml = 'Like what you see? Visit the ' +\n",
              "            '<a target=\"_blank\" href=https://colab.research.google.com/notebooks/data_table.ipynb>data table notebook</a>'\n",
              "            + ' to learn more about interactive tables.';\n",
              "          element.innerHTML = '';\n",
              "          dataTable['output_type'] = 'display_data';\n",
              "          await google.colab.output.renderOutput(dataTable, element);\n",
              "          const docLink = document.createElement('div');\n",
              "          docLink.innerHTML = docLinkHtml;\n",
              "          element.appendChild(docLink);\n",
              "        }\n",
              "      </script>\n",
              "    </div>\n",
              "  </div>\n",
              "  "
            ],
            "text/plain": [
              "                 id type                                     token_features  \\\n",
              "0              1342    C  [pride, and, prejudice, by, jane, austen, it, ...   \n",
              "1               768    C  [transcribed, from, the, john, murray, edition...   \n",
              "2              1260    C  [transcribed, from, the, service, paton, editi...   \n",
              "3               514    C  [little, women, by, louisa, may, alcott, conte...   \n",
              "4              1905    C  [the, governess, or, the, little, female, acad...   \n",
              "5               113    C  [in, honor, of, lisa, harts, th, birthday, the...   \n",
              "6               145    C  [middlemarch, by, george, eliot, new, york, an...   \n",
              "7                45    C  [anne, of, green, gables, by, lucy, maud, mont...   \n",
              "8    fanfic_1536152    F  [going, back, was, the, worsti, had, hoped, th...   \n",
              "9   fanfic_35367502    F  [lily, theres, a, boy, at, the, door, the, gin...   \n",
              "10  fanfic_33183868    F  [there, was, something, luminescent, about, su...   \n",
              "11   fanfic_7441657    F  [prologue, october, the, view, out, the, windo...   \n",
              "12  fanfic_24025603    F  [disclaimer, i, by, no, means, claim, to, own,...   \n",
              "13  fanfic_23824330    F  [amy, sits, facing, the, window, of, her, room...   \n",
              "14  fanfic_25042705    F  [but, really, said, mrs, bennet, rather, loudl...   \n",
              "15  fanfic_36819574    F  [i, was, born, in, sunlight, and, dragged, int...   \n",
              "16   fanfic_8523001    F  [there, was, such, a, cultural, veil, of, secr...   \n",
              "\n",
              "    length                                               girl  \\\n",
              "0   121414  [174, 734, 1295, 1732, 1847, 2102, 2606, 2706,...   \n",
              "1   115871  [2268, 2445, 2825, 3142, 3728, 4723, 9471, 104...   \n",
              "2   185464  [2236, 2981, 2987, 3223, 4262, 8217, 8261, 828...   \n",
              "3   186030  [247, 998, 1017, 1082, 1308, 1533, 1558, 1651,...   \n",
              "4    50669  [25, 494, 620, 703, 794, 2143, 3458, 3680, 486...   \n",
              "5    80712  [121, 306, 451, 805, 820, 835, 976, 1045, 1568...   \n",
              "6   316288  [254, 343, 966, 1223, 1597, 1648, 1798, 4524, ...   \n",
              "7   102508  [244, 2063, 2273, 2324, 2779, 2788, 2817, 2972...   \n",
              "8   171598  [204, 2449, 3087, 3740, 3757, 3826, 6077, 6091...   \n",
              "9   106735  [10, 1016, 4136, 4146, 4170, 4956, 5661, 9080,...   \n",
              "10   95127  [52, 95, 228, 2036, 2323, 3273, 3396, 3507, 35...   \n",
              "11  115869  [92, 120, 158, 190, 223, 288, 327, 2172, 2966,...   \n",
              "12  233940  [4306, 4336, 4368, 4422, 5503, 6142, 6656, 685...   \n",
              "13   22128  [2459, 4246, 5199, 7046, 7057, 7751, 8782, 880...   \n",
              "14  267671  [22, 1109, 2954, 3106, 3554, 7871, 8271, 8385,...   \n",
              "15  245639  [1028, 1977, 1978, 2847, 4673, 7693, 9314, 109...   \n",
              "16  190259  [2414, 4118, 4701, 7022, 7584, 7586, 8486, 105...   \n",
              "\n",
              "                                                woman  \\\n",
              "0   [82, 417, 436, 491, 697, 819, 998, 1296, 1715,...   \n",
              "1   [346, 349, 773, 1975, 2942, 3143, 3338, 3350, ...   \n",
              "2   [1782, 2013, 3637, 4261, 6718, 7344, 7485, 795...   \n",
              "3   [161, 202, 595, 596, 976, 1018, 1130, 1131, 15...   \n",
              "4   [547, 740, 2207, 5309, 5323, 5469, 6062, 6516,...   \n",
              "5   [26, 39, 437, 532, 567, 580, 1506, 1769, 2688,...   \n",
              "6   [395, 709, 1272, 1649, 1701, 2202, 2220, 4526,...   \n",
              "7   [322, 971, 1682, 1718, 4309, 4836, 6263, 8772,...   \n",
              "8   [766, 1703, 3000, 3485, 3542, 9752, 9829, 9971...   \n",
              "9   [451, 2430, 3133, 3306, 3317, 3508, 4258, 1122...   \n",
              "10  [2720, 5357, 5435, 26570, 29632, 33160, 36218,...   \n",
              "11  [122, 377, 1907, 3479, 3500, 3537, 3592, 4670,...   \n",
              "12  [284, 443, 478, 755, 801, 847, 893, 946, 997, ...   \n",
              "13  [544, 2881, 6546, 8788, 9574, 10174, 13748, 15...   \n",
              "14  [2765, 4301, 5090, 5726, 6192, 6230, 7283, 949...   \n",
              "15  [18, 55, 197, 869, 1039, 1498, 1676, 1825, 190...   \n",
              "16  [658, 840, 976, 1159, 1228, 2772, 2993, 3222, ...   \n",
              "\n",
              "                                         naive  \n",
              "0                                           []  \n",
              "1                                           []  \n",
              "2                              [68927, 148724]  \n",
              "3                                           []  \n",
              "4                                           []  \n",
              "5                                           []  \n",
              "6   [5899, 9496, 22467, 58625, 100418, 163813]  \n",
              "7                                           []  \n",
              "8                                           []  \n",
              "9                                           []  \n",
              "10                                          []  \n",
              "11                                     [63488]  \n",
              "12                                          []  \n",
              "13                                          []  \n",
              "14                                          []  \n",
              "15                                          []  \n",
              "16                                     [23520]  "
            ]
          },
          "execution_count": 40,
          "metadata": {},
          "output_type": "execute_result"
        }
      ],
      "source": [
        "# Convert to Pandas Dataframe for Visualizations\n",
        "indices_pd = indices_df.toPandas()\n",
        "indices_pd"
      ]
    },
    {
      "cell_type": "markdown",
      "metadata": {
        "id": "DN-b7-458mj-"
      },
      "source": [
        "## 6. Visualizations"
      ]
    },
    {
      "cell_type": "code",
      "execution_count": 41,
      "metadata": {
        "id": "lY23NZ9_8pGR"
      },
      "outputs": [],
      "source": [
        "import json\n",
        "import matplotlib.pyplot as plt\n",
        "import seaborn as sns"
      ]
    },
    {
      "cell_type": "code",
      "execution_count": 42,
      "metadata": {
        "colab": {
          "base_uri": "https://localhost:8080/",
          "height": 1000
        },
        "id": "sUNpGyvYFaqJ",
        "outputId": "02a862d9-5619-4352-d204-8671471c0057"
      },
      "outputs": [
        {
          "data": {
            "text/plain": [
              "<Figure size 432x288 with 0 Axes>"
            ]
          },
          "metadata": {},
          "output_type": "display_data"
        },
        {
          "data": {
            "image/png": "[encoded data removed]",
            "text/plain": [
              "<Figure size 360x360 with 1 Axes>"
            ]
          },
          "metadata": {
            "needs_background": "light"
          },
          "output_type": "display_data"
        },
        {
          "data": {
            "text/plain": [
              "<Figure size 432x288 with 0 Axes>"
            ]
          },
          "metadata": {},
          "output_type": "display_data"
        },
        {
          "data": {
            "image/png": "[encoded data removed]",
            "text/plain": [
              "<Figure size 360x360 with 1 Axes>"
            ]
          },
          "metadata": {
            "needs_background": "light"
          },
          "output_type": "display_data"
        },
        {
          "data": {
            "text/plain": [
              "<Figure size 432x288 with 0 Axes>"
            ]
          },
          "metadata": {},
          "output_type": "display_data"
        },
        {
          "data": {
            "image/png": "[encoded data removed]",
            "text/plain": [
              "<Figure size 360x360 with 1 Axes>"
            ]
          },
          "metadata": {
            "needs_background": "light"
          },
          "output_type": "display_data"
        },
        {
          "data": {
            "text/plain": [
              "<Figure size 432x288 with 0 Axes>"
            ]
          },
          "metadata": {},
          "output_type": "display_data"
        },
        {
          "data": {
            "image/png": "[encoded data removed]",
            "text/plain": [
              "<Figure size 360x360 with 1 Axes>"
            ]
          },
          "metadata": {
            "needs_background": "light"
          },
          "output_type": "display_data"
        },
        {
          "data": {
            "text/plain": [
              "<Figure size 432x288 with 0 Axes>"
            ]
          },
          "metadata": {},
          "output_type": "display_data"
        },
        {
          "data": {
            "image/png": "[encoded data removed]",
            "text/plain": [
              "<Figure size 360x360 with 1 Axes>"
            ]
          },
          "metadata": {
            "needs_background": "light"
          },
          "output_type": "display_data"
        },
        {
          "data": {
            "text/plain": [
              "<Figure size 432x288 with 0 Axes>"
            ]
          },
          "metadata": {},
          "output_type": "display_data"
        },
        {
          "data": {
            "image/png": "[encoded data removed]",
            "text/plain": [
              "<Figure size 360x360 with 1 Axes>"
            ]
          },
          "metadata": {
            "needs_background": "light"
          },
          "output_type": "display_data"
        },
        {
          "data": {
            "text/plain": [
              "<Figure size 432x288 with 0 Axes>"
            ]
          },
          "metadata": {},
          "output_type": "display_data"
        },
        {
          "data": {
            "image/png": "[encoded data removed]",
            "text/plain": [
              "<Figure size 360x360 with 1 Axes>"
            ]
          },
          "metadata": {
            "needs_background": "light"
          },
          "output_type": "display_data"
        },
        {
          "data": {
            "text/plain": [
              "<Figure size 432x288 with 0 Axes>"
            ]
          },
          "metadata": {},
          "output_type": "display_data"
        },
        {
          "data": {
            "image/png": "[encoded data removed]",
            "text/plain": [
              "<Figure size 360x360 with 1 Axes>"
            ]
          },
          "metadata": {
            "needs_background": "light"
          },
          "output_type": "display_data"
        },
        {
          "data": {
            "text/plain": [
              "<Figure size 432x288 with 0 Axes>"
            ]
          },
          "metadata": {},
          "output_type": "display_data"
        },
        {
          "data": {
            "image/png": "[encoded data removed]",
            "text/plain": [
              "<Figure size 360x360 with 1 Axes>"
            ]
          },
          "metadata": {
            "needs_background": "light"
          },
          "output_type": "display_data"
        },
        {
          "data": {
            "text/plain": [
              "<Figure size 432x288 with 0 Axes>"
            ]
          },
          "metadata": {},
          "output_type": "display_data"
        },
        {
          "data": {
            "image/png": "[encoded data removed]",
            "text/plain": [
              "<Figure size 360x360 with 1 Axes>"
            ]
          },
          "metadata": {
            "needs_background": "light"
          },
          "output_type": "display_data"
        },
        {
          "data": {
            "text/plain": [
              "<Figure size 432x288 with 0 Axes>"
            ]
          },
          "metadata": {},
          "output_type": "display_data"
        },
        {
          "data": {
            "image/png": "[encoded data removed]",
            "text/plain": [
              "<Figure size 360x360 with 1 Axes>"
            ]
          },
          "metadata": {
            "needs_background": "light"
          },
          "output_type": "display_data"
        },
        {
          "data": {
            "text/plain": [
              "<Figure size 432x288 with 0 Axes>"
            ]
          },
          "metadata": {},
          "output_type": "display_data"
        },
        {
          "data": {
            "image/png": "[encoded data removed]",
            "text/plain": [
              "<Figure size 360x360 with 1 Axes>"
            ]
          },
          "metadata": {
            "needs_background": "light"
          },
          "output_type": "display_data"
        },
        {
          "data": {
            "text/plain": [
              "<Figure size 432x288 with 0 Axes>"
            ]
          },
          "metadata": {},
          "output_type": "display_data"
        },
        {
          "data": {
            "image/png": "[encoded data removed]",
            "text/plain": [
              "<Figure size 360x360 with 1 Axes>"
            ]
          },
          "metadata": {
            "needs_background": "light"
          },
          "output_type": "display_data"
        },
        {
          "data": {
            "text/plain": [
              "<Figure size 432x288 with 0 Axes>"
            ]
          },
          "metadata": {},
          "output_type": "display_data"
        },
        {
          "data": {
            "image/png": "[encoded data removed]",
            "text/plain": [
              "<Figure size 360x360 with 1 Axes>"
            ]
          },
          "metadata": {
            "needs_background": "light"
          },
          "output_type": "display_data"
        },
        {
          "data": {
            "text/plain": [
              "<Figure size 432x288 with 0 Axes>"
            ]
          },
          "metadata": {},
          "output_type": "display_data"
        },
        {
          "data": {
            "image/png": "[encoded data removed]",
            "text/plain": [
              "<Figure size 360x360 with 1 Axes>"
            ]
          },
          "metadata": {
            "needs_background": "light"
          },
          "output_type": "display_data"
        },
        {
          "data": {
            "text/plain": [
              "<Figure size 432x288 with 0 Axes>"
            ]
          },
          "metadata": {},
          "output_type": "display_data"
        },
        {
          "data": {
            "image/png": "[encoded data removed]",
            "text/plain": [
              "<Figure size 360x360 with 1 Axes>"
            ]
          },
          "metadata": {
            "needs_background": "light"
          },
          "output_type": "display_data"
        },
        {
          "data": {
            "text/plain": [
              "<Figure size 432x288 with 0 Axes>"
            ]
          },
          "metadata": {},
          "output_type": "display_data"
        },
        {
          "data": {
            "image/png": "[encoded data removed]",
            "text/plain": [
              "<Figure size 360x360 with 1 Axes>"
            ]
          },
          "metadata": {
            "needs_background": "light"
          },
          "output_type": "display_data"
        }
      ],
      "source": [
        "for i in range(len(indices_pd)):\n",
        "  fig = plt.figure()\n",
        "  sns.displot(json.loads(indices_pd['girl'][i]))\n",
        "  plt.title(f\"type: {indices_pd['type'][i]}, id: {indices_pd['id'][i]}\")\n",
        "  plt.show()"
      ]
    },
    {
      "cell_type": "markdown",
      "metadata": {},
      "source": [
        "## 7. Conclusions"
      ]
    },
    {
      "cell_type": "markdown",
      "metadata": {},
      "source": [
        "We observe that concepts of being a girl and being young appear most at the beginning of the texts. Additionally, these ideas of 'girlhood'  sometimes reappear again at the end of the texts."
      ]
    },
    {
      "cell_type": "markdown",
      "metadata": {},
      "source": [
        "\n",
        "The graphs above indicate that this trend is slightly more pronounced in classic literature than in fanfiction. This is an initial analysis that we did not build on for the presentation, but it yields an interesting finding that could be studied at a future time. "
      ]
    }
  ],
  "metadata": {
    "colab": {
      "collapsed_sections": [],
      "name": "DC_Project_ClassicsVsFanfiction_ProtagonistDevelopment_pipeline.ipynb",
      "provenance": [],
      "toc_visible": true
    },
    "kernelspec": {
      "display_name": "Python 3 (ipykernel)",
      "language": "python",
      "name": "python3"
    },
    "language_info": {
      "codemirror_mode": {
        "name": "ipython",
        "version": 3
      },
      "file_extension": ".py",
      "mimetype": "text/x-python",
      "name": "python",
      "nbconvert_exporter": "python",
      "pygments_lexer": "ipython3",
      "version": "3.8.10"
    }
  },
  "nbformat": 4,
  "nbformat_minor": 0
}
