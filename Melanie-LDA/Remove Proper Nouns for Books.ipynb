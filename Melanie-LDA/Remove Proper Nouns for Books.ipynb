{
 "cells": [
  {
   "cell_type": "code",
   "execution_count": 1,
   "id": "76309ca9",
   "metadata": {},
   "outputs": [],
   "source": [
    "import os\n",
    "os.environ[\"JAVA_HOME\"] = \"/usr/lib/jvm/java-8-openjdk-amd64\"\n",
    "os.environ[\"PATH\"] = os.environ[\"JAVA_HOME\"] + \"/bin:\" + os.environ[\"PATH\"]"
   ]
  },
  {
   "cell_type": "code",
   "execution_count": 2,
   "id": "483a7efe",
   "metadata": {},
   "outputs": [
    {
     "name": "stderr",
     "output_type": "stream",
     "text": [
      "22/04/12 18:34:29 WARN Utils: Your hostname, DSGPU05 resolves to a loopback address: 127.0.1.1; using 10.10.11.64 instead (on interface eno1)\n",
      "22/04/12 18:34:29 WARN Utils: Set SPARK_LOCAL_IP if you need to bind to another address\n",
      "Using Spark's default log4j profile: org/apache/spark/log4j-defaults.properties\n",
      "Setting default log level to \"WARN\".\n",
      "To adjust logging level use sc.setLogLevel(newLevel). For SparkR, use setLogLevel(newLevel).\n",
      "22/04/12 18:34:30 WARN NativeCodeLoader: Unable to load native-hadoop library for your platform... using builtin-java classes where applicable\n"
     ]
    }
   ],
   "source": [
    "from pyspark.sql import SparkSession, SQLContext\n",
    "import os\n",
    "import pyspark.sql.functions as f\n",
    "spark = SparkSession.builder \\\n",
    "    .master(\"local[1]\") \\\n",
    "    .appName(\"SparkByExamples.com\") \\\n",
    "    .getOrCreate()"
   ]
  },
  {
   "cell_type": "code",
   "execution_count": 3,
   "id": "a5d49893",
   "metadata": {},
   "outputs": [],
   "source": [
    "sc = SparkSession.builder.appName('App Name').master(\"local[*]\").getOrCreate()\n",
    "sqlContext = SQLContext(sparkContext=sc.sparkContext, sparkSession=sc)"
   ]
  },
  {
   "cell_type": "code",
   "execution_count": 4,
   "id": "23a5f7ef",
   "metadata": {},
   "outputs": [],
   "source": [
    "data = sqlContext.read.format(\"csv\") \\\n",
    "   .options(header='true', inferschema='true') \\\n",
    "   .load(os.path.realpath(\"data/classics_clean.csv\"))"
   ]
  },
  {
   "cell_type": "code",
   "execution_count": 5,
   "id": "8537d52b",
   "metadata": {},
   "outputs": [
    {
     "data": {
      "text/plain": [
       "[('Arthur', 'NNP'), ('loves', 'VBZ'), ('fish', 'JJ')]"
      ]
     },
     "execution_count": 5,
     "metadata": {},
     "output_type": "execute_result"
    }
   ],
   "source": [
    "import nltk\n",
    "nltk.pos_tag([\"Arthur\", \"loves\", \"fish\"])"
   ]
  },
  {
   "cell_type": "code",
   "execution_count": 6,
   "id": "268e81bd",
   "metadata": {},
   "outputs": [
    {
     "name": "stdout",
     "output_type": "stream",
     "text": [
      "+----+----+--------------------+--------------------+\n",
      "|  id|type|                text|                line|\n",
      "+----+----+--------------------+--------------------+\n",
      "|1905|   C| the governess or...| the governess or...|\n",
      "| 768|   C| transcribed from...| transcribed from...|\n",
      "|1342|   C| pride and prejud...| pride and prejud...|\n",
      "|1260|   C| transcribed from...| transcribed from...|\n",
      "| 514|   C| little women by ...| little women by ...|\n",
      "| 113|   C| in honor of lisa...| in honor of lisa...|\n",
      "| 145|   C| middlemarch by g...| middlemarch by g...|\n",
      "|  45|   C| anne of green ga...| anne of green ga...|\n",
      "+----+----+--------------------+--------------------+\n",
      "\n"
     ]
    }
   ],
   "source": [
    "import pyspark.sql.functions as f\n",
    "data = data.withColumn('line', f.explode(f.split(f.col('text'), '\\n')))\n",
    "data.show()"
   ]
  },
  {
   "cell_type": "code",
   "execution_count": 7,
   "id": "feebf5b2",
   "metadata": {},
   "outputs": [],
   "source": [
    "def removeProperNouns(sentence):\n",
    "    tagged_sentence = nltk.tag.pos_tag(nltk.word_tokenize(sentence))\n",
    "    edited_sentence = [word for word,tag in tagged_sentence if tag != 'NNP' and tag != 'NNPS']\n",
    "    return ' '.join(edited_sentence)"
   ]
  },
  {
   "cell_type": "code",
   "execution_count": 8,
   "id": "0acf7de9",
   "metadata": {},
   "outputs": [],
   "source": [
    "proper_nouns_removed = data.select(f.col(\"text\")).rdd.map(removeProperNouns)"
   ]
  },
  {
   "cell_type": "code",
   "execution_count": null,
   "id": "707d11b5",
   "metadata": {},
   "outputs": [],
   "source": []
  }
 ],
 "metadata": {
  "kernelspec": {
   "display_name": "Python 3 (ipykernel)",
   "language": "python",
   "name": "python3"
  },
  "language_info": {
   "codemirror_mode": {
    "name": "ipython",
    "version": 3
   },
   "file_extension": ".py",
   "mimetype": "text/x-python",
   "name": "python",
   "nbconvert_exporter": "python",
   "pygments_lexer": "ipython3",
   "version": "3.8.6"
  }
 },
 "nbformat": 4,
 "nbformat_minor": 5
}
