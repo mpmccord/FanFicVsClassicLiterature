{
  "cells": [
    {
      "cell_type": "markdown",
      "metadata": {
        "id": "Bjz-4n_vDMl9"
      },
      "source": [
        "# Distributed Computing: TF-IDF Pipeline and Analysis\n",
        "\n",
        "\n",
        "\n"
      ]
    },
    {
      "cell_type": "code",
      "execution_count": 1,
      "metadata": {
        "colab": {
          "base_uri": "https://localhost:8080/"
        },
        "id": "z7x4ybOpxqJR",
        "outputId": "f77daf2e-88ab-4e25-c698-2801d9de9a5d"
      },
      "outputs": [
        {
          "output_type": "stream",
          "name": "stdout",
          "text": [
            "Mounted at /content/drive\n"
          ]
        }
      ],
      "source": [
        "from google.colab import drive\n",
        "drive.mount('/content/drive')"
      ]
    },
    {
      "cell_type": "markdown",
      "metadata": {
        "id": "br3PXqMvDfy-"
      },
      "source": [
        "## 1.Prepare Environment"
      ]
    },
    {
      "cell_type": "markdown",
      "metadata": {
        "id": "Q7mjzu90Ybqw"
      },
      "source": [
        "### 1.1 Install Java, Pyspark and Spark NLP"
      ]
    },
    {
      "cell_type": "code",
      "execution_count": 2,
      "metadata": {
        "id": "teXvoXAvDZY0"
      },
      "outputs": [],
      "source": [
        "import os"
      ]
    },
    {
      "cell_type": "code",
      "execution_count": 3,
      "metadata": {
        "id": "e6Bcn-ORdo1y",
        "colab": {
          "base_uri": "https://localhost:8080/"
        },
        "outputId": "28aea410-ea06-48c0-b1f0-4135e0bd79ca"
      },
      "outputs": [
        {
          "output_type": "stream",
          "name": "stdout",
          "text": [
            "Selecting previously unselected package openjdk-8-jre-headless:amd64.\n",
            "(Reading database ... 155455 files and directories currently installed.)\n",
            "Preparing to unpack .../openjdk-8-jre-headless_8u312-b07-0ubuntu1~18.04_amd64.deb ...\n",
            "Unpacking openjdk-8-jre-headless:amd64 (8u312-b07-0ubuntu1~18.04) ...\n",
            "Selecting previously unselected package openjdk-8-jdk-headless:amd64.\n",
            "Preparing to unpack .../openjdk-8-jdk-headless_8u312-b07-0ubuntu1~18.04_amd64.deb ...\n",
            "Unpacking openjdk-8-jdk-headless:amd64 (8u312-b07-0ubuntu1~18.04) ...\n",
            "Setting up openjdk-8-jre-headless:amd64 (8u312-b07-0ubuntu1~18.04) ...\n",
            "update-alternatives: using /usr/lib/jvm/java-8-openjdk-amd64/jre/bin/orbd to provide /usr/bin/orbd (orbd) in auto mode\n",
            "update-alternatives: using /usr/lib/jvm/java-8-openjdk-amd64/jre/bin/servertool to provide /usr/bin/servertool (servertool) in auto mode\n",
            "update-alternatives: using /usr/lib/jvm/java-8-openjdk-amd64/jre/bin/tnameserv to provide /usr/bin/tnameserv (tnameserv) in auto mode\n",
            "Setting up openjdk-8-jdk-headless:amd64 (8u312-b07-0ubuntu1~18.04) ...\n",
            "update-alternatives: using /usr/lib/jvm/java-8-openjdk-amd64/bin/idlj to provide /usr/bin/idlj (idlj) in auto mode\n",
            "update-alternatives: using /usr/lib/jvm/java-8-openjdk-amd64/bin/wsimport to provide /usr/bin/wsimport (wsimport) in auto mode\n",
            "update-alternatives: using /usr/lib/jvm/java-8-openjdk-amd64/bin/jsadebugd to provide /usr/bin/jsadebugd (jsadebugd) in auto mode\n",
            "update-alternatives: using /usr/lib/jvm/java-8-openjdk-amd64/bin/native2ascii to provide /usr/bin/native2ascii (native2ascii) in auto mode\n",
            "update-alternatives: using /usr/lib/jvm/java-8-openjdk-amd64/bin/javah to provide /usr/bin/javah (javah) in auto mode\n",
            "update-alternatives: using /usr/lib/jvm/java-8-openjdk-amd64/bin/hsdb to provide /usr/bin/hsdb (hsdb) in auto mode\n",
            "update-alternatives: using /usr/lib/jvm/java-8-openjdk-amd64/bin/clhsdb to provide /usr/bin/clhsdb (clhsdb) in auto mode\n",
            "update-alternatives: using /usr/lib/jvm/java-8-openjdk-amd64/bin/xjc to provide /usr/bin/xjc (xjc) in auto mode\n",
            "update-alternatives: using /usr/lib/jvm/java-8-openjdk-amd64/bin/schemagen to provide /usr/bin/schemagen (schemagen) in auto mode\n",
            "update-alternatives: using /usr/lib/jvm/java-8-openjdk-amd64/bin/extcheck to provide /usr/bin/extcheck (extcheck) in auto mode\n",
            "update-alternatives: using /usr/lib/jvm/java-8-openjdk-amd64/bin/jhat to provide /usr/bin/jhat (jhat) in auto mode\n",
            "update-alternatives: using /usr/lib/jvm/java-8-openjdk-amd64/bin/wsgen to provide /usr/bin/wsgen (wsgen) in auto mode\n"
          ]
        }
      ],
      "source": [
        "!apt-get update -qq\n",
        "!apt-get install -y openjdk-8-jdk-headless -qq"
      ]
    },
    {
      "cell_type": "code",
      "execution_count": 4,
      "metadata": {
        "id": "__OWHYtkdo1y",
        "colab": {
          "base_uri": "https://localhost:8080/"
        },
        "outputId": "8e96443b-dc54-46d8-8398-b5b5fbdcdc2e"
      },
      "outputs": [
        {
          "output_type": "stream",
          "name": "stdout",
          "text": [
            "openjdk version \"1.8.0_312\"\n",
            "OpenJDK Runtime Environment (build 1.8.0_312-8u312-b07-0ubuntu1~18.04-b07)\n",
            "OpenJDK 64-Bit Server VM (build 25.312-b07, mixed mode)\n"
          ]
        }
      ],
      "source": [
        "#Install Java\n",
        "os.environ[\"JAVA_HOME\"] = \"/usr/lib/jvm/java-8-openjdk-amd64\"\n",
        "os.environ[\"PATH\"] = os.environ[\"JAVA_HOME\"] + \"/bin:\" + os.environ[\"PATH\"]\n",
        "! java -version"
      ]
    },
    {
      "cell_type": "code",
      "execution_count": 5,
      "metadata": {
        "id": "TcGxv3YuDnx4",
        "colab": {
          "base_uri": "https://localhost:8080/"
        },
        "outputId": "30be1a9f-dda2-45d8-b766-f79cc0195d81"
      },
      "outputs": [
        {
          "output_type": "stream",
          "name": "stdout",
          "text": [
            "Collecting pyspark==2.4.4\n",
            "  Downloading pyspark-2.4.4.tar.gz (215.7 MB)\n",
            "\u001b[K     |████████████████████████████████| 215.7 MB 59 kB/s \n",
            "\u001b[?25hCollecting py4j==0.10.7\n",
            "  Downloading py4j-0.10.7-py2.py3-none-any.whl (197 kB)\n",
            "\u001b[K     |████████████████████████████████| 197 kB 19.2 MB/s \n",
            "\u001b[?25hBuilding wheels for collected packages: pyspark\n",
            "  Building wheel for pyspark (setup.py) ... \u001b[?25l\u001b[?25hdone\n",
            "  Created wheel for pyspark: filename=pyspark-2.4.4-py2.py3-none-any.whl size=216130392 sha256=114ad51392af1d0d7ed9bba564bd157ea7c1d4c6150c833c387e81b3447e6811\n",
            "  Stored in directory: /root/.cache/pip/wheels/11/48/19/c3b6b66e4575c164407a83bc065179904ddc33c9d6500846f0\n",
            "Successfully built pyspark\n",
            "Installing collected packages: py4j, pyspark\n",
            "Successfully installed py4j-0.10.7 pyspark-2.4.4\n",
            "Collecting spark-nlp==2.6.2\n",
            "  Downloading spark_nlp-2.6.2-py2.py3-none-any.whl (128 kB)\n",
            "\u001b[K     |████████████████████████████████| 128 kB 5.1 MB/s \n",
            "\u001b[?25hInstalling collected packages: spark-nlp\n",
            "Successfully installed spark-nlp-2.6.2\n"
          ]
        }
      ],
      "source": [
        "# Install Pyspark\n",
        "! pip install --ignore-installed pyspark==2.4.4\n",
        "\n",
        "# Install Spark NLP\n",
        "! pip install --ignore-installed spark-nlp==2.6.2"
      ]
    },
    {
      "cell_type": "markdown",
      "metadata": {
        "id": "mp2beC4FYesx"
      },
      "source": [
        "### 1.2 Start  Spark Session"
      ]
    },
    {
      "cell_type": "code",
      "execution_count": 6,
      "metadata": {
        "id": "TGDRKTctUzRF"
      },
      "outputs": [],
      "source": [
        "import sparknlp\n",
        "spark = sparknlp.start()\n",
        "\n",
        "from pyspark.ml import Pipeline\n",
        "from sparknlp.annotator import *\n",
        "from sparknlp.common import *\n",
        "from sparknlp.base import *"
      ]
    },
    {
      "cell_type": "markdown",
      "metadata": {
        "id": "qTvaEXcQU2pP"
      },
      "source": [
        "## 2.Get Classics Corpus"
      ]
    },
    {
      "cell_type": "markdown",
      "metadata": {
        "id": "XB-99X0IVCsH"
      },
      "source": [
        "### 2.1 Convert txt files into Python Dataframe"
      ]
    },
    {
      "cell_type": "code",
      "execution_count": 7,
      "metadata": {
        "id": "1jCVlB2AVt1c"
      },
      "outputs": [],
      "source": [
        "import pandas as pd\n",
        "import os\n",
        "import re"
      ]
    },
    {
      "cell_type": "code",
      "execution_count": 8,
      "metadata": {
        "id": "6ybHiAU2Vwz0"
      },
      "outputs": [],
      "source": [
        "directory =\"/content/drive/MyDrive/Distributed-Computing/data/classic_literature/\" #Change according to path\n",
        "# directory =\"data/classic_literature/\" #Change according to path\n",
        "text_type = 'C'\n",
        "\n",
        "classics_df = pd.DataFrame(columns=['id', 'type', 'text'])\n",
        "\n",
        "for filename in os.listdir(directory):\n",
        "#filename = \"data/classic_literature/45.txt\"\n",
        "    file_ext = os.path.basename(filename).rsplit('.',1)[1] #Get file extension\n",
        "    if file_ext == \"txt\":\n",
        "        with open(directory + '/' + filename, 'r') as file:\n",
        "            text_id = os.path.basename(filename).rsplit('.',1)[0]\n",
        "            corpus = file.read()\n",
        "            corpus = re.sub(';', ' ', corpus)\n",
        "            corpus = corpus.replace('Chapter', '')\n",
        "            classics_df.loc[len(classics_df.index)] = [text_id, text_type, corpus]"
      ]
    },
    {
      "cell_type": "code",
      "execution_count": 9,
      "metadata": {
        "id": "hMUL6ZGUV3U5",
        "colab": {
          "base_uri": "https://localhost:8080/",
          "height": 300
        },
        "outputId": "97614a89-a4f5-42eb-8612-d3e322eda835"
      },
      "outputs": [
        {
          "output_type": "execute_result",
          "data": {
            "text/plain": [
              "     id type                                               text\n",
              "0  1342    C  \\n\\n\\n\\n\\nPRIDE AND PREJUDICE\\n\\nBy Jane Auste...\n",
              "1   768    C  \\n\\n\\n\\nTranscribed from the 1910 John Murray ...\n",
              "2  1260    C  \\n\\n\\n\\n\\nTranscribed from the 1897 Service & ...\n",
              "3   514    C  \\n\\n\\n\\nLITTLE WOMEN\\n\\n\\nby\\n\\nLouisa May Alc...\n",
              "4  1905    C  \\n\\n\\n\\n\\nTHE GOVERNESS \\n\\nOR, THE LITTLE FEM...\n",
              "5   113    C  \\n\\n\\n\\n\\n\\n\\n\\n\\n\\n\\nIn Honor of Lisa Hart's ...\n",
              "6   145    C  \\n\\n\\n\\n\\n\\n\\n\\n\\n\\n\\n\\n\\n\\n\\nMiddlemarch\\n\\n\\...\n",
              "7    45    C  \\n\\n\\n\\n\\n                  ANNE OF GREEN GABL..."
            ],
            "text/html": [
              "\n",
              "  <div id=\"df-01b65e40-5b9b-4929-bf12-cf1be9492176\">\n",
              "    <div class=\"colab-df-container\">\n",
              "      <div>\n",
              "<style scoped>\n",
              "    .dataframe tbody tr th:only-of-type {\n",
              "        vertical-align: middle;\n",
              "    }\n",
              "\n",
              "    .dataframe tbody tr th {\n",
              "        vertical-align: top;\n",
              "    }\n",
              "\n",
              "    .dataframe thead th {\n",
              "        text-align: right;\n",
              "    }\n",
              "</style>\n",
              "<table border=\"1\" class=\"dataframe\">\n",
              "  <thead>\n",
              "    <tr style=\"text-align: right;\">\n",
              "      <th></th>\n",
              "      <th>id</th>\n",
              "      <th>type</th>\n",
              "      <th>text</th>\n",
              "    </tr>\n",
              "  </thead>\n",
              "  <tbody>\n",
              "    <tr>\n",
              "      <th>0</th>\n",
              "      <td>1342</td>\n",
              "      <td>C</td>\n",
              "      <td>\\n\\n\\n\\n\\nPRIDE AND PREJUDICE\\n\\nBy Jane Auste...</td>\n",
              "    </tr>\n",
              "    <tr>\n",
              "      <th>1</th>\n",
              "      <td>768</td>\n",
              "      <td>C</td>\n",
              "      <td>\\n\\n\\n\\nTranscribed from the 1910 John Murray ...</td>\n",
              "    </tr>\n",
              "    <tr>\n",
              "      <th>2</th>\n",
              "      <td>1260</td>\n",
              "      <td>C</td>\n",
              "      <td>\\n\\n\\n\\n\\nTranscribed from the 1897 Service &amp; ...</td>\n",
              "    </tr>\n",
              "    <tr>\n",
              "      <th>3</th>\n",
              "      <td>514</td>\n",
              "      <td>C</td>\n",
              "      <td>\\n\\n\\n\\nLITTLE WOMEN\\n\\n\\nby\\n\\nLouisa May Alc...</td>\n",
              "    </tr>\n",
              "    <tr>\n",
              "      <th>4</th>\n",
              "      <td>1905</td>\n",
              "      <td>C</td>\n",
              "      <td>\\n\\n\\n\\n\\nTHE GOVERNESS \\n\\nOR, THE LITTLE FEM...</td>\n",
              "    </tr>\n",
              "    <tr>\n",
              "      <th>5</th>\n",
              "      <td>113</td>\n",
              "      <td>C</td>\n",
              "      <td>\\n\\n\\n\\n\\n\\n\\n\\n\\n\\n\\nIn Honor of Lisa Hart's ...</td>\n",
              "    </tr>\n",
              "    <tr>\n",
              "      <th>6</th>\n",
              "      <td>145</td>\n",
              "      <td>C</td>\n",
              "      <td>\\n\\n\\n\\n\\n\\n\\n\\n\\n\\n\\n\\n\\n\\n\\nMiddlemarch\\n\\n\\...</td>\n",
              "    </tr>\n",
              "    <tr>\n",
              "      <th>7</th>\n",
              "      <td>45</td>\n",
              "      <td>C</td>\n",
              "      <td>\\n\\n\\n\\n\\n                  ANNE OF GREEN GABL...</td>\n",
              "    </tr>\n",
              "  </tbody>\n",
              "</table>\n",
              "</div>\n",
              "      <button class=\"colab-df-convert\" onclick=\"convertToInteractive('df-01b65e40-5b9b-4929-bf12-cf1be9492176')\"\n",
              "              title=\"Convert this dataframe to an interactive table.\"\n",
              "              style=\"display:none;\">\n",
              "        \n",
              "  <svg xmlns=\"http://www.w3.org/2000/svg\" height=\"24px\"viewBox=\"0 0 24 24\"\n",
              "       width=\"24px\">\n",
              "    <path d=\"M0 0h24v24H0V0z\" fill=\"none\"/>\n",
              "    <path d=\"M18.56 5.44l.94 2.06.94-2.06 2.06-.94-2.06-.94-.94-2.06-.94 2.06-2.06.94zm-11 1L8.5 8.5l.94-2.06 2.06-.94-2.06-.94L8.5 2.5l-.94 2.06-2.06.94zm10 10l.94 2.06.94-2.06 2.06-.94-2.06-.94-.94-2.06-.94 2.06-2.06.94z\"/><path d=\"M17.41 7.96l-1.37-1.37c-.4-.4-.92-.59-1.43-.59-.52 0-1.04.2-1.43.59L10.3 9.45l-7.72 7.72c-.78.78-.78 2.05 0 2.83L4 21.41c.39.39.9.59 1.41.59.51 0 1.02-.2 1.41-.59l7.78-7.78 2.81-2.81c.8-.78.8-2.07 0-2.86zM5.41 20L4 18.59l7.72-7.72 1.47 1.35L5.41 20z\"/>\n",
              "  </svg>\n",
              "      </button>\n",
              "      \n",
              "  <style>\n",
              "    .colab-df-container {\n",
              "      display:flex;\n",
              "      flex-wrap:wrap;\n",
              "      gap: 12px;\n",
              "    }\n",
              "\n",
              "    .colab-df-convert {\n",
              "      background-color: #E8F0FE;\n",
              "      border: none;\n",
              "      border-radius: 50%;\n",
              "      cursor: pointer;\n",
              "      display: none;\n",
              "      fill: #1967D2;\n",
              "      height: 32px;\n",
              "      padding: 0 0 0 0;\n",
              "      width: 32px;\n",
              "    }\n",
              "\n",
              "    .colab-df-convert:hover {\n",
              "      background-color: #E2EBFA;\n",
              "      box-shadow: 0px 1px 2px rgba(60, 64, 67, 0.3), 0px 1px 3px 1px rgba(60, 64, 67, 0.15);\n",
              "      fill: #174EA6;\n",
              "    }\n",
              "\n",
              "    [theme=dark] .colab-df-convert {\n",
              "      background-color: #3B4455;\n",
              "      fill: #D2E3FC;\n",
              "    }\n",
              "\n",
              "    [theme=dark] .colab-df-convert:hover {\n",
              "      background-color: #434B5C;\n",
              "      box-shadow: 0px 1px 3px 1px rgba(0, 0, 0, 0.15);\n",
              "      filter: drop-shadow(0px 1px 2px rgba(0, 0, 0, 0.3));\n",
              "      fill: #FFFFFF;\n",
              "    }\n",
              "  </style>\n",
              "\n",
              "      <script>\n",
              "        const buttonEl =\n",
              "          document.querySelector('#df-01b65e40-5b9b-4929-bf12-cf1be9492176 button.colab-df-convert');\n",
              "        buttonEl.style.display =\n",
              "          google.colab.kernel.accessAllowed ? 'block' : 'none';\n",
              "\n",
              "        async function convertToInteractive(key) {\n",
              "          const element = document.querySelector('#df-01b65e40-5b9b-4929-bf12-cf1be9492176');\n",
              "          const dataTable =\n",
              "            await google.colab.kernel.invokeFunction('convertToInteractive',\n",
              "                                                     [key], {});\n",
              "          if (!dataTable) return;\n",
              "\n",
              "          const docLinkHtml = 'Like what you see? Visit the ' +\n",
              "            '<a target=\"_blank\" href=https://colab.research.google.com/notebooks/data_table.ipynb>data table notebook</a>'\n",
              "            + ' to learn more about interactive tables.';\n",
              "          element.innerHTML = '';\n",
              "          dataTable['output_type'] = 'display_data';\n",
              "          await google.colab.output.renderOutput(dataTable, element);\n",
              "          const docLink = document.createElement('div');\n",
              "          docLink.innerHTML = docLinkHtml;\n",
              "          element.appendChild(docLink);\n",
              "        }\n",
              "      </script>\n",
              "    </div>\n",
              "  </div>\n",
              "  "
            ]
          },
          "metadata": {},
          "execution_count": 9
        }
      ],
      "source": [
        "classics_df"
      ]
    },
    {
      "cell_type": "markdown",
      "metadata": {
        "id": "d4O7Ft9_VVGZ"
      },
      "source": [
        "### 2.2 Convert Python Dataframe into Spark Dataframe"
      ]
    },
    {
      "cell_type": "code",
      "execution_count": 10,
      "metadata": {
        "id": "eSBwrf4sVnOT"
      },
      "outputs": [],
      "source": [
        "import re\n",
        "import pyspark\n",
        "from pyspark import SparkContext\n",
        "from pyspark import SparkConf\n",
        "from pyspark.sql import SQLContext\n",
        "\n",
        "#sc =  pyspark.SparkContext(\"local[*]\", \"Test Context\")\n",
        "sqlContext = SQLContext(spark)"
      ]
    },
    {
      "cell_type": "code",
      "execution_count": 11,
      "metadata": {
        "id": "puETLHbXWG-J"
      },
      "outputs": [],
      "source": [
        "df_Spark_classics = sqlContext.createDataFrame(classics_df) #Pyspark SQL dataframe"
      ]
    },
    {
      "cell_type": "markdown",
      "metadata": {
        "id": "7tnqsgNLVqcr"
      },
      "source": [
        "## 3.Get Fanfictions Corpus"
      ]
    },
    {
      "cell_type": "markdown",
      "metadata": {
        "id": "O9AwiLtTX9Gf"
      },
      "source": [
        "### 3.1 Convert txt files into Python Dataframe"
      ]
    },
    {
      "cell_type": "code",
      "execution_count": 12,
      "metadata": {
        "id": "q_061UaIX8Wl"
      },
      "outputs": [],
      "source": [
        "directory =\"/content/drive/MyDrive/Distributed-Computing/data/fanfiction/\" #Change according to path\n",
        "# directory =\"data/fanfiction/\" #Change according to path\n",
        "text_type = 'F'\n",
        "\n",
        "fanfictions_df = pd.DataFrame(columns=['id', 'type', 'text'])\n",
        "\n",
        "for filename in os.listdir(directory):\n",
        "    file_ext = os.path.basename(filename).rsplit('.',1)[1] #Get file extension\n",
        "    if file_ext == \"txt\":\n",
        "        with open(directory + '/' + filename, 'r') as file:\n",
        "            text_id = os.path.basename(filename).rsplit('.',1)[0]\n",
        "            corpus = file.read()\n",
        "            corpus = corpus.replace('Chapter', '')\n",
        "            corpus = re.sub(';', ' ', corpus)\n",
        "            fanfictions_df.loc[len(fanfictions_df.index)] = [text_id, text_type, corpus]"
      ]
    },
    {
      "cell_type": "code",
      "execution_count": 13,
      "metadata": {
        "id": "iZ2UUw7D7QKt",
        "colab": {
          "base_uri": "https://localhost:8080/",
          "height": 331
        },
        "outputId": "355b1860-354e-4713-fb8f-5af872a9f468"
      },
      "outputs": [
        {
          "output_type": "execute_result",
          "data": {
            "text/plain": [
              "                id type                                               text\n",
              "0   fanfic_1536152    F   1\\nGoing back was the worst.I had hoped that,...\n",
              "1  fanfic_35367502    F   1\\n“Lily there’s a boy at the door!”\\nThe gin...\n",
              "2  fanfic_33183868    F   1\\n \\n\\n \\n\\nThere was something luminescent ...\n",
              "3   fanfic_7441657    F   1\\nPrologue\\nOctober 31, 1981\\nThe view out t...\n",
              "4  fanfic_24025603    F   1\\nDisclaimer: I, by no means, claim to own a...\n",
              "5  fanfic_23824330    F   1\\nAmy sits facing the window of her room. He...\n",
              "6  fanfic_25042705    F   1\\n“But, really,” said Mrs. Bennet rather lou...\n",
              "7  fanfic_36819574    F   1\\nI was born in sunlight, and dragged into d...\n",
              "8   fanfic_8523001    F   1\\nThere was such a cultural veil of secrecy ..."
            ],
            "text/html": [
              "\n",
              "  <div id=\"df-8c60fa75-220c-49a6-9072-2f6bd39c00f5\">\n",
              "    <div class=\"colab-df-container\">\n",
              "      <div>\n",
              "<style scoped>\n",
              "    .dataframe tbody tr th:only-of-type {\n",
              "        vertical-align: middle;\n",
              "    }\n",
              "\n",
              "    .dataframe tbody tr th {\n",
              "        vertical-align: top;\n",
              "    }\n",
              "\n",
              "    .dataframe thead th {\n",
              "        text-align: right;\n",
              "    }\n",
              "</style>\n",
              "<table border=\"1\" class=\"dataframe\">\n",
              "  <thead>\n",
              "    <tr style=\"text-align: right;\">\n",
              "      <th></th>\n",
              "      <th>id</th>\n",
              "      <th>type</th>\n",
              "      <th>text</th>\n",
              "    </tr>\n",
              "  </thead>\n",
              "  <tbody>\n",
              "    <tr>\n",
              "      <th>0</th>\n",
              "      <td>fanfic_1536152</td>\n",
              "      <td>F</td>\n",
              "      <td>1\\nGoing back was the worst.I had hoped that,...</td>\n",
              "    </tr>\n",
              "    <tr>\n",
              "      <th>1</th>\n",
              "      <td>fanfic_35367502</td>\n",
              "      <td>F</td>\n",
              "      <td>1\\n“Lily there’s a boy at the door!”\\nThe gin...</td>\n",
              "    </tr>\n",
              "    <tr>\n",
              "      <th>2</th>\n",
              "      <td>fanfic_33183868</td>\n",
              "      <td>F</td>\n",
              "      <td>1\\n \\n\\n \\n\\nThere was something luminescent ...</td>\n",
              "    </tr>\n",
              "    <tr>\n",
              "      <th>3</th>\n",
              "      <td>fanfic_7441657</td>\n",
              "      <td>F</td>\n",
              "      <td>1\\nPrologue\\nOctober 31, 1981\\nThe view out t...</td>\n",
              "    </tr>\n",
              "    <tr>\n",
              "      <th>4</th>\n",
              "      <td>fanfic_24025603</td>\n",
              "      <td>F</td>\n",
              "      <td>1\\nDisclaimer: I, by no means, claim to own a...</td>\n",
              "    </tr>\n",
              "    <tr>\n",
              "      <th>5</th>\n",
              "      <td>fanfic_23824330</td>\n",
              "      <td>F</td>\n",
              "      <td>1\\nAmy sits facing the window of her room. He...</td>\n",
              "    </tr>\n",
              "    <tr>\n",
              "      <th>6</th>\n",
              "      <td>fanfic_25042705</td>\n",
              "      <td>F</td>\n",
              "      <td>1\\n“But, really,” said Mrs. Bennet rather lou...</td>\n",
              "    </tr>\n",
              "    <tr>\n",
              "      <th>7</th>\n",
              "      <td>fanfic_36819574</td>\n",
              "      <td>F</td>\n",
              "      <td>1\\nI was born in sunlight, and dragged into d...</td>\n",
              "    </tr>\n",
              "    <tr>\n",
              "      <th>8</th>\n",
              "      <td>fanfic_8523001</td>\n",
              "      <td>F</td>\n",
              "      <td>1\\nThere was such a cultural veil of secrecy ...</td>\n",
              "    </tr>\n",
              "  </tbody>\n",
              "</table>\n",
              "</div>\n",
              "      <button class=\"colab-df-convert\" onclick=\"convertToInteractive('df-8c60fa75-220c-49a6-9072-2f6bd39c00f5')\"\n",
              "              title=\"Convert this dataframe to an interactive table.\"\n",
              "              style=\"display:none;\">\n",
              "        \n",
              "  <svg xmlns=\"http://www.w3.org/2000/svg\" height=\"24px\"viewBox=\"0 0 24 24\"\n",
              "       width=\"24px\">\n",
              "    <path d=\"M0 0h24v24H0V0z\" fill=\"none\"/>\n",
              "    <path d=\"M18.56 5.44l.94 2.06.94-2.06 2.06-.94-2.06-.94-.94-2.06-.94 2.06-2.06.94zm-11 1L8.5 8.5l.94-2.06 2.06-.94-2.06-.94L8.5 2.5l-.94 2.06-2.06.94zm10 10l.94 2.06.94-2.06 2.06-.94-2.06-.94-.94-2.06-.94 2.06-2.06.94z\"/><path d=\"M17.41 7.96l-1.37-1.37c-.4-.4-.92-.59-1.43-.59-.52 0-1.04.2-1.43.59L10.3 9.45l-7.72 7.72c-.78.78-.78 2.05 0 2.83L4 21.41c.39.39.9.59 1.41.59.51 0 1.02-.2 1.41-.59l7.78-7.78 2.81-2.81c.8-.78.8-2.07 0-2.86zM5.41 20L4 18.59l7.72-7.72 1.47 1.35L5.41 20z\"/>\n",
              "  </svg>\n",
              "      </button>\n",
              "      \n",
              "  <style>\n",
              "    .colab-df-container {\n",
              "      display:flex;\n",
              "      flex-wrap:wrap;\n",
              "      gap: 12px;\n",
              "    }\n",
              "\n",
              "    .colab-df-convert {\n",
              "      background-color: #E8F0FE;\n",
              "      border: none;\n",
              "      border-radius: 50%;\n",
              "      cursor: pointer;\n",
              "      display: none;\n",
              "      fill: #1967D2;\n",
              "      height: 32px;\n",
              "      padding: 0 0 0 0;\n",
              "      width: 32px;\n",
              "    }\n",
              "\n",
              "    .colab-df-convert:hover {\n",
              "      background-color: #E2EBFA;\n",
              "      box-shadow: 0px 1px 2px rgba(60, 64, 67, 0.3), 0px 1px 3px 1px rgba(60, 64, 67, 0.15);\n",
              "      fill: #174EA6;\n",
              "    }\n",
              "\n",
              "    [theme=dark] .colab-df-convert {\n",
              "      background-color: #3B4455;\n",
              "      fill: #D2E3FC;\n",
              "    }\n",
              "\n",
              "    [theme=dark] .colab-df-convert:hover {\n",
              "      background-color: #434B5C;\n",
              "      box-shadow: 0px 1px 3px 1px rgba(0, 0, 0, 0.15);\n",
              "      filter: drop-shadow(0px 1px 2px rgba(0, 0, 0, 0.3));\n",
              "      fill: #FFFFFF;\n",
              "    }\n",
              "  </style>\n",
              "\n",
              "      <script>\n",
              "        const buttonEl =\n",
              "          document.querySelector('#df-8c60fa75-220c-49a6-9072-2f6bd39c00f5 button.colab-df-convert');\n",
              "        buttonEl.style.display =\n",
              "          google.colab.kernel.accessAllowed ? 'block' : 'none';\n",
              "\n",
              "        async function convertToInteractive(key) {\n",
              "          const element = document.querySelector('#df-8c60fa75-220c-49a6-9072-2f6bd39c00f5');\n",
              "          const dataTable =\n",
              "            await google.colab.kernel.invokeFunction('convertToInteractive',\n",
              "                                                     [key], {});\n",
              "          if (!dataTable) return;\n",
              "\n",
              "          const docLinkHtml = 'Like what you see? Visit the ' +\n",
              "            '<a target=\"_blank\" href=https://colab.research.google.com/notebooks/data_table.ipynb>data table notebook</a>'\n",
              "            + ' to learn more about interactive tables.';\n",
              "          element.innerHTML = '';\n",
              "          dataTable['output_type'] = 'display_data';\n",
              "          await google.colab.output.renderOutput(dataTable, element);\n",
              "          const docLink = document.createElement('div');\n",
              "          docLink.innerHTML = docLinkHtml;\n",
              "          element.appendChild(docLink);\n",
              "        }\n",
              "      </script>\n",
              "    </div>\n",
              "  </div>\n",
              "  "
            ]
          },
          "metadata": {},
          "execution_count": 13
        }
      ],
      "source": [
        "fanfictions_df"
      ]
    },
    {
      "cell_type": "markdown",
      "metadata": {
        "id": "P_xfXM-JYCVe"
      },
      "source": [
        "### 3.2 Convert Python Dataframe into Spark Dataframe"
      ]
    },
    {
      "cell_type": "code",
      "execution_count": 14,
      "metadata": {
        "id": "D2nGH71mX71g"
      },
      "outputs": [],
      "source": [
        "df_Spark_fanfictions = sqlContext.createDataFrame(fanfictions_df) #Pyspark SQL dataframe"
      ]
    },
    {
      "cell_type": "markdown",
      "metadata": {
        "id": "675Exsu0Y3uL"
      },
      "source": [
        "## 4 Preprocess Texts"
      ]
    },
    {
      "cell_type": "markdown",
      "metadata": {
        "id": "L9m3hBQZF8SN"
      },
      "source": [
        "### 4.1 Create Preprocessing Pipeline"
      ]
    },
    {
      "cell_type": "markdown",
      "metadata": {
        "id": "YYzZHjoXGBs3"
      },
      "source": [
        "Create pipeline to preprocess the spark dataframe texts.\n",
        "\n",
        "Each of these classes receive an input column and creates the output column.\n",
        "At the end of the pipeline, we will have a dataframe with all of the columns that are created on the fly and their results.\n",
        "\n",
        "The **last column** generated, in this case **token_features** is the one that has all the words after being preprocessed, removing stop words, etc."
      ]
    },
    {
      "cell_type": "code",
      "execution_count": 15,
      "metadata": {
        "id": "pRf9LnvgGQwi"
      },
      "outputs": [],
      "source": [
        "#https://medium.com/spark-nlp/spark-nlp-101-document-assembler-500018f5f6b5\n",
        "document = DocumentAssembler()\\\n",
        "    .setInputCol(\"text\")\\\n",
        "    .setOutputCol(\"document\") \\\n",
        "    .setCleanupMode(\"shrink_full\") #remove new lines and tabs, plus shrinking spaces and blank lines.\n",
        "\n",
        "#https://nlp.johnsnowlabs.com/api/python/reference/autosummary/sparknlp.annotator.Tokenizer.html\n",
        "token = Tokenizer()\\\n",
        "    .setInputCols(['document'])\\\n",
        "    .setOutputCol('token')\n",
        "\n",
        "#https://nlp.johnsnowlabs.com/docs/en/annotators\n",
        "normalizer = Normalizer() \\\n",
        "    .setInputCols([\"token\"]) \\\n",
        "    .setOutputCol(\"normalized\") \\\n",
        "    .setLowercase(True) \\\n",
        "    .setCleanupPatterns([\"\"\"[^A-Za-z]\"\"\"]) # remove punctuations and alphanumeric chars\n",
        "\n",
        "finisher = Finisher() \\\n",
        "    .setInputCols([\"normalized\"]) \\\n",
        "    .setOutputCols([\"token_features\"]) \\\n",
        "    .setOutputAsArray(True) \\\n",
        "    .setCleanAnnotations(False)"
      ]
    },
    {
      "cell_type": "code",
      "execution_count": 16,
      "metadata": {
        "id": "WfGrTrtZGVtN"
      },
      "outputs": [],
      "source": [
        "nlp_pipeline_lr = Pipeline(\n",
        "        stages=[document, \n",
        "                token,\n",
        "                normalizer,\n",
        "                finisher])"
      ]
    },
    {
      "cell_type": "markdown",
      "metadata": {
        "id": "qVRtMFSvGZ7b"
      },
      "source": [
        "### 4.2 Apply Pipeline to Spark Dataframes"
      ]
    },
    {
      "cell_type": "markdown",
      "metadata": {
        "id": "ltwYi1mQcgv6"
      },
      "source": [
        "#### 4.2.1 Classics"
      ]
    },
    {
      "cell_type": "code",
      "execution_count": 17,
      "metadata": {
        "id": "Hf-t11ocGZhx"
      },
      "outputs": [],
      "source": [
        "processed_classics_df = nlp_pipeline_lr.fit(df_Spark_classics).transform(df_Spark_classics)\n",
        "\n",
        "# Show Token Features column\n",
        "# processed_classics_df.select(\"token_features\").show(truncate=200) "
      ]
    },
    {
      "cell_type": "markdown",
      "metadata": {
        "id": "XqE2UdOXckMi"
      },
      "source": [
        "#### 4.2.2 Fanfictions"
      ]
    },
    {
      "cell_type": "code",
      "execution_count": 18,
      "metadata": {
        "id": "Wp76EXcM75Ug"
      },
      "outputs": [],
      "source": [
        "processed_fanfictions_df = nlp_pipeline_lr.fit(df_Spark_fanfictions).transform(df_Spark_fanfictions)\n",
        "\n",
        "# Show Token Features column\n",
        "# processed_fanfictions_df.select(\"token_features\").show(truncate=200) "
      ]
    },
    {
      "cell_type": "markdown",
      "metadata": {
        "id": "lU_z5wJ38f5e"
      },
      "source": [
        "At this point we have two preprocessed Spark Dataframes where each row belongs to one book. The column of interest is **\"token_features\"**, which contains all the **tokens** of the corpus.\n",
        "\n",
        "1.   **processed_classics_df**: Contains the eiight classics (one per row)\n",
        "2.   **processed_fanfictions_df**: Contains the eiight fanfictions (one per row)\n",
        "\n",
        "--> From here, we can start doing additional processing like TF-IDF or other stuff to obtain the information we want.\n",
        "\n",
        "\n",
        "\n",
        "\n"
      ]
    },
    {
      "cell_type": "markdown",
      "source": [
        "## 5 Create a Single Spark DataFrame of all Texts"
      ],
      "metadata": {
        "id": "srDXfdJMAxzb"
      }
    },
    {
      "cell_type": "markdown",
      "source": [
        "### 5.1 Combine Classics and Fanfiction "
      ],
      "metadata": {
        "id": "8wo0xmz2A4gX"
      }
    },
    {
      "cell_type": "code",
      "source": [
        "# Classics Spark DataFrame\n",
        "final_classics_df = processed_classics_df.select(['id', 'type', 'token_features'])\n",
        "\n",
        "# Fanfictions Spark DataFrame\n",
        "final_fanfictions_df = processed_fanfictions_df.select(['id', 'type', 'token_features'])"
      ],
      "metadata": {
        "id": "fzXUeHrnBA0m"
      },
      "execution_count": 19,
      "outputs": []
    },
    {
      "cell_type": "code",
      "execution_count": 20,
      "metadata": {
        "id": "RsGuRNODwUCc",
        "colab": {
          "base_uri": "https://localhost:8080/"
        },
        "outputId": "3361fa5a-0edf-4905-8ce1-933c3cb444d7"
      },
      "outputs": [
        {
          "output_type": "execute_result",
          "data": {
            "text/plain": [
              "StructType(List(StructField(id,StringType,true),StructField(type,StringType,true),StructField(token_features,ArrayType(StringType,true),true)))"
            ]
          },
          "metadata": {},
          "execution_count": 20
        }
      ],
      "source": [
        "# Combine Classics and Fanfic DataFrames\n",
        "final_df = final_classics_df.union(final_fanfictions_df)\n",
        "final_df.schema"
      ]
    },
    {
      "cell_type": "code",
      "source": [
        "# SQL table named 'texts' from the final_df Spark dataframe\n",
        "final_df.createOrReplaceTempView('texts')"
      ],
      "metadata": {
        "id": "jQyKCyP3DQD7"
      },
      "execution_count": 21,
      "outputs": []
    },
    {
      "cell_type": "markdown",
      "source": [
        "### 5.2 Standardize the format of Id values"
      ],
      "metadata": {
        "id": "XbuuRGsSBtSA"
      }
    },
    {
      "cell_type": "markdown",
      "source": [
        "#### 5.2.1 Setup pyspark.sql"
      ],
      "metadata": {
        "id": "s14-XdMrC0lk"
      }
    },
    {
      "cell_type": "code",
      "source": [
        "# Create a PySpark Session\n",
        "from pyspark.sql import SparkSession\n",
        "spark = SparkSession.builder.master(\"local[*]\").appName(\"temp\").getOrCreate()"
      ],
      "metadata": {
        "id": "WV0nChwEDALK"
      },
      "execution_count": 22,
      "outputs": []
    },
    {
      "cell_type": "code",
      "execution_count": 23,
      "metadata": {
        "id": "gp0WWiaExL5b"
      },
      "outputs": [],
      "source": [
        "# pyspark.sql imports\n",
        "from pyspark.sql.types import StringType\n",
        "from pyspark.sql.functions import udf\n",
        "from pyspark.sql.functions import concat_ws, split, col, concat, lit"
      ]
    },
    {
      "cell_type": "markdown",
      "source": [
        "#### 5.2.2 UDF to process the Id values"
      ],
      "metadata": {
        "id": "WZZGhZXpCvze"
      }
    },
    {
      "cell_type": "code",
      "source": [
        "# UDF to process the Id column \n",
        "@udf(returnType = StringType())\n",
        "def get_id(id_string):\n",
        "  ''' Given an id value, extracts the numeric portion of the id '''\n",
        "  id = id_string.split('|')[0]\n",
        "  clean_id = id.split('_')[-1]\n",
        "  return(clean_id)\n",
        "\n",
        "spark.udf.register(\"get_id\" , get_id)"
      ],
      "metadata": {
        "id": "_6XFN55ABpCB",
        "colab": {
          "base_uri": "https://localhost:8080/"
        },
        "outputId": "add69e9d-ff51-4ef1-ea7b-7a74ec2604a9"
      },
      "execution_count": 24,
      "outputs": [
        {
          "output_type": "execute_result",
          "data": {
            "text/plain": [
              "<function __main__.get_id>"
            ]
          },
          "metadata": {},
          "execution_count": 24
        }
      ]
    },
    {
      "cell_type": "markdown",
      "source": [
        "#### 5.2.3 Apply UDF"
      ],
      "metadata": {
        "id": "9M00JZBIDLKY"
      }
    },
    {
      "cell_type": "code",
      "source": [
        "# Reformat results to have column id, type, token, part of speech, and tfidf value\n",
        "final_df = spark.sql('''SELECT get_id(id) as id, type, token_features FROM texts''')\n",
        "final_df.createOrReplaceTempView(\"texts\")"
      ],
      "metadata": {
        "id": "paKFLyG8Cenj"
      },
      "execution_count": 25,
      "outputs": []
    },
    {
      "cell_type": "code",
      "source": [
        "final_df.show(truncate = 100)"
      ],
      "metadata": {
        "id": "9CU2iOv_ES1_",
        "colab": {
          "base_uri": "https://localhost:8080/"
        },
        "outputId": "e01414c9-3f92-4273-b9a9-d61d0de76e15"
      },
      "execution_count": 26,
      "outputs": [
        {
          "output_type": "stream",
          "name": "stdout",
          "text": [
            "+--------+----+----------------------------------------------------------------------------------------------------+\n",
            "|      id|type|                                                                                      token_features|\n",
            "+--------+----+----------------------------------------------------------------------------------------------------+\n",
            "|    1342|   C|[pride, and, prejudice, by, jane, austen, it, is, a, truth, universally, acknowledged, that, a, s...|\n",
            "|     768|   C|[transcribed, from, the, john, murray, edition, by, david, price, email, ccxpglaforg, wuthering, ...|\n",
            "|    1260|   C|[transcribed, from, the, service, paton, edition, by, david, price, email, ccxpglaforg, jane, eyr...|\n",
            "|     514|   C|[little, women, by, louisa, may, alcott, contents, part, one, playing, pilgrims, two, a, merry, c...|\n",
            "|    1905|   C|[the, governess, or, the, little, female, academy, by, sarah, fielding, there, lived, in, the, no...|\n",
            "|     113|   C|[in, honor, of, lisa, harts, th, birthday, the, secret, garden, by, frances, hodgson, burnett, au...|\n",
            "|     145|   C|[middlemarch, by, george, eliot, new, york, and, boston, h, m, caldwell, company, publishers, to,...|\n",
            "|      45|   C|[anne, of, green, gables, by, lucy, maud, montgomery, table, of, contents, chapter, i, mrs, rache...|\n",
            "| 1536152|   F|[going, back, was, the, worsti, had, hoped, that, after, a, case, like, mine, id, be, moved, to, ...|\n",
            "|35367502|   F|[lily, theres, a, boy, at, the, door, the, ginger, haired, girl, quickly, looks, over, her, shoul...|\n",
            "|33183868|   F|[there, was, something, luminescent, about, susie, something, about, her, that, just, drew, noell...|\n",
            "| 7441657|   F|[prologue, october, the, view, out, the, window, was, dark, the, new, moon, had, come, a, few, da...|\n",
            "|24025603|   F|[disclaimer, i, by, no, means, claim, to, own, anything, remotely, related, to, the, glee, or, pi...|\n",
            "|23824330|   F|[amy, sits, facing, the, window, of, her, room, her, phone, is, propped, up, on, her, desk, which...|\n",
            "|25042705|   F|[but, really, said, mrs, bennet, rather, loudly, placing, her, teacup, back, into, the, saucer, w...|\n",
            "|36819574|   F|[i, was, born, in, sunlight, and, dragged, into, darkness, a, child, pure, before, becoming, curs...|\n",
            "| 8523001|   F|[there, was, such, a, cultural, veil, of, secrecy, drawn, about, ones, soulmark, that, it, was, n...|\n",
            "+--------+----+----------------------------------------------------------------------------------------------------+\n",
            "\n"
          ]
        }
      ]
    },
    {
      "cell_type": "markdown",
      "source": [
        "## 6. TFIDF Computation"
      ],
      "metadata": {
        "id": "hJ9Sr0s48P19"
      }
    },
    {
      "cell_type": "markdown",
      "source": [
        "### 6.1 Convert DataFrame to RDD"
      ],
      "metadata": {
        "id": "VJk6MkPTiT3n"
      }
    },
    {
      "cell_type": "markdown",
      "source": [
        "Each row will consist of tuples of the form (*id*|*type*, *token_features*). <br>\n",
        "\n",
        "Having a single key (i.e. *id*|*type*) and a single value (i.e. a list of tokens) will make the RDD operations for TF-IDF simpler. "
      ],
      "metadata": {
        "id": "COCU7HwmipEW"
      }
    },
    {
      "cell_type": "code",
      "execution_count": 27,
      "metadata": {
        "id": "4gvGHnGC2emX"
      },
      "outputs": [],
      "source": [
        "final_df = final_df.select([\n",
        "                            concat(col('id'),lit('|'),col('type')).alias(\"id_type\"), # id | type\n",
        "                            'token_features' # List of tokens\n",
        "                            ])"
      ]
    },
    {
      "cell_type": "code",
      "execution_count": 28,
      "metadata": {
        "id": "1dSrqjrOttfA"
      },
      "outputs": [],
      "source": [
        "final_rdd = final_df.rdd"
      ]
    },
    {
      "cell_type": "markdown",
      "source": [
        "### 6.2 Term Frequency"
      ],
      "metadata": {
        "id": "lgC8IM9OjdDU"
      }
    },
    {
      "cell_type": "markdown",
      "metadata": {
        "id": "xYyQq5t6yt0j"
      },
      "source": [
        "#### 6.2.1 Import NLTK for part-of-speech (POS) tagging"
      ]
    },
    {
      "cell_type": "code",
      "execution_count": 29,
      "metadata": {
        "id": "QQf6mTO3yoDD",
        "colab": {
          "base_uri": "https://localhost:8080/"
        },
        "outputId": "5da65152-2632-48e6-92e7-cd8a1ea45cb4"
      },
      "outputs": [
        {
          "output_type": "stream",
          "name": "stdout",
          "text": [
            "[nltk_data] Downloading package punkt to /root/nltk_data...\n",
            "[nltk_data]   Unzipping tokenizers/punkt.zip.\n",
            "[nltk_data] Downloading package averaged_perceptron_tagger to\n",
            "[nltk_data]     /root/nltk_data...\n",
            "[nltk_data]   Unzipping taggers/averaged_perceptron_tagger.zip.\n"
          ]
        },
        {
          "output_type": "execute_result",
          "data": {
            "text/plain": [
              "True"
            ]
          },
          "metadata": {},
          "execution_count": 29
        }
      ],
      "source": [
        "import nltk\n",
        "nltk.download('punkt')\n",
        "nltk.download('averaged_perceptron_tagger')"
      ]
    },
    {
      "cell_type": "markdown",
      "metadata": {
        "id": "5S0Intjf4ZmF"
      },
      "source": [
        "#### 6.2.2. Map-Reduce Process"
      ]
    },
    {
      "cell_type": "code",
      "execution_count": 30,
      "metadata": {
        "id": "J-NosSwR2kmB",
        "colab": {
          "base_uri": "https://localhost:8080/"
        },
        "outputId": "06b89f19-bbe5-4e23-b9af-b99506951fc1"
      },
      "outputs": [
        {
          "output_type": "execute_result",
          "data": {
            "text/plain": [
              "[(('1342|C', ('pride', 'NN')), 1),\n",
              " (('1342|C', ('and', 'CC')), 1),\n",
              " (('1342|C', ('prejudice', 'NN')), 1),\n",
              " (('1342|C', ('by', 'IN')), 1),\n",
              " (('1342|C', ('jane', 'NN')), 1)]"
            ]
          },
          "metadata": {},
          "execution_count": 30
        }
      ],
      "source": [
        "# 1. Creates an RDD where there is row for each token in the corpus. \n",
        "# Creates rows of the form ((id_type, token), 1). \n",
        "tf_map = final_rdd.flatMap(lambda x: [((x[0], word), 1) for word in nltk.pos_tag(x[1])])\n",
        "tf_map.take(5)"
      ]
    },
    {
      "cell_type": "code",
      "source": [
        "# 2. Compute the number of times each term appears in a document. \n",
        "# Creates rows of the form ((id_type, token), term_frequency). \n",
        "tf_reduce = tf_map.reduceByKey(lambda x, y: x + y)"
      ],
      "metadata": {
        "id": "7nUSlkdtlw-3"
      },
      "execution_count": 31,
      "outputs": []
    },
    {
      "cell_type": "code",
      "execution_count": 32,
      "metadata": {
        "id": "b2zzpCNA2zKL",
        "colab": {
          "base_uri": "https://localhost:8080/"
        },
        "outputId": "bf16ac5d-cb5c-44ca-a516-464d3604b85c"
      },
      "outputs": [
        {
          "output_type": "execute_result",
          "data": {
            "text/plain": [
              "[(('austen', 'NNS'), ('1342|C', 1)),\n",
              " (('good', 'JJ'), ('1342|C', 179)),\n",
              " (('known', 'VBN'), ('1342|C', 52)),\n",
              " (('or', 'CC'), ('1342|C', 295)),\n",
              " (('this', 'DT'), ('1342|C', 446))]"
            ]
          },
          "metadata": {},
          "execution_count": 32
        }
      ],
      "source": [
        "# 3. Reformat term frequencies so the tokens are the keys.\n",
        "# Creates rows of the form (token, pos), (id_type, term_frequency)). \n",
        "tf = tf_reduce.map(lambda x: (x[0][1],(x[0][0],x[1])))\n",
        "tf.take(5)"
      ]
    },
    {
      "cell_type": "markdown",
      "metadata": {
        "id": "bJjm_Evv4gUi"
      },
      "source": [
        "### 6.3 Document Frequency"
      ]
    },
    {
      "cell_type": "code",
      "execution_count": 33,
      "metadata": {
        "id": "JAyCApOH2zF9"
      },
      "outputs": [],
      "source": [
        "# 1. Creates an RDD. There is one row for each distinct text, token pair. \n",
        "# Creates rows of the form (token, 1)\n",
        "df_map = tf_reduce.map(lambda x:(x[0][1], 1))"
      ]
    },
    {
      "cell_type": "code",
      "execution_count": 34,
      "metadata": {
        "id": "bgFb4dj42zD7",
        "colab": {
          "base_uri": "https://localhost:8080/"
        },
        "outputId": "f0323bba-e3bb-4758-b51d-2859453d250f"
      },
      "outputs": [
        {
          "output_type": "execute_result",
          "data": {
            "text/plain": [
              "[(('disclaimer', 'NN'), 2),\n",
              " (('by', 'IN'), 17),\n",
              " (('means', 'NNS'), 15),\n",
              " (('remotely', 'RB'), 5),\n",
              " (('the', 'DT'), 17)]"
            ]
          },
          "metadata": {},
          "execution_count": 34
        }
      ],
      "source": [
        "# 2. Compute the number of documents containing each term. \n",
        "# Creates rows of the form (token, number of documents containing token)\n",
        "df_final = df_map.reduceByKey(lambda x,y:x+y)\n",
        "df_final.take(5)"
      ]
    },
    {
      "cell_type": "markdown",
      "metadata": {
        "id": "LNjo5eLf4jgE"
      },
      "source": [
        "### 6.4 Inverse Document Frequency (IDF) "
      ]
    },
    {
      "cell_type": "code",
      "source": [
        "import math\n",
        "from pyspark.sql.functions import *"
      ],
      "metadata": {
        "id": "cytE6M6crBZ6"
      },
      "execution_count": 35,
      "outputs": []
    },
    {
      "cell_type": "code",
      "execution_count": 36,
      "metadata": {
        "id": "r1KpUoDW2zB5",
        "colab": {
          "base_uri": "https://localhost:8080/"
        },
        "outputId": "7c2c0262-05a2-402f-d4be-a806d68e92cd"
      },
      "outputs": [
        {
          "output_type": "execute_result",
          "data": {
            "text/plain": [
              "[(('disclaimer', 'NN'), 0.9294189257142927),\n",
              " (('by', 'IN'), 0.0),\n",
              " (('means', 'NNS'), 0.054357662322592676),\n",
              " (('remotely', 'RB'), 0.5314789170422551),\n",
              " (('the', 'DT'), 0.0)]"
            ]
          },
          "metadata": {},
          "execution_count": 36
        }
      ],
      "source": [
        "# 1. Compute the document frequency: log(NUM_DOCUMENTS/Number of Documents Containing Word)\n",
        "# Creates rows of the form (token, pos), idf)). \n",
        "NUM_DOCUMENTS = 17\n",
        "idf = df_final.map(lambda x: (x[0], math.log10(NUM_DOCUMENTS/x[1])))\n",
        "idf.take(5)"
      ]
    },
    {
      "cell_type": "markdown",
      "source": [
        "### 6.5 Term Frequency-Inverse Document Frequency (TF-IDF)"
      ],
      "metadata": {
        "id": "dTeKAXfgreV5"
      }
    },
    {
      "cell_type": "markdown",
      "source": [
        "#### 6.5.1 Join the RDDs with TF and IDF computations"
      ],
      "metadata": {
        "id": "JiXqAL2gtAvf"
      }
    },
    {
      "cell_type": "code",
      "execution_count": 37,
      "metadata": {
        "id": "C7xwhC3_2zAA"
      },
      "outputs": [],
      "source": [
        "# 1. Creates rows of the form (token, (id_type, term_frequency), idf)). \n",
        "join_df=tf.join(idf)"
      ]
    },
    {
      "cell_type": "markdown",
      "source": [
        "#### 6.5.2 Compute TF-IDF"
      ],
      "metadata": {
        "id": "lBU4GpNetLj1"
      }
    },
    {
      "cell_type": "code",
      "execution_count": 38,
      "metadata": {
        "id": "MGCFGkv42y9k",
        "colab": {
          "base_uri": "https://localhost:8080/"
        },
        "outputId": "0286e0eb-cdbc-422a-9f5f-c3fde6de2a89"
      },
      "outputs": [
        {
          "output_type": "execute_result",
          "data": {
            "text/plain": [
              "[('24025603|F',\n",
              "  ('means', 'NNS'),\n",
              "  5,\n",
              "  0.054357662322592676,\n",
              "  0.27178831161296335),\n",
              " ('1342|C', ('means', 'NNS'), 41, 0.054357662322592676, 2.2286641552262996),\n",
              " ('1260|C', ('means', 'NNS'), 20, 0.054357662322592676, 1.0871532464518534),\n",
              " ('1905|C', ('means', 'NNS'), 14, 0.054357662322592676, 0.7610072725162975),\n",
              " ('7441657|F', ('means', 'NNS'), 9, 0.054357662322592676, 0.48921896090333405)]"
            ]
          },
          "metadata": {},
          "execution_count": 38
        }
      ],
      "source": [
        "# 1. Creates rows of the form (id_type, token, pos, term_frequency, idf, tf_idf). \n",
        "tfidf=join_df.map(lambda x: (x[1][0][0], #id_type\n",
        "                             x[0], # token\n",
        "                              x[1][0][1], #term_frequency\n",
        "                              x[1][1], #idf\n",
        "                              x[1][0][1]*x[1][1] #tf_idf\n",
        "                              ))\n",
        "tfidf.take(5)"
      ]
    },
    {
      "cell_type": "markdown",
      "metadata": {
        "id": "nZufZWxG4qNn"
      },
      "source": [
        "### 6.6 Convert TF-IDF RDD to DataFrame"
      ]
    },
    {
      "cell_type": "code",
      "execution_count": 39,
      "metadata": {
        "id": "7iEWYgfV63Kd",
        "colab": {
          "base_uri": "https://localhost:8080/"
        },
        "outputId": "e7253160-4704-4c93-9042-c210be6208a7"
      },
      "outputs": [
        {
          "output_type": "stream",
          "name": "stdout",
          "text": [
            "+----------+------------+---+--------------------+-------------------+\n",
            "|DocumentId|       Token| TF|                 IDF|              TFIDF|\n",
            "+----------+------------+---+--------------------+-------------------+\n",
            "|24025603|F|[means, NNS]|  5|0.054357662322592676|0.27178831161296335|\n",
            "|    1342|C|[means, NNS]| 41|0.054357662322592676| 2.2286641552262996|\n",
            "|    1260|C|[means, NNS]| 20|0.054357662322592676| 1.0871532464518534|\n",
            "|    1905|C|[means, NNS]| 14|0.054357662322592676| 0.7610072725162975|\n",
            "| 7441657|F|[means, NNS]|  9|0.054357662322592676|0.48921896090333405|\n",
            "+----------+------------+---+--------------------+-------------------+\n",
            "only showing top 5 rows\n",
            "\n"
          ]
        }
      ],
      "source": [
        "rdd_df = tfidf.toDF([\"DocumentId\",\"Token\",\"TF\",\"IDF\",\"TFIDF\"])\n",
        "rdd_df.show(5)"
      ]
    },
    {
      "cell_type": "code",
      "execution_count": 40,
      "metadata": {
        "id": "-HNBR39w7ZZ7"
      },
      "outputs": [],
      "source": [
        "rdd_df.createOrReplaceTempView(\"df\") # create SQL table"
      ]
    },
    {
      "cell_type": "markdown",
      "source": [
        "### 6.7 Reformat TF-IDF Dataframe"
      ],
      "metadata": {
        "id": "uUunjEUAvJdq"
      }
    },
    {
      "cell_type": "markdown",
      "source": [
        "#### 6.7.1 UDFs for Reformating the TF-IDF Dataframe"
      ],
      "metadata": {
        "id": "f_F3aDDcvnpi"
      }
    },
    {
      "cell_type": "code",
      "execution_count": 41,
      "metadata": {
        "id": "cFNyfb_Y407l",
        "colab": {
          "base_uri": "https://localhost:8080/"
        },
        "outputId": "6569d4ff-e8e2-47cc-a8fd-ac18d07893e1"
      },
      "outputs": [
        {
          "output_type": "execute_result",
          "data": {
            "text/plain": [
              "<function __main__.get_pos>"
            ]
          },
          "metadata": {},
          "execution_count": 41
        }
      ],
      "source": [
        "# UDFs\n",
        "@udf(returnType = StringType())\n",
        "def get_id(id_string):\n",
        "  '''Extract the id component from the document id_type string'''\n",
        "  id = id_string.split('|')[0]\n",
        "  clean_id = id.split('_')[-1]\n",
        "  return(clean_id)\n",
        "\n",
        "@udf(returnType = StringType())\n",
        "def get_type(id_string):\n",
        "  '''Extract the type component from the document id_type string'''\n",
        "  doc_type = id_string.split('|')[1]\n",
        "  return(doc_type)\n",
        "\n",
        "@udf(returnType = StringType())\n",
        "def get_token(pos_list):\n",
        "  '''Extract the term component from the (term, pos) pair'''\n",
        "  return(pos_list[0])\n",
        "\n",
        "@udf(returnType = StringType())\n",
        "def get_pos(pos_list):\n",
        "  '''Extract the pos component from the (term, pos) pair'''\n",
        "  return(pos_list[1])\n",
        "\n",
        "# Register all udfs for use in sql statements\n",
        "spark.udf.register(\"get_type\" , get_type)\n",
        "spark.udf.register(\"get_id\" , get_id)\n",
        "spark.udf.register(\"get_token\" , get_token)\n",
        "spark.udf.register(\"get_pos\" , get_pos)"
      ]
    },
    {
      "cell_type": "markdown",
      "source": [
        "#### 6.7.2 Apply the UDFs"
      ],
      "metadata": {
        "id": "LwVh28_Zvv95"
      }
    },
    {
      "cell_type": "code",
      "execution_count": 42,
      "metadata": {
        "id": "ySORIuH69YGM",
        "colab": {
          "base_uri": "https://localhost:8080/"
        },
        "outputId": "1b657273-85c4-4e92-ceba-fe0f0610352e"
      },
      "outputs": [
        {
          "output_type": "stream",
          "name": "stdout",
          "text": [
            "+--------+----+-----+---+--------------------+\n",
            "|      id|type|token|pos|               tfidf|\n",
            "+--------+----+-----+---+--------------------+\n",
            "|24025603|   F|means|NNS| 0.27178831161296335|\n",
            "|    1342|   C|means|NNS|  2.2286641552262996|\n",
            "|    1260|   C|means|NNS|  1.0871532464518534|\n",
            "|    1905|   C|means|NNS|  0.7610072725162975|\n",
            "| 7441657|   F|means|NNS| 0.48921896090333405|\n",
            "|     514|   C|means|NNS| 0.27178831161296335|\n",
            "|     113|   C|means|NNS| 0.10871532464518535|\n",
            "|     145|   C|means|NNS|  1.9025181812907437|\n",
            "|23824330|   F|means|NNS|0.054357662322592676|\n",
            "| 8523001|   F|means|NNS| 0.38050363625814876|\n",
            "+--------+----+-----+---+--------------------+\n",
            "only showing top 10 rows\n",
            "\n"
          ]
        }
      ],
      "source": [
        "# Reformat dataframe so each row is of the form id, type, token, part of speech, and tfidf value.\n",
        "results = spark.sql('select get_id(DocumentId) as id, get_type(DocumentId) as type, get_token(Token) as token, get_pos(Token) as pos, TFIDF as tfidf from df')\n",
        "results.show(10)"
      ]
    },
    {
      "cell_type": "code",
      "source": [
        "results.createOrReplaceTempView(\"results\")"
      ],
      "metadata": {
        "id": "rzoQvYG6vzuS"
      },
      "execution_count": 43,
      "outputs": []
    },
    {
      "cell_type": "markdown",
      "source": [
        "## 7. TF-IDF Analysis and Visualizations"
      ],
      "metadata": {
        "id": "OtLo8MdDv76H"
      }
    },
    {
      "cell_type": "markdown",
      "source": [
        "### 7.1 Data for Plotting"
      ],
      "metadata": {
        "id": "ymScy8dVELhi"
      }
    },
    {
      "cell_type": "markdown",
      "source": [
        "#### 7.1.1 Map of Document IDs and Titles"
      ],
      "metadata": {
        "id": "xnYzqS_kzEWX"
      }
    },
    {
      "cell_type": "code",
      "source": [
        "id_title_dict = {\n",
        "  \"24025603\": \"Outnumbered\", \n",
        "  \"7441657\": \"Hermione Granger and the Perfectly Reasonable Explanation\", \n",
        "  \"23824330\": \"Amy's Progress Vlogs\", \n",
        "  \"8523001\": \"An Ever-Fixed Mark\",\n",
        "  \"1536152\" : \"Manager\", \n",
        "  \"25042705\": \"First Impressions: A Modern Pride and Prejudice Adaptation\", \n",
        "  \"36819574\": \"Scarlet Justice\", \n",
        "  \"35367502\": \"The Bug Collector\", \n",
        "  \"33183868\": \"Tension Points\",\n",
        "  \"1260\": \"Jane Eyre\", \n",
        "  \"113\": \"The Secret Garden\", \n",
        "  \"45\": \"Anne of Green Gables\", \n",
        "  \"768\": \"Wuthering Heights\", \n",
        "  \"1905\": \"The Governess; Or, The Little Female Academy\", \n",
        "  \"1342\" : \"Pride and Prejudice\", \n",
        "  \"145\": \"Middlemarch\", \n",
        "  \"514\": \"Little Women\"\n",
        "}"
      ],
      "metadata": {
        "id": "C3XKkFTKy1Qc"
      },
      "execution_count": 44,
      "outputs": []
    },
    {
      "cell_type": "markdown",
      "source": [
        "#### 7.1.2 UDFs for Transforming Data"
      ],
      "metadata": {
        "id": "zuMXT8jtzNOX"
      }
    },
    {
      "cell_type": "code",
      "source": [
        "@udf(returnType = StringType())\n",
        "def convert_type(type_string):\n",
        "  ''' Translate one-letter type flag to either 'Classics' or 'Fanfiction' string '''\n",
        "  # return ('Classic' if type_string == 'C' else 'Fanfiction') # doesn't work\n",
        "  id_string = type_string\n",
        "  return ('Classic' if len(id_string) < 6 else 'Fanfiction') \n",
        "  \n",
        "@udf(returnType = StringType())\n",
        "def get_title(id_string): \n",
        "  ''' Obtain the document title from the document ID'''\n",
        "  return (id_title_dict[id_string][:30])\n",
        "\n",
        "# Register all udfs for use in sql statements\n",
        "spark.udf.register(\"convert_type\" , convert_type)\n",
        "spark.udf.register(\"get_title\" , get_title)"
      ],
      "metadata": {
        "id": "jPscyvbDER_2",
        "colab": {
          "base_uri": "https://localhost:8080/"
        },
        "outputId": "3a783edd-84a7-4c87-db53-4a342fcf504e"
      },
      "execution_count": 45,
      "outputs": [
        {
          "output_type": "execute_result",
          "data": {
            "text/plain": [
              "<function __main__.get_title>"
            ]
          },
          "metadata": {},
          "execution_count": 45
        }
      ]
    },
    {
      "cell_type": "markdown",
      "source": [
        "#### 7.1.3 Obtain Dataframe for Plotting"
      ],
      "metadata": {
        "id": "k8Qft6_3zlro"
      }
    },
    {
      "cell_type": "code",
      "source": [
        "# 1. Apply UDFs\n",
        "dataplot = spark.sql('select id as ID, get_title(id) as Title, convert_type(id) as Type, Token, POS, TFIDF as TFIDF from results')\n",
        "dataplot.show(10)"
      ],
      "metadata": {
        "id": "y3whu9TNHesf",
        "colab": {
          "base_uri": "https://localhost:8080/"
        },
        "outputId": "4c8f1809-9dbd-46e3-ae74-24489e7c146f"
      },
      "execution_count": 46,
      "outputs": [
        {
          "output_type": "stream",
          "name": "stdout",
          "text": [
            "+--------+--------------------+----------+-----+---+--------------------+\n",
            "|      ID|               Title|      Type|Token|POS|               TFIDF|\n",
            "+--------+--------------------+----------+-----+---+--------------------+\n",
            "|24025603|         Outnumbered|Fanfiction|means|NNS| 0.27178831161296335|\n",
            "|    1342| Pride and Prejudice|   Classic|means|NNS|  2.2286641552262996|\n",
            "|    1260|           Jane Eyre|   Classic|means|NNS|  1.0871532464518534|\n",
            "|    1905|The Governess; Or...|   Classic|means|NNS|  0.7610072725162975|\n",
            "| 7441657|Hermione Granger ...|Fanfiction|means|NNS| 0.48921896090333405|\n",
            "|     514|        Little Women|   Classic|means|NNS| 0.27178831161296335|\n",
            "|     113|   The Secret Garden|   Classic|means|NNS| 0.10871532464518535|\n",
            "|     145|         Middlemarch|   Classic|means|NNS|  1.9025181812907437|\n",
            "|23824330|Amy's Progress Vlogs|Fanfiction|means|NNS|0.054357662322592676|\n",
            "| 8523001|  An Ever-Fixed Mark|Fanfiction|means|NNS| 0.38050363625814876|\n",
            "+--------+--------------------+----------+-----+---+--------------------+\n",
            "only showing top 10 rows\n",
            "\n"
          ]
        }
      ]
    },
    {
      "cell_type": "code",
      "source": [
        "# Create a SQL Table\n",
        "dataplot.createOrReplaceTempView(\"dataplot\")"
      ],
      "metadata": {
        "id": "C9tAK09nz2Af"
      },
      "execution_count": 47,
      "outputs": []
    },
    {
      "cell_type": "markdown",
      "metadata": {
        "id": "kWPgaYit54Ks"
      },
      "source": [
        "### 7.2 Analysis and Visualizations"
      ]
    },
    {
      "cell_type": "markdown",
      "source": [
        "#### 7.2.1 Visualization: TF-IDF Bar Chart"
      ],
      "metadata": {
        "id": "0-e7r1560_KM"
      }
    },
    {
      "cell_type": "code",
      "execution_count": 48,
      "metadata": {
        "id": "ia7aG8rtBmZC"
      },
      "outputs": [],
      "source": [
        "import plotly.express as px\n",
        "\n",
        "def analyze_tfidf(word): \n",
        "  '''Given a word, generates a bar graph that illustrates the importance of each word \n",
        "  in the classic and fanfiction texts''' \n",
        "\n",
        "  color_map = {\"Classic\":'#636EFA', \"Fanfiction\":'#EF553B'}\n",
        "\n",
        "  # Filter the Spark dataframe for the word of interest\n",
        "  sql_query = f\"SELECT ID, Title, Token, Type, TFIDF FROM dataplot WHERE token = '{word}'\"\n",
        "  word_df = spark.sql(sql_query)\n",
        "\n",
        "  # Convert the spark dataframe to a pandas dataframe\n",
        "  word_pd = word_df.toPandas()\n",
        "\n",
        "  # Generate a plotly graph of TF-IDF values\n",
        "  fig = px.bar(word_pd, \n",
        "               x=\"TFIDF\", \n",
        "               y=\"Title\", \n",
        "               color=\"Type\", \n",
        "               title = f\"Importance of '{word}' in Classics and Fanfiction\",\n",
        "               category_orders={\"type\": [\"Classic\", \"Fanfiction\"]}, \n",
        "               color_discrete_map = color_map, \n",
        "               template='plotly_white')\n",
        "  fig.update_layout(yaxis={'categoryorder':'total ascending'}, font=dict(size=14))\n",
        "  fig.show()"
      ]
    },
    {
      "cell_type": "markdown",
      "source": [
        "#### 7.2.2 Analysis: Concept of Beauty"
      ],
      "metadata": {
        "id": "T0olcjb6_VQW"
      }
    },
    {
      "cell_type": "code",
      "execution_count": 49,
      "metadata": {
        "id": "kK1pWOJ2VC7x",
        "colab": {
          "base_uri": "https://localhost:8080/",
          "height": 542
        },
        "outputId": "bb4aef00-2f63-4a24-a5ba-1bf7870d5019"
      },
      "outputs": [
        {
          "output_type": "display_data",
          "data": {
            "text/html": [
              "<html>\n",
              "<head><meta charset=\"utf-8\" /></head>\n",
              "<body>\n",
              "    <div>            <script src=\"https://cdnjs.cloudflare.com/ajax/libs/mathjax/2.7.5/MathJax.js?config=TeX-AMS-MML_SVG\"></script><script type=\"text/javascript\">if (window.MathJax) {MathJax.Hub.Config({SVG: {font: \"STIX-Web\"}});}</script>                <script type=\"text/javascript\">window.PlotlyConfig = {MathJaxConfig: 'local'};</script>\n",
              "        <script src=\"https://cdn.plot.ly/plotly-2.8.3.min.js\"></script>                <div id=\"aa465a2e-7158-46ec-a6a1-38c53d80f2ac\" class=\"plotly-graph-div\" style=\"height:525px; width:100%;\"></div>            <script type=\"text/javascript\">                                    window.PLOTLYENV=window.PLOTLYENV || {};                                    if (document.getElementById(\"aa465a2e-7158-46ec-a6a1-38c53d80f2ac\")) {                    Plotly.newPlot(                        \"aa465a2e-7158-46ec-a6a1-38c53d80f2ac\",                        [{\"alignmentgroup\":\"True\",\"hovertemplate\":\"Type=Classic<br>TFIDF=%{x}<br>Title=%{y}<extra></extra>\",\"legendgroup\":\"Classic\",\"marker\":{\"color\":\"#636EFA\",\"pattern\":{\"shape\":\"\"}},\"name\":\"Classic\",\"offsetgroup\":\"Classic\",\"orientation\":\"h\",\"showlegend\":true,\"textposition\":\"auto\",\"x\":[0.48921896090333405,0.32614597393555605,2.011233505935929,0.27178831161296335,1.6850875320003729,1.4132992203874095,1.5763722073551876,1.9568758436133362,0.7533276666586115,0.7533276666586115,0.7533276666586115,0.9294189257142927],\"xaxis\":\"x\",\"y\":[\"Wuthering Heights\",\"Anne of Green Gables\",\"Little Women\",\"The Secret Garden\",\"Middlemarch\",\"Pride and Prejudice\",\"Jane Eyre\",\"The Governess; Or, The Little \",\"Middlemarch\",\"Jane Eyre\",\"The Governess; Or, The Little \",\"Anne of Green Gables\"],\"yaxis\":\"y\",\"type\":\"bar\"},{\"alignmentgroup\":\"True\",\"hovertemplate\":\"Type=Fanfiction<br>TFIDF=%{x}<br>Title=%{y}<extra></extra>\",\"legendgroup\":\"Fanfiction\",\"marker\":{\"color\":\"#EF553B\",\"pattern\":{\"shape\":\"\"}},\"name\":\"Fanfiction\",\"offsetgroup\":\"Fanfiction\",\"orientation\":\"h\",\"showlegend\":true,\"textposition\":\"auto\",\"x\":[0.054357662322592676,0.27178831161296335,0.27178831161296335,0.16307298696777803,0.4348612985807414,0.054357662322592676,0.16307298696777803,0.9294189257142927],\"xaxis\":\"x\",\"y\":[\"Manager\",\"First Impressions: A Modern Pr\",\"Scarlet Justice\",\"The Bug Collector\",\"An Ever-Fixed Mark\",\"Hermione Granger and the Perfe\",\"Outnumbered\",\"Scarlet Justice\"],\"yaxis\":\"y\",\"type\":\"bar\"}],                        {\"template\":{\"data\":{\"barpolar\":[{\"marker\":{\"line\":{\"color\":\"white\",\"width\":0.5},\"pattern\":{\"fillmode\":\"overlay\",\"size\":10,\"solidity\":0.2}},\"type\":\"barpolar\"}],\"bar\":[{\"error_x\":{\"color\":\"#2a3f5f\"},\"error_y\":{\"color\":\"#2a3f5f\"},\"marker\":{\"line\":{\"color\":\"white\",\"width\":0.5},\"pattern\":{\"fillmode\":\"overlay\",\"size\":10,\"solidity\":0.2}},\"type\":\"bar\"}],\"carpet\":[{\"aaxis\":{\"endlinecolor\":\"#2a3f5f\",\"gridcolor\":\"#C8D4E3\",\"linecolor\":\"#C8D4E3\",\"minorgridcolor\":\"#C8D4E3\",\"startlinecolor\":\"#2a3f5f\"},\"baxis\":{\"endlinecolor\":\"#2a3f5f\",\"gridcolor\":\"#C8D4E3\",\"linecolor\":\"#C8D4E3\",\"minorgridcolor\":\"#C8D4E3\",\"startlinecolor\":\"#2a3f5f\"},\"type\":\"carpet\"}],\"choropleth\":[{\"colorbar\":{\"outlinewidth\":0,\"ticks\":\"\"},\"type\":\"choropleth\"}],\"contourcarpet\":[{\"colorbar\":{\"outlinewidth\":0,\"ticks\":\"\"},\"type\":\"contourcarpet\"}],\"contour\":[{\"colorbar\":{\"outlinewidth\":0,\"ticks\":\"\"},\"colorscale\":[[0.0,\"#0d0887\"],[0.1111111111111111,\"#46039f\"],[0.2222222222222222,\"#7201a8\"],[0.3333333333333333,\"#9c179e\"],[0.4444444444444444,\"#bd3786\"],[0.5555555555555556,\"#d8576b\"],[0.6666666666666666,\"#ed7953\"],[0.7777777777777778,\"#fb9f3a\"],[0.8888888888888888,\"#fdca26\"],[1.0,\"#f0f921\"]],\"type\":\"contour\"}],\"heatmapgl\":[{\"colorbar\":{\"outlinewidth\":0,\"ticks\":\"\"},\"colorscale\":[[0.0,\"#0d0887\"],[0.1111111111111111,\"#46039f\"],[0.2222222222222222,\"#7201a8\"],[0.3333333333333333,\"#9c179e\"],[0.4444444444444444,\"#bd3786\"],[0.5555555555555556,\"#d8576b\"],[0.6666666666666666,\"#ed7953\"],[0.7777777777777778,\"#fb9f3a\"],[0.8888888888888888,\"#fdca26\"],[1.0,\"#f0f921\"]],\"type\":\"heatmapgl\"}],\"heatmap\":[{\"colorbar\":{\"outlinewidth\":0,\"ticks\":\"\"},\"colorscale\":[[0.0,\"#0d0887\"],[0.1111111111111111,\"#46039f\"],[0.2222222222222222,\"#7201a8\"],[0.3333333333333333,\"#9c179e\"],[0.4444444444444444,\"#bd3786\"],[0.5555555555555556,\"#d8576b\"],[0.6666666666666666,\"#ed7953\"],[0.7777777777777778,\"#fb9f3a\"],[0.8888888888888888,\"#fdca26\"],[1.0,\"#f0f921\"]],\"type\":\"heatmap\"}],\"histogram2dcontour\":[{\"colorbar\":{\"outlinewidth\":0,\"ticks\":\"\"},\"colorscale\":[[0.0,\"#0d0887\"],[0.1111111111111111,\"#46039f\"],[0.2222222222222222,\"#7201a8\"],[0.3333333333333333,\"#9c179e\"],[0.4444444444444444,\"#bd3786\"],[0.5555555555555556,\"#d8576b\"],[0.6666666666666666,\"#ed7953\"],[0.7777777777777778,\"#fb9f3a\"],[0.8888888888888888,\"#fdca26\"],[1.0,\"#f0f921\"]],\"type\":\"histogram2dcontour\"}],\"histogram2d\":[{\"colorbar\":{\"outlinewidth\":0,\"ticks\":\"\"},\"colorscale\":[[0.0,\"#0d0887\"],[0.1111111111111111,\"#46039f\"],[0.2222222222222222,\"#7201a8\"],[0.3333333333333333,\"#9c179e\"],[0.4444444444444444,\"#bd3786\"],[0.5555555555555556,\"#d8576b\"],[0.6666666666666666,\"#ed7953\"],[0.7777777777777778,\"#fb9f3a\"],[0.8888888888888888,\"#fdca26\"],[1.0,\"#f0f921\"]],\"type\":\"histogram2d\"}],\"histogram\":[{\"marker\":{\"pattern\":{\"fillmode\":\"overlay\",\"size\":10,\"solidity\":0.2}},\"type\":\"histogram\"}],\"mesh3d\":[{\"colorbar\":{\"outlinewidth\":0,\"ticks\":\"\"},\"type\":\"mesh3d\"}],\"parcoords\":[{\"line\":{\"colorbar\":{\"outlinewidth\":0,\"ticks\":\"\"}},\"type\":\"parcoords\"}],\"pie\":[{\"automargin\":true,\"type\":\"pie\"}],\"scatter3d\":[{\"line\":{\"colorbar\":{\"outlinewidth\":0,\"ticks\":\"\"}},\"marker\":{\"colorbar\":{\"outlinewidth\":0,\"ticks\":\"\"}},\"type\":\"scatter3d\"}],\"scattercarpet\":[{\"marker\":{\"colorbar\":{\"outlinewidth\":0,\"ticks\":\"\"}},\"type\":\"scattercarpet\"}],\"scattergeo\":[{\"marker\":{\"colorbar\":{\"outlinewidth\":0,\"ticks\":\"\"}},\"type\":\"scattergeo\"}],\"scattergl\":[{\"marker\":{\"colorbar\":{\"outlinewidth\":0,\"ticks\":\"\"}},\"type\":\"scattergl\"}],\"scattermapbox\":[{\"marker\":{\"colorbar\":{\"outlinewidth\":0,\"ticks\":\"\"}},\"type\":\"scattermapbox\"}],\"scatterpolargl\":[{\"marker\":{\"colorbar\":{\"outlinewidth\":0,\"ticks\":\"\"}},\"type\":\"scatterpolargl\"}],\"scatterpolar\":[{\"marker\":{\"colorbar\":{\"outlinewidth\":0,\"ticks\":\"\"}},\"type\":\"scatterpolar\"}],\"scatter\":[{\"marker\":{\"colorbar\":{\"outlinewidth\":0,\"ticks\":\"\"}},\"type\":\"scatter\"}],\"scatterternary\":[{\"marker\":{\"colorbar\":{\"outlinewidth\":0,\"ticks\":\"\"}},\"type\":\"scatterternary\"}],\"surface\":[{\"colorbar\":{\"outlinewidth\":0,\"ticks\":\"\"},\"colorscale\":[[0.0,\"#0d0887\"],[0.1111111111111111,\"#46039f\"],[0.2222222222222222,\"#7201a8\"],[0.3333333333333333,\"#9c179e\"],[0.4444444444444444,\"#bd3786\"],[0.5555555555555556,\"#d8576b\"],[0.6666666666666666,\"#ed7953\"],[0.7777777777777778,\"#fb9f3a\"],[0.8888888888888888,\"#fdca26\"],[1.0,\"#f0f921\"]],\"type\":\"surface\"}],\"table\":[{\"cells\":{\"fill\":{\"color\":\"#EBF0F8\"},\"line\":{\"color\":\"white\"}},\"header\":{\"fill\":{\"color\":\"#C8D4E3\"},\"line\":{\"color\":\"white\"}},\"type\":\"table\"}]},\"layout\":{\"annotationdefaults\":{\"arrowcolor\":\"#2a3f5f\",\"arrowhead\":0,\"arrowwidth\":1},\"autotypenumbers\":\"strict\",\"coloraxis\":{\"colorbar\":{\"outlinewidth\":0,\"ticks\":\"\"}},\"colorscale\":{\"diverging\":[[0,\"#8e0152\"],[0.1,\"#c51b7d\"],[0.2,\"#de77ae\"],[0.3,\"#f1b6da\"],[0.4,\"#fde0ef\"],[0.5,\"#f7f7f7\"],[0.6,\"#e6f5d0\"],[0.7,\"#b8e186\"],[0.8,\"#7fbc41\"],[0.9,\"#4d9221\"],[1,\"#276419\"]],\"sequential\":[[0.0,\"#0d0887\"],[0.1111111111111111,\"#46039f\"],[0.2222222222222222,\"#7201a8\"],[0.3333333333333333,\"#9c179e\"],[0.4444444444444444,\"#bd3786\"],[0.5555555555555556,\"#d8576b\"],[0.6666666666666666,\"#ed7953\"],[0.7777777777777778,\"#fb9f3a\"],[0.8888888888888888,\"#fdca26\"],[1.0,\"#f0f921\"]],\"sequentialminus\":[[0.0,\"#0d0887\"],[0.1111111111111111,\"#46039f\"],[0.2222222222222222,\"#7201a8\"],[0.3333333333333333,\"#9c179e\"],[0.4444444444444444,\"#bd3786\"],[0.5555555555555556,\"#d8576b\"],[0.6666666666666666,\"#ed7953\"],[0.7777777777777778,\"#fb9f3a\"],[0.8888888888888888,\"#fdca26\"],[1.0,\"#f0f921\"]]},\"colorway\":[\"#636efa\",\"#EF553B\",\"#00cc96\",\"#ab63fa\",\"#FFA15A\",\"#19d3f3\",\"#FF6692\",\"#B6E880\",\"#FF97FF\",\"#FECB52\"],\"font\":{\"color\":\"#2a3f5f\"},\"geo\":{\"bgcolor\":\"white\",\"lakecolor\":\"white\",\"landcolor\":\"white\",\"showlakes\":true,\"showland\":true,\"subunitcolor\":\"#C8D4E3\"},\"hoverlabel\":{\"align\":\"left\"},\"hovermode\":\"closest\",\"mapbox\":{\"style\":\"light\"},\"paper_bgcolor\":\"white\",\"plot_bgcolor\":\"white\",\"polar\":{\"angularaxis\":{\"gridcolor\":\"#EBF0F8\",\"linecolor\":\"#EBF0F8\",\"ticks\":\"\"},\"bgcolor\":\"white\",\"radialaxis\":{\"gridcolor\":\"#EBF0F8\",\"linecolor\":\"#EBF0F8\",\"ticks\":\"\"}},\"scene\":{\"xaxis\":{\"backgroundcolor\":\"white\",\"gridcolor\":\"#DFE8F3\",\"gridwidth\":2,\"linecolor\":\"#EBF0F8\",\"showbackground\":true,\"ticks\":\"\",\"zerolinecolor\":\"#EBF0F8\"},\"yaxis\":{\"backgroundcolor\":\"white\",\"gridcolor\":\"#DFE8F3\",\"gridwidth\":2,\"linecolor\":\"#EBF0F8\",\"showbackground\":true,\"ticks\":\"\",\"zerolinecolor\":\"#EBF0F8\"},\"zaxis\":{\"backgroundcolor\":\"white\",\"gridcolor\":\"#DFE8F3\",\"gridwidth\":2,\"linecolor\":\"#EBF0F8\",\"showbackground\":true,\"ticks\":\"\",\"zerolinecolor\":\"#EBF0F8\"}},\"shapedefaults\":{\"line\":{\"color\":\"#2a3f5f\"}},\"ternary\":{\"aaxis\":{\"gridcolor\":\"#DFE8F3\",\"linecolor\":\"#A2B1C6\",\"ticks\":\"\"},\"baxis\":{\"gridcolor\":\"#DFE8F3\",\"linecolor\":\"#A2B1C6\",\"ticks\":\"\"},\"bgcolor\":\"white\",\"caxis\":{\"gridcolor\":\"#DFE8F3\",\"linecolor\":\"#A2B1C6\",\"ticks\":\"\"}},\"title\":{\"x\":0.05},\"xaxis\":{\"automargin\":true,\"gridcolor\":\"#EBF0F8\",\"linecolor\":\"#EBF0F8\",\"ticks\":\"\",\"title\":{\"standoff\":15},\"zerolinecolor\":\"#EBF0F8\",\"zerolinewidth\":2},\"yaxis\":{\"automargin\":true,\"gridcolor\":\"#EBF0F8\",\"linecolor\":\"#EBF0F8\",\"ticks\":\"\",\"title\":{\"standoff\":15},\"zerolinecolor\":\"#EBF0F8\",\"zerolinewidth\":2}}},\"xaxis\":{\"anchor\":\"y\",\"domain\":[0.0,1.0],\"title\":{\"text\":\"TFIDF\"}},\"yaxis\":{\"anchor\":\"x\",\"domain\":[0.0,1.0],\"title\":{\"text\":\"Title\"},\"categoryorder\":\"total ascending\"},\"legend\":{\"title\":{\"text\":\"Type\"},\"tracegroupgap\":0},\"title\":{\"text\":\"Importance of 'beauty' in Classics and Fanfiction\"},\"barmode\":\"relative\",\"font\":{\"size\":14}},                        {\"responsive\": true}                    ).then(function(){\n",
              "                            \n",
              "var gd = document.getElementById('aa465a2e-7158-46ec-a6a1-38c53d80f2ac');\n",
              "var x = new MutationObserver(function (mutations, observer) {{\n",
              "        var display = window.getComputedStyle(gd).display;\n",
              "        if (!display || display === 'none') {{\n",
              "            console.log([gd, 'removed!']);\n",
              "            Plotly.purge(gd);\n",
              "            observer.disconnect();\n",
              "        }}\n",
              "}});\n",
              "\n",
              "// Listen for the removal of the full notebook cells\n",
              "var notebookContainer = gd.closest('#notebook-container');\n",
              "if (notebookContainer) {{\n",
              "    x.observe(notebookContainer, {childList: true});\n",
              "}}\n",
              "\n",
              "// Listen for the clearing of the current output cell\n",
              "var outputEl = gd.closest('.output');\n",
              "if (outputEl) {{\n",
              "    x.observe(outputEl, {childList: true});\n",
              "}}\n",
              "\n",
              "                        })                };                            </script>        </div>\n",
              "</body>\n",
              "</html>"
            ]
          },
          "metadata": {}
        }
      ],
      "source": [
        "analyze_tfidf('beauty')"
      ]
    },
    {
      "cell_type": "markdown",
      "source": [
        "#### 7.2.3 Analysis: Character Traits"
      ],
      "metadata": {
        "id": "v0CL9dVB9n9F"
      }
    },
    {
      "cell_type": "code",
      "execution_count": 50,
      "metadata": {
        "id": "7jecMONOCGBi",
        "colab": {
          "base_uri": "https://localhost:8080/",
          "height": 542
        },
        "outputId": "19485197-0df3-4a83-9a1a-473c6f5e6d5b"
      },
      "outputs": [
        {
          "output_type": "display_data",
          "data": {
            "text/html": [
              "<html>\n",
              "<head><meta charset=\"utf-8\" /></head>\n",
              "<body>\n",
              "    <div>            <script src=\"https://cdnjs.cloudflare.com/ajax/libs/mathjax/2.7.5/MathJax.js?config=TeX-AMS-MML_SVG\"></script><script type=\"text/javascript\">if (window.MathJax) {MathJax.Hub.Config({SVG: {font: \"STIX-Web\"}});}</script>                <script type=\"text/javascript\">window.PlotlyConfig = {MathJaxConfig: 'local'};</script>\n",
              "        <script src=\"https://cdn.plot.ly/plotly-2.8.3.min.js\"></script>                <div id=\"e55b0c90-0184-487d-b561-7fa6270f32d4\" class=\"plotly-graph-div\" style=\"height:525px; width:100%;\"></div>            <script type=\"text/javascript\">                                    window.PLOTLYENV=window.PLOTLYENV || {};                                    if (document.getElementById(\"e55b0c90-0184-487d-b561-7fa6270f32d4\")) {                    Plotly.newPlot(                        \"e55b0c90-0184-487d-b561-7fa6270f32d4\",                        [{\"alignmentgroup\":\"True\",\"hovertemplate\":\"Type=Fanfiction<br>TFIDF=%{x}<br>Title=%{y}<extra></extra>\",\"legendgroup\":\"Fanfiction\",\"marker\":{\"color\":\"#EF553B\",\"pattern\":{\"shape\":\"\"}},\"name\":\"Fanfiction\",\"offsetgroup\":\"Fanfiction\",\"orientation\":\"h\",\"showlegend\":true,\"textposition\":\"auto\",\"x\":[0.27620641193894907,0.5524128238778981,1.3810320596947454,0.27620641193894907,0.27620641193894907,0.27620641193894907,0.27620641193894907,0.4522976709946303,0.4522976709946303,1.356893012983891,0.4522976709946303,1.356893012983891,0.9294189257142927,0.9294189257142927,0.9294189257142927,0.9294189257142927,0.7707017627280341,0.3853508813640171,1.156052644092051,2.312105288184102,0.5314789170422551,1.5944367511267654,1.0629578340845103,1.0629578340845103,2.1259156681690206,0.5314789170422551],\"xaxis\":\"x\",\"y\":[\"Tension Points\",\"First Impressions: A Modern Pr\",\"Scarlet Justice\",\"The Bug Collector\",\"Amy's Progress Vlogs\",\"An Ever-Fixed Mark\",\"Outnumbered\",\"First Impressions: A Modern Pr\",\"Scarlet Justice\",\"The Bug Collector\",\"Hermione Granger and the Perfe\",\"Outnumbered\",\"First Impressions: A Modern Pr\",\"Scarlet Justice\",\"Outnumbered\",\"An Ever-Fixed Mark\",\"First Impressions: A Modern Pr\",\"The Bug Collector\",\"An Ever-Fixed Mark\",\"Outnumbered\",\"Scarlet Justice\",\"An Ever-Fixed Mark\",\"The Bug Collector\",\"Scarlet Justice\",\"Outnumbered\",\"Hermione Granger and the Perfe\"],\"yaxis\":\"y\",\"type\":\"bar\"},{\"alignmentgroup\":\"True\",\"hovertemplate\":\"Type=Classic<br>TFIDF=%{x}<br>Title=%{y}<extra></extra>\",\"legendgroup\":\"Classic\",\"marker\":{\"color\":\"#636EFA\",\"pattern\":{\"shape\":\"\"}},\"name\":\"Classic\",\"offsetgroup\":\"Classic\",\"orientation\":\"h\",\"showlegend\":true,\"textposition\":\"auto\",\"x\":[1.3810320596947454,0.27620641193894907,1.356893012983891,0.3853508813640171,0.7707017627280341,0.7707017627280341,2.657394585211276,0.5314789170422551,0.5314789170422551,0.5314789170422551],\"xaxis\":\"x\",\"y\":[\"Little Women\",\"Middlemarch\",\"Middlemarch\",\"Wuthering Heights\",\"Little Women\",\"Middlemarch\",\"Little Women\",\"Middlemarch\",\"Jane Eyre\",\"Little Women\"],\"yaxis\":\"y\",\"type\":\"bar\"}],                        {\"template\":{\"data\":{\"barpolar\":[{\"marker\":{\"line\":{\"color\":\"white\",\"width\":0.5},\"pattern\":{\"fillmode\":\"overlay\",\"size\":10,\"solidity\":0.2}},\"type\":\"barpolar\"}],\"bar\":[{\"error_x\":{\"color\":\"#2a3f5f\"},\"error_y\":{\"color\":\"#2a3f5f\"},\"marker\":{\"line\":{\"color\":\"white\",\"width\":0.5},\"pattern\":{\"fillmode\":\"overlay\",\"size\":10,\"solidity\":0.2}},\"type\":\"bar\"}],\"carpet\":[{\"aaxis\":{\"endlinecolor\":\"#2a3f5f\",\"gridcolor\":\"#C8D4E3\",\"linecolor\":\"#C8D4E3\",\"minorgridcolor\":\"#C8D4E3\",\"startlinecolor\":\"#2a3f5f\"},\"baxis\":{\"endlinecolor\":\"#2a3f5f\",\"gridcolor\":\"#C8D4E3\",\"linecolor\":\"#C8D4E3\",\"minorgridcolor\":\"#C8D4E3\",\"startlinecolor\":\"#2a3f5f\"},\"type\":\"carpet\"}],\"choropleth\":[{\"colorbar\":{\"outlinewidth\":0,\"ticks\":\"\"},\"type\":\"choropleth\"}],\"contourcarpet\":[{\"colorbar\":{\"outlinewidth\":0,\"ticks\":\"\"},\"type\":\"contourcarpet\"}],\"contour\":[{\"colorbar\":{\"outlinewidth\":0,\"ticks\":\"\"},\"colorscale\":[[0.0,\"#0d0887\"],[0.1111111111111111,\"#46039f\"],[0.2222222222222222,\"#7201a8\"],[0.3333333333333333,\"#9c179e\"],[0.4444444444444444,\"#bd3786\"],[0.5555555555555556,\"#d8576b\"],[0.6666666666666666,\"#ed7953\"],[0.7777777777777778,\"#fb9f3a\"],[0.8888888888888888,\"#fdca26\"],[1.0,\"#f0f921\"]],\"type\":\"contour\"}],\"heatmapgl\":[{\"colorbar\":{\"outlinewidth\":0,\"ticks\":\"\"},\"colorscale\":[[0.0,\"#0d0887\"],[0.1111111111111111,\"#46039f\"],[0.2222222222222222,\"#7201a8\"],[0.3333333333333333,\"#9c179e\"],[0.4444444444444444,\"#bd3786\"],[0.5555555555555556,\"#d8576b\"],[0.6666666666666666,\"#ed7953\"],[0.7777777777777778,\"#fb9f3a\"],[0.8888888888888888,\"#fdca26\"],[1.0,\"#f0f921\"]],\"type\":\"heatmapgl\"}],\"heatmap\":[{\"colorbar\":{\"outlinewidth\":0,\"ticks\":\"\"},\"colorscale\":[[0.0,\"#0d0887\"],[0.1111111111111111,\"#46039f\"],[0.2222222222222222,\"#7201a8\"],[0.3333333333333333,\"#9c179e\"],[0.4444444444444444,\"#bd3786\"],[0.5555555555555556,\"#d8576b\"],[0.6666666666666666,\"#ed7953\"],[0.7777777777777778,\"#fb9f3a\"],[0.8888888888888888,\"#fdca26\"],[1.0,\"#f0f921\"]],\"type\":\"heatmap\"}],\"histogram2dcontour\":[{\"colorbar\":{\"outlinewidth\":0,\"ticks\":\"\"},\"colorscale\":[[0.0,\"#0d0887\"],[0.1111111111111111,\"#46039f\"],[0.2222222222222222,\"#7201a8\"],[0.3333333333333333,\"#9c179e\"],[0.4444444444444444,\"#bd3786\"],[0.5555555555555556,\"#d8576b\"],[0.6666666666666666,\"#ed7953\"],[0.7777777777777778,\"#fb9f3a\"],[0.8888888888888888,\"#fdca26\"],[1.0,\"#f0f921\"]],\"type\":\"histogram2dcontour\"}],\"histogram2d\":[{\"colorbar\":{\"outlinewidth\":0,\"ticks\":\"\"},\"colorscale\":[[0.0,\"#0d0887\"],[0.1111111111111111,\"#46039f\"],[0.2222222222222222,\"#7201a8\"],[0.3333333333333333,\"#9c179e\"],[0.4444444444444444,\"#bd3786\"],[0.5555555555555556,\"#d8576b\"],[0.6666666666666666,\"#ed7953\"],[0.7777777777777778,\"#fb9f3a\"],[0.8888888888888888,\"#fdca26\"],[1.0,\"#f0f921\"]],\"type\":\"histogram2d\"}],\"histogram\":[{\"marker\":{\"pattern\":{\"fillmode\":\"overlay\",\"size\":10,\"solidity\":0.2}},\"type\":\"histogram\"}],\"mesh3d\":[{\"colorbar\":{\"outlinewidth\":0,\"ticks\":\"\"},\"type\":\"mesh3d\"}],\"parcoords\":[{\"line\":{\"colorbar\":{\"outlinewidth\":0,\"ticks\":\"\"}},\"type\":\"parcoords\"}],\"pie\":[{\"automargin\":true,\"type\":\"pie\"}],\"scatter3d\":[{\"line\":{\"colorbar\":{\"outlinewidth\":0,\"ticks\":\"\"}},\"marker\":{\"colorbar\":{\"outlinewidth\":0,\"ticks\":\"\"}},\"type\":\"scatter3d\"}],\"scattercarpet\":[{\"marker\":{\"colorbar\":{\"outlinewidth\":0,\"ticks\":\"\"}},\"type\":\"scattercarpet\"}],\"scattergeo\":[{\"marker\":{\"colorbar\":{\"outlinewidth\":0,\"ticks\":\"\"}},\"type\":\"scattergeo\"}],\"scattergl\":[{\"marker\":{\"colorbar\":{\"outlinewidth\":0,\"ticks\":\"\"}},\"type\":\"scattergl\"}],\"scattermapbox\":[{\"marker\":{\"colorbar\":{\"outlinewidth\":0,\"ticks\":\"\"}},\"type\":\"scattermapbox\"}],\"scatterpolargl\":[{\"marker\":{\"colorbar\":{\"outlinewidth\":0,\"ticks\":\"\"}},\"type\":\"scatterpolargl\"}],\"scatterpolar\":[{\"marker\":{\"colorbar\":{\"outlinewidth\":0,\"ticks\":\"\"}},\"type\":\"scatterpolar\"}],\"scatter\":[{\"marker\":{\"colorbar\":{\"outlinewidth\":0,\"ticks\":\"\"}},\"type\":\"scatter\"}],\"scatterternary\":[{\"marker\":{\"colorbar\":{\"outlinewidth\":0,\"ticks\":\"\"}},\"type\":\"scatterternary\"}],\"surface\":[{\"colorbar\":{\"outlinewidth\":0,\"ticks\":\"\"},\"colorscale\":[[0.0,\"#0d0887\"],[0.1111111111111111,\"#46039f\"],[0.2222222222222222,\"#7201a8\"],[0.3333333333333333,\"#9c179e\"],[0.4444444444444444,\"#bd3786\"],[0.5555555555555556,\"#d8576b\"],[0.6666666666666666,\"#ed7953\"],[0.7777777777777778,\"#fb9f3a\"],[0.8888888888888888,\"#fdca26\"],[1.0,\"#f0f921\"]],\"type\":\"surface\"}],\"table\":[{\"cells\":{\"fill\":{\"color\":\"#EBF0F8\"},\"line\":{\"color\":\"white\"}},\"header\":{\"fill\":{\"color\":\"#C8D4E3\"},\"line\":{\"color\":\"white\"}},\"type\":\"table\"}]},\"layout\":{\"annotationdefaults\":{\"arrowcolor\":\"#2a3f5f\",\"arrowhead\":0,\"arrowwidth\":1},\"autotypenumbers\":\"strict\",\"coloraxis\":{\"colorbar\":{\"outlinewidth\":0,\"ticks\":\"\"}},\"colorscale\":{\"diverging\":[[0,\"#8e0152\"],[0.1,\"#c51b7d\"],[0.2,\"#de77ae\"],[0.3,\"#f1b6da\"],[0.4,\"#fde0ef\"],[0.5,\"#f7f7f7\"],[0.6,\"#e6f5d0\"],[0.7,\"#b8e186\"],[0.8,\"#7fbc41\"],[0.9,\"#4d9221\"],[1,\"#276419\"]],\"sequential\":[[0.0,\"#0d0887\"],[0.1111111111111111,\"#46039f\"],[0.2222222222222222,\"#7201a8\"],[0.3333333333333333,\"#9c179e\"],[0.4444444444444444,\"#bd3786\"],[0.5555555555555556,\"#d8576b\"],[0.6666666666666666,\"#ed7953\"],[0.7777777777777778,\"#fb9f3a\"],[0.8888888888888888,\"#fdca26\"],[1.0,\"#f0f921\"]],\"sequentialminus\":[[0.0,\"#0d0887\"],[0.1111111111111111,\"#46039f\"],[0.2222222222222222,\"#7201a8\"],[0.3333333333333333,\"#9c179e\"],[0.4444444444444444,\"#bd3786\"],[0.5555555555555556,\"#d8576b\"],[0.6666666666666666,\"#ed7953\"],[0.7777777777777778,\"#fb9f3a\"],[0.8888888888888888,\"#fdca26\"],[1.0,\"#f0f921\"]]},\"colorway\":[\"#636efa\",\"#EF553B\",\"#00cc96\",\"#ab63fa\",\"#FFA15A\",\"#19d3f3\",\"#FF6692\",\"#B6E880\",\"#FF97FF\",\"#FECB52\"],\"font\":{\"color\":\"#2a3f5f\"},\"geo\":{\"bgcolor\":\"white\",\"lakecolor\":\"white\",\"landcolor\":\"white\",\"showlakes\":true,\"showland\":true,\"subunitcolor\":\"#C8D4E3\"},\"hoverlabel\":{\"align\":\"left\"},\"hovermode\":\"closest\",\"mapbox\":{\"style\":\"light\"},\"paper_bgcolor\":\"white\",\"plot_bgcolor\":\"white\",\"polar\":{\"angularaxis\":{\"gridcolor\":\"#EBF0F8\",\"linecolor\":\"#EBF0F8\",\"ticks\":\"\"},\"bgcolor\":\"white\",\"radialaxis\":{\"gridcolor\":\"#EBF0F8\",\"linecolor\":\"#EBF0F8\",\"ticks\":\"\"}},\"scene\":{\"xaxis\":{\"backgroundcolor\":\"white\",\"gridcolor\":\"#DFE8F3\",\"gridwidth\":2,\"linecolor\":\"#EBF0F8\",\"showbackground\":true,\"ticks\":\"\",\"zerolinecolor\":\"#EBF0F8\"},\"yaxis\":{\"backgroundcolor\":\"white\",\"gridcolor\":\"#DFE8F3\",\"gridwidth\":2,\"linecolor\":\"#EBF0F8\",\"showbackground\":true,\"ticks\":\"\",\"zerolinecolor\":\"#EBF0F8\"},\"zaxis\":{\"backgroundcolor\":\"white\",\"gridcolor\":\"#DFE8F3\",\"gridwidth\":2,\"linecolor\":\"#EBF0F8\",\"showbackground\":true,\"ticks\":\"\",\"zerolinecolor\":\"#EBF0F8\"}},\"shapedefaults\":{\"line\":{\"color\":\"#2a3f5f\"}},\"ternary\":{\"aaxis\":{\"gridcolor\":\"#DFE8F3\",\"linecolor\":\"#A2B1C6\",\"ticks\":\"\"},\"baxis\":{\"gridcolor\":\"#DFE8F3\",\"linecolor\":\"#A2B1C6\",\"ticks\":\"\"},\"bgcolor\":\"white\",\"caxis\":{\"gridcolor\":\"#DFE8F3\",\"linecolor\":\"#A2B1C6\",\"ticks\":\"\"}},\"title\":{\"x\":0.05},\"xaxis\":{\"automargin\":true,\"gridcolor\":\"#EBF0F8\",\"linecolor\":\"#EBF0F8\",\"ticks\":\"\",\"title\":{\"standoff\":15},\"zerolinecolor\":\"#EBF0F8\",\"zerolinewidth\":2},\"yaxis\":{\"automargin\":true,\"gridcolor\":\"#EBF0F8\",\"linecolor\":\"#EBF0F8\",\"ticks\":\"\",\"title\":{\"standoff\":15},\"zerolinecolor\":\"#EBF0F8\",\"zerolinewidth\":2}}},\"xaxis\":{\"anchor\":\"y\",\"domain\":[0.0,1.0],\"title\":{\"text\":\"TFIDF\"}},\"yaxis\":{\"anchor\":\"x\",\"domain\":[0.0,1.0],\"title\":{\"text\":\"Title\"},\"categoryorder\":\"total ascending\"},\"legend\":{\"title\":{\"text\":\"Type\"},\"tracegroupgap\":0},\"title\":{\"text\":\"Importance of 'brave' in Classics and Fanfiction\"},\"barmode\":\"relative\",\"font\":{\"size\":14}},                        {\"responsive\": true}                    ).then(function(){\n",
              "                            \n",
              "var gd = document.getElementById('e55b0c90-0184-487d-b561-7fa6270f32d4');\n",
              "var x = new MutationObserver(function (mutations, observer) {{\n",
              "        var display = window.getComputedStyle(gd).display;\n",
              "        if (!display || display === 'none') {{\n",
              "            console.log([gd, 'removed!']);\n",
              "            Plotly.purge(gd);\n",
              "            observer.disconnect();\n",
              "        }}\n",
              "}});\n",
              "\n",
              "// Listen for the removal of the full notebook cells\n",
              "var notebookContainer = gd.closest('#notebook-container');\n",
              "if (notebookContainer) {{\n",
              "    x.observe(notebookContainer, {childList: true});\n",
              "}}\n",
              "\n",
              "// Listen for the clearing of the current output cell\n",
              "var outputEl = gd.closest('.output');\n",
              "if (outputEl) {{\n",
              "    x.observe(outputEl, {childList: true});\n",
              "}}\n",
              "\n",
              "                        })                };                            </script>        </div>\n",
              "</body>\n",
              "</html>"
            ]
          },
          "metadata": {}
        }
      ],
      "source": [
        "analyze_tfidf('brave')"
      ]
    },
    {
      "cell_type": "markdown",
      "source": [
        "#### 7.2.4 Analysis: Working women"
      ],
      "metadata": {
        "id": "NavsGgpx8b2l"
      }
    },
    {
      "cell_type": "code",
      "execution_count": 51,
      "metadata": {
        "id": "orx9hHcPCIB1",
        "colab": {
          "base_uri": "https://localhost:8080/",
          "height": 542
        },
        "outputId": "97e35f8c-069b-4f2b-8fcb-7b1312eecb12"
      },
      "outputs": [
        {
          "output_type": "display_data",
          "data": {
            "text/html": [
              "<html>\n",
              "<head><meta charset=\"utf-8\" /></head>\n",
              "<body>\n",
              "    <div>            <script src=\"https://cdnjs.cloudflare.com/ajax/libs/mathjax/2.7.5/MathJax.js?config=TeX-AMS-MML_SVG\"></script><script type=\"text/javascript\">if (window.MathJax) {MathJax.Hub.Config({SVG: {font: \"STIX-Web\"}});}</script>                <script type=\"text/javascript\">window.PlotlyConfig = {MathJaxConfig: 'local'};</script>\n",
              "        <script src=\"https://cdn.plot.ly/plotly-2.8.3.min.js\"></script>                <div id=\"9eaedd02-54df-4fa7-9fd6-ba1684a31f25\" class=\"plotly-graph-div\" style=\"height:525px; width:100%;\"></div>            <script type=\"text/javascript\">                                    window.PLOTLYENV=window.PLOTLYENV || {};                                    if (document.getElementById(\"9eaedd02-54df-4fa7-9fd6-ba1684a31f25\")) {                    Plotly.newPlot(                        \"9eaedd02-54df-4fa7-9fd6-ba1684a31f25\",                        [{\"alignmentgroup\":\"True\",\"hovertemplate\":\"Type=Fanfiction<br>TFIDF=%{x}<br>Title=%{y}<extra></extra>\",\"legendgroup\":\"Fanfiction\",\"marker\":{\"color\":\"#EF553B\",\"pattern\":{\"shape\":\"\"}},\"name\":\"Fanfiction\",\"offsetgroup\":\"Fanfiction\",\"orientation\":\"h\",\"showlegend\":true,\"textposition\":\"auto\",\"x\":[1.323393653540342,0.3781124724400977,0.5671687086601466,2.2686748346405863,0.18905623622004886,1.323393653540342,3.5920684881809284,1.2304489213782739,1.2304489213782739,0.0,0.0,0.0,0.0,0.0,0.0,0.0,0.0,0.0,0.0,0.0,0.0,0.0,0.0,0.0,0.0,0.0,0.0],\"xaxis\":\"x\",\"y\":[\"Outnumbered\",\"The Bug Collector\",\"Amy's Progress Vlogs\",\"Manager\",\"Tension Points\",\"First Impressions: A Modern Pr\",\"Scarlet Justice\",\"Tension Points\",\"The Bug Collector\",\"Hermione Granger and the Perfe\",\"Outnumbered\",\"Manager\",\"Tension Points\",\"First Impressions: A Modern Pr\",\"Scarlet Justice\",\"The Bug Collector\",\"Amy's Progress Vlogs\",\"An Ever-Fixed Mark\",\"Hermione Granger and the Perfe\",\"Outnumbered\",\"Manager\",\"Tension Points\",\"First Impressions: A Modern Pr\",\"Scarlet Justice\",\"The Bug Collector\",\"Amy's Progress Vlogs\",\"An Ever-Fixed Mark\"],\"yaxis\":\"y\",\"type\":\"bar\"},{\"alignmentgroup\":\"True\",\"hovertemplate\":\"Type=Classic<br>TFIDF=%{x}<br>Title=%{y}<extra></extra>\",\"legendgroup\":\"Classic\",\"marker\":{\"color\":\"#636EFA\",\"pattern\":{\"shape\":\"\"}},\"name\":\"Classic\",\"offsetgroup\":\"Classic\",\"orientation\":\"h\",\"showlegend\":true,\"textposition\":\"auto\",\"x\":[1.5124498897603909,0.5671687086601466,0.5671687086601466,0.18905623622004886,1.2304489213782739,0.0,0.0,0.0,0.0,0.0,0.0,0.0,0.0,0.0,0.0,0.0,0.0,0.0,0.0,0.0,0.0],\"xaxis\":\"x\",\"y\":[\"Little Women\",\"The Secret Garden\",\"Middlemarch\",\"Anne of Green Gables\",\"Wuthering Heights\",\"Pride and Prejudice\",\"Jane Eyre\",\"The Governess; Or, The Little \",\"Wuthering Heights\",\"Anne of Green Gables\",\"Little Women\",\"The Secret Garden\",\"Middlemarch\",\"Pride and Prejudice\",\"Jane Eyre\",\"The Governess; Or, The Little \",\"Wuthering Heights\",\"Anne of Green Gables\",\"Little Women\",\"The Secret Garden\",\"Middlemarch\"],\"yaxis\":\"y\",\"type\":\"bar\"}],                        {\"template\":{\"data\":{\"barpolar\":[{\"marker\":{\"line\":{\"color\":\"white\",\"width\":0.5},\"pattern\":{\"fillmode\":\"overlay\",\"size\":10,\"solidity\":0.2}},\"type\":\"barpolar\"}],\"bar\":[{\"error_x\":{\"color\":\"#2a3f5f\"},\"error_y\":{\"color\":\"#2a3f5f\"},\"marker\":{\"line\":{\"color\":\"white\",\"width\":0.5},\"pattern\":{\"fillmode\":\"overlay\",\"size\":10,\"solidity\":0.2}},\"type\":\"bar\"}],\"carpet\":[{\"aaxis\":{\"endlinecolor\":\"#2a3f5f\",\"gridcolor\":\"#C8D4E3\",\"linecolor\":\"#C8D4E3\",\"minorgridcolor\":\"#C8D4E3\",\"startlinecolor\":\"#2a3f5f\"},\"baxis\":{\"endlinecolor\":\"#2a3f5f\",\"gridcolor\":\"#C8D4E3\",\"linecolor\":\"#C8D4E3\",\"minorgridcolor\":\"#C8D4E3\",\"startlinecolor\":\"#2a3f5f\"},\"type\":\"carpet\"}],\"choropleth\":[{\"colorbar\":{\"outlinewidth\":0,\"ticks\":\"\"},\"type\":\"choropleth\"}],\"contourcarpet\":[{\"colorbar\":{\"outlinewidth\":0,\"ticks\":\"\"},\"type\":\"contourcarpet\"}],\"contour\":[{\"colorbar\":{\"outlinewidth\":0,\"ticks\":\"\"},\"colorscale\":[[0.0,\"#0d0887\"],[0.1111111111111111,\"#46039f\"],[0.2222222222222222,\"#7201a8\"],[0.3333333333333333,\"#9c179e\"],[0.4444444444444444,\"#bd3786\"],[0.5555555555555556,\"#d8576b\"],[0.6666666666666666,\"#ed7953\"],[0.7777777777777778,\"#fb9f3a\"],[0.8888888888888888,\"#fdca26\"],[1.0,\"#f0f921\"]],\"type\":\"contour\"}],\"heatmapgl\":[{\"colorbar\":{\"outlinewidth\":0,\"ticks\":\"\"},\"colorscale\":[[0.0,\"#0d0887\"],[0.1111111111111111,\"#46039f\"],[0.2222222222222222,\"#7201a8\"],[0.3333333333333333,\"#9c179e\"],[0.4444444444444444,\"#bd3786\"],[0.5555555555555556,\"#d8576b\"],[0.6666666666666666,\"#ed7953\"],[0.7777777777777778,\"#fb9f3a\"],[0.8888888888888888,\"#fdca26\"],[1.0,\"#f0f921\"]],\"type\":\"heatmapgl\"}],\"heatmap\":[{\"colorbar\":{\"outlinewidth\":0,\"ticks\":\"\"},\"colorscale\":[[0.0,\"#0d0887\"],[0.1111111111111111,\"#46039f\"],[0.2222222222222222,\"#7201a8\"],[0.3333333333333333,\"#9c179e\"],[0.4444444444444444,\"#bd3786\"],[0.5555555555555556,\"#d8576b\"],[0.6666666666666666,\"#ed7953\"],[0.7777777777777778,\"#fb9f3a\"],[0.8888888888888888,\"#fdca26\"],[1.0,\"#f0f921\"]],\"type\":\"heatmap\"}],\"histogram2dcontour\":[{\"colorbar\":{\"outlinewidth\":0,\"ticks\":\"\"},\"colorscale\":[[0.0,\"#0d0887\"],[0.1111111111111111,\"#46039f\"],[0.2222222222222222,\"#7201a8\"],[0.3333333333333333,\"#9c179e\"],[0.4444444444444444,\"#bd3786\"],[0.5555555555555556,\"#d8576b\"],[0.6666666666666666,\"#ed7953\"],[0.7777777777777778,\"#fb9f3a\"],[0.8888888888888888,\"#fdca26\"],[1.0,\"#f0f921\"]],\"type\":\"histogram2dcontour\"}],\"histogram2d\":[{\"colorbar\":{\"outlinewidth\":0,\"ticks\":\"\"},\"colorscale\":[[0.0,\"#0d0887\"],[0.1111111111111111,\"#46039f\"],[0.2222222222222222,\"#7201a8\"],[0.3333333333333333,\"#9c179e\"],[0.4444444444444444,\"#bd3786\"],[0.5555555555555556,\"#d8576b\"],[0.6666666666666666,\"#ed7953\"],[0.7777777777777778,\"#fb9f3a\"],[0.8888888888888888,\"#fdca26\"],[1.0,\"#f0f921\"]],\"type\":\"histogram2d\"}],\"histogram\":[{\"marker\":{\"pattern\":{\"fillmode\":\"overlay\",\"size\":10,\"solidity\":0.2}},\"type\":\"histogram\"}],\"mesh3d\":[{\"colorbar\":{\"outlinewidth\":0,\"ticks\":\"\"},\"type\":\"mesh3d\"}],\"parcoords\":[{\"line\":{\"colorbar\":{\"outlinewidth\":0,\"ticks\":\"\"}},\"type\":\"parcoords\"}],\"pie\":[{\"automargin\":true,\"type\":\"pie\"}],\"scatter3d\":[{\"line\":{\"colorbar\":{\"outlinewidth\":0,\"ticks\":\"\"}},\"marker\":{\"colorbar\":{\"outlinewidth\":0,\"ticks\":\"\"}},\"type\":\"scatter3d\"}],\"scattercarpet\":[{\"marker\":{\"colorbar\":{\"outlinewidth\":0,\"ticks\":\"\"}},\"type\":\"scattercarpet\"}],\"scattergeo\":[{\"marker\":{\"colorbar\":{\"outlinewidth\":0,\"ticks\":\"\"}},\"type\":\"scattergeo\"}],\"scattergl\":[{\"marker\":{\"colorbar\":{\"outlinewidth\":0,\"ticks\":\"\"}},\"type\":\"scattergl\"}],\"scattermapbox\":[{\"marker\":{\"colorbar\":{\"outlinewidth\":0,\"ticks\":\"\"}},\"type\":\"scattermapbox\"}],\"scatterpolargl\":[{\"marker\":{\"colorbar\":{\"outlinewidth\":0,\"ticks\":\"\"}},\"type\":\"scatterpolargl\"}],\"scatterpolar\":[{\"marker\":{\"colorbar\":{\"outlinewidth\":0,\"ticks\":\"\"}},\"type\":\"scatterpolar\"}],\"scatter\":[{\"marker\":{\"colorbar\":{\"outlinewidth\":0,\"ticks\":\"\"}},\"type\":\"scatter\"}],\"scatterternary\":[{\"marker\":{\"colorbar\":{\"outlinewidth\":0,\"ticks\":\"\"}},\"type\":\"scatterternary\"}],\"surface\":[{\"colorbar\":{\"outlinewidth\":0,\"ticks\":\"\"},\"colorscale\":[[0.0,\"#0d0887\"],[0.1111111111111111,\"#46039f\"],[0.2222222222222222,\"#7201a8\"],[0.3333333333333333,\"#9c179e\"],[0.4444444444444444,\"#bd3786\"],[0.5555555555555556,\"#d8576b\"],[0.6666666666666666,\"#ed7953\"],[0.7777777777777778,\"#fb9f3a\"],[0.8888888888888888,\"#fdca26\"],[1.0,\"#f0f921\"]],\"type\":\"surface\"}],\"table\":[{\"cells\":{\"fill\":{\"color\":\"#EBF0F8\"},\"line\":{\"color\":\"white\"}},\"header\":{\"fill\":{\"color\":\"#C8D4E3\"},\"line\":{\"color\":\"white\"}},\"type\":\"table\"}]},\"layout\":{\"annotationdefaults\":{\"arrowcolor\":\"#2a3f5f\",\"arrowhead\":0,\"arrowwidth\":1},\"autotypenumbers\":\"strict\",\"coloraxis\":{\"colorbar\":{\"outlinewidth\":0,\"ticks\":\"\"}},\"colorscale\":{\"diverging\":[[0,\"#8e0152\"],[0.1,\"#c51b7d\"],[0.2,\"#de77ae\"],[0.3,\"#f1b6da\"],[0.4,\"#fde0ef\"],[0.5,\"#f7f7f7\"],[0.6,\"#e6f5d0\"],[0.7,\"#b8e186\"],[0.8,\"#7fbc41\"],[0.9,\"#4d9221\"],[1,\"#276419\"]],\"sequential\":[[0.0,\"#0d0887\"],[0.1111111111111111,\"#46039f\"],[0.2222222222222222,\"#7201a8\"],[0.3333333333333333,\"#9c179e\"],[0.4444444444444444,\"#bd3786\"],[0.5555555555555556,\"#d8576b\"],[0.6666666666666666,\"#ed7953\"],[0.7777777777777778,\"#fb9f3a\"],[0.8888888888888888,\"#fdca26\"],[1.0,\"#f0f921\"]],\"sequentialminus\":[[0.0,\"#0d0887\"],[0.1111111111111111,\"#46039f\"],[0.2222222222222222,\"#7201a8\"],[0.3333333333333333,\"#9c179e\"],[0.4444444444444444,\"#bd3786\"],[0.5555555555555556,\"#d8576b\"],[0.6666666666666666,\"#ed7953\"],[0.7777777777777778,\"#fb9f3a\"],[0.8888888888888888,\"#fdca26\"],[1.0,\"#f0f921\"]]},\"colorway\":[\"#636efa\",\"#EF553B\",\"#00cc96\",\"#ab63fa\",\"#FFA15A\",\"#19d3f3\",\"#FF6692\",\"#B6E880\",\"#FF97FF\",\"#FECB52\"],\"font\":{\"color\":\"#2a3f5f\"},\"geo\":{\"bgcolor\":\"white\",\"lakecolor\":\"white\",\"landcolor\":\"white\",\"showlakes\":true,\"showland\":true,\"subunitcolor\":\"#C8D4E3\"},\"hoverlabel\":{\"align\":\"left\"},\"hovermode\":\"closest\",\"mapbox\":{\"style\":\"light\"},\"paper_bgcolor\":\"white\",\"plot_bgcolor\":\"white\",\"polar\":{\"angularaxis\":{\"gridcolor\":\"#EBF0F8\",\"linecolor\":\"#EBF0F8\",\"ticks\":\"\"},\"bgcolor\":\"white\",\"radialaxis\":{\"gridcolor\":\"#EBF0F8\",\"linecolor\":\"#EBF0F8\",\"ticks\":\"\"}},\"scene\":{\"xaxis\":{\"backgroundcolor\":\"white\",\"gridcolor\":\"#DFE8F3\",\"gridwidth\":2,\"linecolor\":\"#EBF0F8\",\"showbackground\":true,\"ticks\":\"\",\"zerolinecolor\":\"#EBF0F8\"},\"yaxis\":{\"backgroundcolor\":\"white\",\"gridcolor\":\"#DFE8F3\",\"gridwidth\":2,\"linecolor\":\"#EBF0F8\",\"showbackground\":true,\"ticks\":\"\",\"zerolinecolor\":\"#EBF0F8\"},\"zaxis\":{\"backgroundcolor\":\"white\",\"gridcolor\":\"#DFE8F3\",\"gridwidth\":2,\"linecolor\":\"#EBF0F8\",\"showbackground\":true,\"ticks\":\"\",\"zerolinecolor\":\"#EBF0F8\"}},\"shapedefaults\":{\"line\":{\"color\":\"#2a3f5f\"}},\"ternary\":{\"aaxis\":{\"gridcolor\":\"#DFE8F3\",\"linecolor\":\"#A2B1C6\",\"ticks\":\"\"},\"baxis\":{\"gridcolor\":\"#DFE8F3\",\"linecolor\":\"#A2B1C6\",\"ticks\":\"\"},\"bgcolor\":\"white\",\"caxis\":{\"gridcolor\":\"#DFE8F3\",\"linecolor\":\"#A2B1C6\",\"ticks\":\"\"}},\"title\":{\"x\":0.05},\"xaxis\":{\"automargin\":true,\"gridcolor\":\"#EBF0F8\",\"linecolor\":\"#EBF0F8\",\"ticks\":\"\",\"title\":{\"standoff\":15},\"zerolinecolor\":\"#EBF0F8\",\"zerolinewidth\":2},\"yaxis\":{\"automargin\":true,\"gridcolor\":\"#EBF0F8\",\"linecolor\":\"#EBF0F8\",\"ticks\":\"\",\"title\":{\"standoff\":15},\"zerolinecolor\":\"#EBF0F8\",\"zerolinewidth\":2}}},\"xaxis\":{\"anchor\":\"y\",\"domain\":[0.0,1.0],\"title\":{\"text\":\"TFIDF\"}},\"yaxis\":{\"anchor\":\"x\",\"domain\":[0.0,1.0],\"title\":{\"text\":\"Title\"},\"categoryorder\":\"total ascending\"},\"legend\":{\"title\":{\"text\":\"Type\"},\"tracegroupgap\":0},\"title\":{\"text\":\"Importance of 'work' in Classics and Fanfiction\"},\"barmode\":\"relative\",\"font\":{\"size\":14}},                        {\"responsive\": true}                    ).then(function(){\n",
              "                            \n",
              "var gd = document.getElementById('9eaedd02-54df-4fa7-9fd6-ba1684a31f25');\n",
              "var x = new MutationObserver(function (mutations, observer) {{\n",
              "        var display = window.getComputedStyle(gd).display;\n",
              "        if (!display || display === 'none') {{\n",
              "            console.log([gd, 'removed!']);\n",
              "            Plotly.purge(gd);\n",
              "            observer.disconnect();\n",
              "        }}\n",
              "}});\n",
              "\n",
              "// Listen for the removal of the full notebook cells\n",
              "var notebookContainer = gd.closest('#notebook-container');\n",
              "if (notebookContainer) {{\n",
              "    x.observe(notebookContainer, {childList: true});\n",
              "}}\n",
              "\n",
              "// Listen for the clearing of the current output cell\n",
              "var outputEl = gd.closest('.output');\n",
              "if (outputEl) {{\n",
              "    x.observe(outputEl, {childList: true});\n",
              "}}\n",
              "\n",
              "                        })                };                            </script>        </div>\n",
              "</body>\n",
              "</html>"
            ]
          },
          "metadata": {}
        }
      ],
      "source": [
        "analyze_tfidf('work')"
      ]
    }
  ],
  "metadata": {
    "colab": {
      "collapsed_sections": [],
      "name": "DC_Project_ClassicsVsFanfiction_tfidf_pipeline.ipynb",
      "provenance": []
    },
    "kernelspec": {
      "display_name": "Python 3 (ipykernel)",
      "language": "python",
      "name": "python3"
    },
    "language_info": {
      "codemirror_mode": {
        "name": "ipython",
        "version": 3
      },
      "file_extension": ".py",
      "mimetype": "text/x-python",
      "name": "python",
      "nbconvert_exporter": "python",
      "pygments_lexer": "ipython3",
      "version": "3.8.10"
    }
  },
  "nbformat": 4,
  "nbformat_minor": 0
}